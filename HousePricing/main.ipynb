{
 "cells": [
  {
   "cell_type": "markdown",
   "metadata": {},
   "source": [
    "# Libraries"
   ]
  },
  {
   "cell_type": "code",
   "execution_count": 94,
   "metadata": {},
   "outputs": [],
   "source": [
    "import plotly.express as px\n",
    "import matplotlib.pyplot as plt\n",
    "import seaborn as sns\n",
    "\n",
    "import pandas as pd\n",
    "\n",
    "import numpy as np"
   ]
  },
  {
   "cell_type": "markdown",
   "metadata": {},
   "source": [
    "# Data"
   ]
  },
  {
   "cell_type": "code",
   "execution_count": 95,
   "metadata": {},
   "outputs": [
    {
     "data": {
      "text/html": [
       "<div>\n",
       "<style scoped>\n",
       "    .dataframe tbody tr th:only-of-type {\n",
       "        vertical-align: middle;\n",
       "    }\n",
       "\n",
       "    .dataframe tbody tr th {\n",
       "        vertical-align: top;\n",
       "    }\n",
       "\n",
       "    .dataframe thead th {\n",
       "        text-align: right;\n",
       "    }\n",
       "</style>\n",
       "<table border=\"1\" class=\"dataframe\">\n",
       "  <thead>\n",
       "    <tr style=\"text-align: right;\">\n",
       "      <th></th>\n",
       "      <th>price</th>\n",
       "      <th>area</th>\n",
       "      <th>bedrooms</th>\n",
       "      <th>bathrooms</th>\n",
       "      <th>stories</th>\n",
       "      <th>mainroad</th>\n",
       "      <th>guestroom</th>\n",
       "      <th>basement</th>\n",
       "      <th>hotwaterheating</th>\n",
       "      <th>airconditioning</th>\n",
       "      <th>parking</th>\n",
       "      <th>prefarea</th>\n",
       "      <th>furnishingstatus</th>\n",
       "    </tr>\n",
       "  </thead>\n",
       "  <tbody>\n",
       "    <tr>\n",
       "      <th>0</th>\n",
       "      <td>13300000</td>\n",
       "      <td>7420</td>\n",
       "      <td>4</td>\n",
       "      <td>2</td>\n",
       "      <td>3</td>\n",
       "      <td>yes</td>\n",
       "      <td>no</td>\n",
       "      <td>no</td>\n",
       "      <td>no</td>\n",
       "      <td>yes</td>\n",
       "      <td>2</td>\n",
       "      <td>yes</td>\n",
       "      <td>furnished</td>\n",
       "    </tr>\n",
       "    <tr>\n",
       "      <th>1</th>\n",
       "      <td>12250000</td>\n",
       "      <td>8960</td>\n",
       "      <td>4</td>\n",
       "      <td>4</td>\n",
       "      <td>4</td>\n",
       "      <td>yes</td>\n",
       "      <td>no</td>\n",
       "      <td>no</td>\n",
       "      <td>no</td>\n",
       "      <td>yes</td>\n",
       "      <td>3</td>\n",
       "      <td>no</td>\n",
       "      <td>furnished</td>\n",
       "    </tr>\n",
       "    <tr>\n",
       "      <th>2</th>\n",
       "      <td>12250000</td>\n",
       "      <td>9960</td>\n",
       "      <td>3</td>\n",
       "      <td>2</td>\n",
       "      <td>2</td>\n",
       "      <td>yes</td>\n",
       "      <td>no</td>\n",
       "      <td>yes</td>\n",
       "      <td>no</td>\n",
       "      <td>no</td>\n",
       "      <td>2</td>\n",
       "      <td>yes</td>\n",
       "      <td>semi-furnished</td>\n",
       "    </tr>\n",
       "    <tr>\n",
       "      <th>3</th>\n",
       "      <td>12215000</td>\n",
       "      <td>7500</td>\n",
       "      <td>4</td>\n",
       "      <td>2</td>\n",
       "      <td>2</td>\n",
       "      <td>yes</td>\n",
       "      <td>no</td>\n",
       "      <td>yes</td>\n",
       "      <td>no</td>\n",
       "      <td>yes</td>\n",
       "      <td>3</td>\n",
       "      <td>yes</td>\n",
       "      <td>furnished</td>\n",
       "    </tr>\n",
       "    <tr>\n",
       "      <th>4</th>\n",
       "      <td>11410000</td>\n",
       "      <td>7420</td>\n",
       "      <td>4</td>\n",
       "      <td>1</td>\n",
       "      <td>2</td>\n",
       "      <td>yes</td>\n",
       "      <td>yes</td>\n",
       "      <td>yes</td>\n",
       "      <td>no</td>\n",
       "      <td>yes</td>\n",
       "      <td>2</td>\n",
       "      <td>no</td>\n",
       "      <td>furnished</td>\n",
       "    </tr>\n",
       "    <tr>\n",
       "      <th>5</th>\n",
       "      <td>10850000</td>\n",
       "      <td>7500</td>\n",
       "      <td>3</td>\n",
       "      <td>3</td>\n",
       "      <td>1</td>\n",
       "      <td>yes</td>\n",
       "      <td>no</td>\n",
       "      <td>yes</td>\n",
       "      <td>no</td>\n",
       "      <td>yes</td>\n",
       "      <td>2</td>\n",
       "      <td>yes</td>\n",
       "      <td>semi-furnished</td>\n",
       "    </tr>\n",
       "    <tr>\n",
       "      <th>6</th>\n",
       "      <td>10150000</td>\n",
       "      <td>8580</td>\n",
       "      <td>4</td>\n",
       "      <td>3</td>\n",
       "      <td>4</td>\n",
       "      <td>yes</td>\n",
       "      <td>no</td>\n",
       "      <td>no</td>\n",
       "      <td>no</td>\n",
       "      <td>yes</td>\n",
       "      <td>2</td>\n",
       "      <td>yes</td>\n",
       "      <td>semi-furnished</td>\n",
       "    </tr>\n",
       "    <tr>\n",
       "      <th>7</th>\n",
       "      <td>10150000</td>\n",
       "      <td>16200</td>\n",
       "      <td>5</td>\n",
       "      <td>3</td>\n",
       "      <td>2</td>\n",
       "      <td>yes</td>\n",
       "      <td>no</td>\n",
       "      <td>no</td>\n",
       "      <td>no</td>\n",
       "      <td>no</td>\n",
       "      <td>0</td>\n",
       "      <td>no</td>\n",
       "      <td>unfurnished</td>\n",
       "    </tr>\n",
       "    <tr>\n",
       "      <th>8</th>\n",
       "      <td>9870000</td>\n",
       "      <td>8100</td>\n",
       "      <td>4</td>\n",
       "      <td>1</td>\n",
       "      <td>2</td>\n",
       "      <td>yes</td>\n",
       "      <td>yes</td>\n",
       "      <td>yes</td>\n",
       "      <td>no</td>\n",
       "      <td>yes</td>\n",
       "      <td>2</td>\n",
       "      <td>yes</td>\n",
       "      <td>furnished</td>\n",
       "    </tr>\n",
       "    <tr>\n",
       "      <th>9</th>\n",
       "      <td>9800000</td>\n",
       "      <td>5750</td>\n",
       "      <td>3</td>\n",
       "      <td>2</td>\n",
       "      <td>4</td>\n",
       "      <td>yes</td>\n",
       "      <td>yes</td>\n",
       "      <td>no</td>\n",
       "      <td>no</td>\n",
       "      <td>yes</td>\n",
       "      <td>1</td>\n",
       "      <td>yes</td>\n",
       "      <td>unfurnished</td>\n",
       "    </tr>\n",
       "  </tbody>\n",
       "</table>\n",
       "</div>"
      ],
      "text/plain": [
       "      price   area  bedrooms  bathrooms  stories mainroad guestroom basement  \\\n",
       "0  13300000   7420         4          2        3      yes        no       no   \n",
       "1  12250000   8960         4          4        4      yes        no       no   \n",
       "2  12250000   9960         3          2        2      yes        no      yes   \n",
       "3  12215000   7500         4          2        2      yes        no      yes   \n",
       "4  11410000   7420         4          1        2      yes       yes      yes   \n",
       "5  10850000   7500         3          3        1      yes        no      yes   \n",
       "6  10150000   8580         4          3        4      yes        no       no   \n",
       "7  10150000  16200         5          3        2      yes        no       no   \n",
       "8   9870000   8100         4          1        2      yes       yes      yes   \n",
       "9   9800000   5750         3          2        4      yes       yes       no   \n",
       "\n",
       "  hotwaterheating airconditioning  parking prefarea furnishingstatus  \n",
       "0              no             yes        2      yes        furnished  \n",
       "1              no             yes        3       no        furnished  \n",
       "2              no              no        2      yes   semi-furnished  \n",
       "3              no             yes        3      yes        furnished  \n",
       "4              no             yes        2       no        furnished  \n",
       "5              no             yes        2      yes   semi-furnished  \n",
       "6              no             yes        2      yes   semi-furnished  \n",
       "7              no              no        0       no      unfurnished  \n",
       "8              no             yes        2      yes        furnished  \n",
       "9              no             yes        1      yes      unfurnished  "
      ]
     },
     "metadata": {},
     "output_type": "display_data"
    }
   ],
   "source": [
    "data = pd.read_csv('Housing.csv')\n",
    "display(data.head(10))"
   ]
  },
  {
   "cell_type": "markdown",
   "metadata": {},
   "source": [
    "Data Information "
   ]
  },
  {
   "cell_type": "code",
   "execution_count": 96,
   "metadata": {},
   "outputs": [
    {
     "name": "stdout",
     "output_type": "stream",
     "text": [
      "<class 'pandas.core.frame.DataFrame'>\n",
      "RangeIndex: 545 entries, 0 to 544\n",
      "Data columns (total 13 columns):\n",
      " #   Column            Non-Null Count  Dtype \n",
      "---  ------            --------------  ----- \n",
      " 0   price             545 non-null    int64 \n",
      " 1   area              545 non-null    int64 \n",
      " 2   bedrooms          545 non-null    int64 \n",
      " 3   bathrooms         545 non-null    int64 \n",
      " 4   stories           545 non-null    int64 \n",
      " 5   mainroad          545 non-null    object\n",
      " 6   guestroom         545 non-null    object\n",
      " 7   basement          545 non-null    object\n",
      " 8   hotwaterheating   545 non-null    object\n",
      " 9   airconditioning   545 non-null    object\n",
      " 10  parking           545 non-null    int64 \n",
      " 11  prefarea          545 non-null    object\n",
      " 12  furnishingstatus  545 non-null    object\n",
      "dtypes: int64(6), object(7)\n",
      "memory usage: 55.5+ KB\n"
     ]
    }
   ],
   "source": [
    "data.info()"
   ]
  },
  {
   "cell_type": "code",
   "execution_count": 97,
   "metadata": {},
   "outputs": [
    {
     "data": {
      "text/plain": [
       "price               0\n",
       "area                0\n",
       "bedrooms            0\n",
       "bathrooms           0\n",
       "stories             0\n",
       "mainroad            0\n",
       "guestroom           0\n",
       "basement            0\n",
       "hotwaterheating     0\n",
       "airconditioning     0\n",
       "parking             0\n",
       "prefarea            0\n",
       "furnishingstatus    0\n",
       "dtype: int64"
      ]
     },
     "execution_count": 97,
     "metadata": {},
     "output_type": "execute_result"
    }
   ],
   "source": [
    "data.isnull().sum()"
   ]
  },
  {
   "cell_type": "markdown",
   "metadata": {},
   "source": [
    "# EDA"
   ]
  },
  {
   "cell_type": "markdown",
   "metadata": {},
   "source": [
    "ScatterPlot "
   ]
  },
  {
   "cell_type": "code",
   "execution_count": 98,
   "metadata": {},
   "outputs": [
    {
     "data": {
      "application/vnd.plotly.v1+json": {
       "config": {
        "plotlyServerURL": "https://plot.ly"
       },
       "data": [
        {
         "hovertemplate": "prefarea=yes<br>furnishingstatus=furnished<br>guestroom=no<br>basement=no<br>area=%{x}<br>price=%{y}<extra></extra>",
         "legendgroup": "yes, furnished",
         "marker": {
          "color": "#636efa",
          "symbol": "circle"
         },
         "mode": "markers",
         "name": "yes, furnished",
         "orientation": "v",
         "showlegend": true,
         "type": "scatter",
         "x": [
          7420,
          4880,
          7482,
          6360,
          6600,
          6360,
          12090,
          6420,
          6500,
          11410,
          6862,
          3520,
          4320,
          2856,
          2145,
          2145
         ],
         "xaxis": "x3",
         "y": [
          13300000,
          8295000,
          8043000,
          7840000,
          7490000,
          7035000,
          6790000,
          6650000,
          6650000,
          5110000,
          4830000,
          4515000,
          4060000,
          3780000,
          3465000,
          3430000
         ],
         "yaxis": "y3"
        },
        {
         "hovertemplate": "prefarea=yes<br>furnishingstatus=furnished<br>guestroom=no<br>basement=yes<br>area=%{x}<br>price=%{y}<extra></extra>",
         "legendgroup": "yes, furnished",
         "marker": {
          "color": "#636efa",
          "symbol": "circle"
         },
         "mode": "markers",
         "name": "yes, furnished",
         "orientation": "v",
         "showlegend": false,
         "type": "scatter",
         "x": [
          7500,
          13200,
          6550,
          11175,
          6600,
          10500,
          9000,
          9620,
          6420,
          6100,
          2787,
          3600,
          2145,
          2145
         ],
         "xaxis": "x4",
         "y": [
          12215000,
          9800000,
          7875000,
          7000000,
          6685000,
          6615000,
          6300000,
          6083000,
          5950000,
          5530000,
          4235000,
          4098500,
          3332000,
          3290000
         ],
         "yaxis": "y4"
        },
        {
         "hovertemplate": "prefarea=yes<br>furnishingstatus=furnished<br>guestroom=yes<br>basement=no<br>area=%{x}<br>price=%{y}<extra></extra>",
         "legendgroup": "yes, furnished",
         "marker": {
          "color": "#636efa",
          "symbol": "circle"
         },
         "mode": "markers",
         "name": "yes, furnished",
         "orientation": "v",
         "showlegend": false,
         "type": "scatter",
         "x": [
          9000
         ],
         "xaxis": "x",
         "y": [
          7245000
         ],
         "yaxis": "y"
        },
        {
         "hovertemplate": "prefarea=yes<br>furnishingstatus=furnished<br>guestroom=yes<br>basement=yes<br>area=%{x}<br>price=%{y}<extra></extra>",
         "legendgroup": "yes, furnished",
         "marker": {
          "color": "#636efa",
          "symbol": "circle"
         },
         "mode": "markers",
         "name": "yes, furnished",
         "orientation": "v",
         "showlegend": false,
         "type": "scatter",
         "x": [
          8100,
          6540,
          5700,
          6750,
          5500,
          6540,
          6360,
          5400,
          6710,
          7200,
          6600,
          4990
         ],
         "xaxis": "x2",
         "y": [
          9870000,
          8540000,
          6650000,
          6419000,
          6195000,
          5950000,
          5740000,
          5565000,
          5390000,
          5215000,
          5040000,
          4543000
         ],
         "yaxis": "y2"
        },
        {
         "hovertemplate": "prefarea=yes<br>furnishingstatus=semi-furnished<br>guestroom=no<br>basement=no<br>area=%{x}<br>price=%{y}<extra></extra>",
         "legendgroup": "yes, semi-furnished",
         "marker": {
          "color": "#636efa",
          "symbol": "diamond"
         },
         "mode": "markers",
         "name": "yes, semi-furnished",
         "orientation": "v",
         "showlegend": true,
         "type": "scatter",
         "x": [
          8580,
          6550,
          7800,
          6420,
          6000,
          11460,
          6360,
          4400,
          10269,
          7980,
          6040,
          4815,
          5400,
          4320,
          3840,
          3520,
          2880,
          10360,
          3520,
          3480,
          2275,
          4000,
          2398
         ],
         "xaxis": "x3",
         "y": [
          10150000,
          9310000,
          9240000,
          8855000,
          6629000,
          5873000,
          5600000,
          5565000,
          5250000,
          5145000,
          4830000,
          4830000,
          4690000,
          4690000,
          4585000,
          4550000,
          4403000,
          4305000,
          4200000,
          3745000,
          3640000,
          3605000,
          3118850
         ],
         "yaxis": "y3"
        },
        {
         "hovertemplate": "prefarea=yes<br>furnishingstatus=semi-furnished<br>guestroom=no<br>basement=yes<br>area=%{x}<br>price=%{y}<extra></extra>",
         "legendgroup": "yes, semi-furnished",
         "marker": {
          "color": "#636efa",
          "symbol": "diamond"
         },
         "mode": "markers",
         "name": "yes, semi-furnished",
         "orientation": "v",
         "showlegend": false,
         "type": "scatter",
         "x": [
          9960,
          7500,
          5500,
          11440,
          4000,
          5450,
          7020,
          6254,
          7000,
          6600,
          6050,
          6100,
          3400,
          2015
         ],
         "xaxis": "x4",
         "y": [
          12250000,
          10850000,
          8400000,
          7343000,
          6790000,
          6160000,
          5950000,
          5950000,
          5803000,
          5600000,
          5243000,
          5110000,
          4277000,
          3850000
         ],
         "yaxis": "y4"
        },
        {
         "hovertemplate": "prefarea=yes<br>furnishingstatus=semi-furnished<br>guestroom=yes<br>basement=no<br>area=%{x}<br>price=%{y}<extra></extra>",
         "legendgroup": "yes, semi-furnished",
         "marker": {
          "color": "#636efa",
          "symbol": "diamond"
         },
         "mode": "markers",
         "name": "yes, semi-furnished",
         "orientation": "v",
         "showlegend": false,
         "type": "scatter",
         "x": [
          6100,
          2176
         ],
         "xaxis": "x",
         "y": [
          5460000,
          3850000
         ],
         "yaxis": "y"
        },
        {
         "hovertemplate": "prefarea=yes<br>furnishingstatus=semi-furnished<br>guestroom=yes<br>basement=yes<br>area=%{x}<br>price=%{y}<extra></extra>",
         "legendgroup": "yes, semi-furnished",
         "marker": {
          "color": "#636efa",
          "symbol": "diamond"
         },
         "mode": "markers",
         "name": "yes, semi-furnished",
         "orientation": "v",
         "showlegend": false,
         "type": "scatter",
         "x": [
          6000,
          7440,
          6400,
          6600,
          8000,
          7231,
          6660,
          6900,
          6600,
          6825,
          7085,
          2870,
          5320
         ],
         "xaxis": "x2",
         "y": [
          8463000,
          7420000,
          6300000,
          6090000,
          6020000,
          5950000,
          5652500,
          5523000,
          5460000,
          5425000,
          5229000,
          4620000,
          4550000
         ],
         "yaxis": "y2"
        },
        {
         "hovertemplate": "prefarea=yes<br>furnishingstatus=unfurnished<br>guestroom=no<br>basement=no<br>area=%{x}<br>price=%{y}<extra></extra>",
         "legendgroup": "yes, unfurnished",
         "marker": {
          "color": "#636efa",
          "symbol": "square"
         },
         "mode": "markers",
         "name": "yes, unfurnished",
         "orientation": "v",
         "showlegend": true,
         "type": "scatter",
         "x": [
          7440,
          5020,
          6600,
          5500,
          5300,
          5720,
          10240,
          5360,
          4880,
          2145,
          3520,
          3512,
          9500,
          5320,
          5300
         ],
         "xaxis": "x3",
         "y": [
          7420000,
          6720000,
          6293000,
          6230000,
          5250000,
          5075000,
          4760000,
          4550000,
          4403000,
          4200000,
          3633000,
          3500000,
          3500000,
          3465000,
          2233000
         ],
         "yaxis": "y3"
        },
        {
         "hovertemplate": "prefarea=yes<br>furnishingstatus=unfurnished<br>guestroom=no<br>basement=yes<br>area=%{x}<br>price=%{y}<extra></extra>",
         "legendgroup": "yes, unfurnished",
         "marker": {
          "color": "#636efa",
          "symbol": "square"
         },
         "mode": "markers",
         "name": "yes, unfurnished",
         "orientation": "v",
         "showlegend": false,
         "type": "scatter",
         "x": [
          6670,
          6600,
          6420,
          7160,
          7800,
          2145,
          2850,
          2610,
          1950
         ],
         "xaxis": "x4",
         "y": [
          6510000,
          6230000,
          6125000,
          5880000,
          5320000,
          3920000,
          3640000,
          3430000,
          3430000
         ],
         "yaxis": "y4"
        },
        {
         "hovertemplate": "prefarea=yes<br>furnishingstatus=unfurnished<br>guestroom=yes<br>basement=no<br>area=%{x}<br>price=%{y}<extra></extra>",
         "legendgroup": "yes, unfurnished",
         "marker": {
          "color": "#636efa",
          "symbol": "square"
         },
         "mode": "markers",
         "name": "yes, unfurnished",
         "orientation": "v",
         "showlegend": false,
         "type": "scatter",
         "x": [
          5750
         ],
         "xaxis": "x",
         "y": [
          9800000
         ],
         "yaxis": "y"
        },
        {
         "hovertemplate": "prefarea=yes<br>furnishingstatus=unfurnished<br>guestroom=yes<br>basement=yes<br>area=%{x}<br>price=%{y}<extra></extra>",
         "legendgroup": "yes, unfurnished",
         "marker": {
          "color": "#636efa",
          "symbol": "square"
         },
         "mode": "markers",
         "name": "yes, unfurnished",
         "orientation": "v",
         "showlegend": false,
         "type": "scatter",
         "x": [
          6600,
          7410,
          6000,
          6900,
          5136,
          8400,
          3800,
          4050
         ],
         "xaxis": "x2",
         "y": [
          9100000,
          6475000,
          6265000,
          6020000,
          5600000,
          5250000,
          5250000,
          3990000
         ],
         "yaxis": "y2"
        },
        {
         "hovertemplate": "prefarea=no<br>furnishingstatus=furnished<br>guestroom=no<br>basement=no<br>area=%{x}<br>price=%{y}<extra></extra>",
         "legendgroup": "no, furnished",
         "marker": {
          "color": "#EF553B",
          "symbol": "circle"
         },
         "mode": "markers",
         "name": "no, furnished",
         "orientation": "v",
         "showlegend": true,
         "type": "scatter",
         "x": [
          8960,
          3500,
          8500,
          8800,
          7000,
          9000,
          6000,
          6000,
          6240,
          6000,
          8250,
          8580,
          4300,
          7320,
          6525,
          5000,
          8520,
          7600,
          4200,
          12900,
          4000,
          3640,
          4000,
          8250,
          3162,
          4500,
          3500,
          6360,
          4500,
          4360,
          7770,
          7000,
          3960,
          3290,
          3180,
          7152,
          8400,
          8250,
          6930,
          4050,
          5450,
          3600,
          3000,
          4500,
          5900,
          3640,
          2700,
          3120,
          3450,
          4600,
          2700,
          2640,
          3960,
          3000,
          2475,
          2787,
          2910
         ],
         "xaxis": "x3",
         "y": [
          12250000,
          9240000,
          8960000,
          8575000,
          8080940,
          7980000,
          7560000,
          7525000,
          7070000,
          6860000,
          6510000,
          6440000,
          6083000,
          5950000,
          5950000,
          5600000,
          5250000,
          5040000,
          4907000,
          4900000,
          4585000,
          4550000,
          4480000,
          4480000,
          4473000,
          4340000,
          4340000,
          4270000,
          4270000,
          4270000,
          4270000,
          4200000,
          3990000,
          3920000,
          3885000,
          3850000,
          3780000,
          3773000,
          3773000,
          3710000,
          3703000,
          3675000,
          3640000,
          3570000,
          3500000,
          3395000,
          3353000,
          3220000,
          3150000,
          3010000,
          2940000,
          2835000,
          2800000,
          2520000,
          2380000,
          2380000,
          1750000
         ],
         "yaxis": "y3"
        },
        {
         "hovertemplate": "prefarea=no<br>furnishingstatus=furnished<br>guestroom=no<br>basement=yes<br>area=%{x}<br>price=%{y}<extra></extra>",
         "legendgroup": "no, furnished",
         "marker": {
          "color": "#EF553B",
          "symbol": "circle"
         },
         "mode": "markers",
         "name": "no, furnished",
         "orientation": "v",
         "showlegend": false,
         "type": "scatter",
         "x": [
          8880,
          13200,
          4040,
          4260,
          6321,
          6000,
          3745,
          2550,
          6360,
          4032,
          4500,
          3460,
          3816,
          2520,
          3630,
          3150,
          4500,
          3185,
          3600
         ],
         "xaxis": "x4",
         "y": [
          6930000,
          6930000,
          6650000,
          5250000,
          4760000,
          4690000,
          4655000,
          4550000,
          4473000,
          4319000,
          4200000,
          4025000,
          3920000,
          3773000,
          3675000,
          3570000,
          3570000,
          3360000,
          2590000
         ],
         "yaxis": "y4"
        },
        {
         "hovertemplate": "prefarea=no<br>furnishingstatus=furnished<br>guestroom=yes<br>basement=no<br>area=%{x}<br>price=%{y}<extra></extra>",
         "legendgroup": "no, furnished",
         "marker": {
          "color": "#EF553B",
          "symbol": "circle"
         },
         "mode": "markers",
         "name": "no, furnished",
         "orientation": "v",
         "showlegend": false,
         "type": "scatter",
         "x": [
          4600,
          6000,
          6000,
          6000,
          4800,
          6350,
          3700,
          5500,
          6210
         ],
         "xaxis": "x",
         "y": [
          8890000,
          7350000,
          7210000,
          6650000,
          6405000,
          6195000,
          5950000,
          5873000,
          5460000
         ],
         "yaxis": "y"
        },
        {
         "hovertemplate": "prefarea=no<br>furnishingstatus=furnished<br>guestroom=yes<br>basement=yes<br>area=%{x}<br>price=%{y}<extra></extra>",
         "legendgroup": "no, furnished",
         "marker": {
          "color": "#EF553B",
          "symbol": "circle"
         },
         "mode": "markers",
         "name": "no, furnished",
         "orientation": "v",
         "showlegend": false,
         "type": "scatter",
         "x": [
          7420,
          8050,
          4560,
          6840,
          6800,
          4700,
          2817,
          3150,
          3000,
          7260,
          4785,
          6060
         ],
         "xaxis": "x2",
         "y": [
          11410000,
          8645000,
          8645000,
          8120000,
          6020000,
          5600000,
          5495000,
          5460000,
          5110000,
          3920000,
          3395000,
          3290000
         ],
         "yaxis": "y2"
        },
        {
         "hovertemplate": "prefarea=no<br>furnishingstatus=semi-furnished<br>guestroom=no<br>basement=no<br>area=%{x}<br>price=%{y}<extra></extra>",
         "legendgroup": "no, semi-furnished",
         "marker": {
          "color": "#EF553B",
          "symbol": "diamond"
         },
         "mode": "markers",
         "name": "no, semi-furnished",
         "orientation": "v",
         "showlegend": true,
         "type": "scatter",
         "x": [
          8875,
          7000,
          6000,
          6000,
          6000,
          5150,
          8880,
          4260,
          6000,
          3760,
          5000,
          6000,
          4100,
          3240,
          15600,
          5200,
          4640,
          5000,
          10500,
          10500,
          5500,
          3650,
          7980,
          4600,
          6540,
          3180,
          3410,
          5948,
          5400,
          6300,
          2970,
          3420,
          6440,
          5170,
          3630,
          3760,
          3510,
          9860,
          4510,
          4040,
          3510,
          3968,
          4920,
          4950,
          6450,
          4400,
          2610,
          2747,
          4000,
          2325,
          4600,
          5800,
          4079,
          3450,
          4840,
          4080,
          4632,
          3680,
          4040,
          5600,
          4340,
          3630,
          5400,
          3460,
          6480,
          3000,
          8080,
          5300,
          4080,
          3850,
          4820,
          3420,
          3600,
          4040,
          6020,
          3584,
          5640,
          4280,
          4130,
          4500,
          4240,
          4600,
          3990,
          3640,
          7350,
          4960,
          3480,
          3792,
          4500,
          4095,
          6750,
          9000,
          4500,
          3090,
          3240,
          2835,
          3630,
          3000,
          3480,
          6615,
          6000,
          3300,
          2000,
          3480,
          4000,
          3000,
          2400
         ],
         "xaxis": "x3",
         "y": [
          8400000,
          8400000,
          7910000,
          7700000,
          7560000,
          7350000,
          7070000,
          6650000,
          6580000,
          6510000,
          6440000,
          6300000,
          6300000,
          6107500,
          5943000,
          5810000,
          5740000,
          5740000,
          5600000,
          5600000,
          5600000,
          5530000,
          5495000,
          5285000,
          5250000,
          5215000,
          5145000,
          4935000,
          4900000,
          4900000,
          4900000,
          4767000,
          4753000,
          4690000,
          4690000,
          4550000,
          4515000,
          4515000,
          4480000,
          4480000,
          4473000,
          4410000,
          4403000,
          4382000,
          4340000,
          4305000,
          4200000,
          4200000,
          4200000,
          4200000,
          4200000,
          4200000,
          4200000,
          4193000,
          4165000,
          4165000,
          4130000,
          4095000,
          4095000,
          4095000,
          4060000,
          4025000,
          4025000,
          4007500,
          3990000,
          3920000,
          3920000,
          3850000,
          3850000,
          3850000,
          3780000,
          3780000,
          3780000,
          3710000,
          3710000,
          3710000,
          3675000,
          3640000,
          3640000,
          3605000,
          3500000,
          3500000,
          3500000,
          3500000,
          3500000,
          3360000,
          3290000,
          3290000,
          3255000,
          3150000,
          3150000,
          3150000,
          3080000,
          3010000,
          3010000,
          3010000,
          3010000,
          2961000,
          2940000,
          2940000,
          2870000,
          2835000,
          2660000,
          2660000,
          2660000,
          2485000,
          1767150
         ],
         "yaxis": "y3"
        },
        {
         "hovertemplate": "prefarea=no<br>furnishingstatus=semi-furnished<br>guestroom=no<br>basement=yes<br>area=%{x}<br>price=%{y}<extra></extra>",
         "legendgroup": "no, semi-furnished",
         "marker": {
          "color": "#EF553B",
          "symbol": "diamond"
         },
         "mode": "markers",
         "name": "no, semi-furnished",
         "orientation": "v",
         "showlegend": false,
         "type": "scatter",
         "x": [
          6000,
          4320,
          4000,
          3960,
          7200,
          3300,
          5500,
          4500,
          4410,
          2800,
          4520,
          4120,
          3000,
          3420,
          4995,
          8100,
          9166,
          3880,
          5010,
          4510,
          3450,
          4900,
          1905,
          8250,
          4046,
          5985,
          6060,
          3000,
          4500,
          4500,
          3180,
          3150,
          3120,
          3570,
          3180,
          3520,
          3036,
          3100,
          3500,
          3450,
          2160,
          1836
         ],
         "xaxis": "x4",
         "y": [
          9100000,
          8750000,
          6615000,
          6475000,
          6300000,
          5530000,
          5250000,
          5215000,
          4970000,
          4956000,
          4900000,
          4900000,
          4900000,
          4893000,
          4893000,
          4795000,
          4760000,
          4620000,
          4620000,
          4613000,
          4515000,
          4410000,
          4340000,
          4193000,
          4165000,
          4130000,
          4123000,
          4060000,
          4007500,
          3990000,
          3850000,
          3815000,
          3703000,
          3640000,
          3640000,
          3640000,
          3500000,
          3360000,
          3150000,
          3150000,
          3080000,
          2275000
         ],
         "yaxis": "y4"
        },
        {
         "hovertemplate": "prefarea=no<br>furnishingstatus=semi-furnished<br>guestroom=yes<br>basement=no<br>area=%{x}<br>price=%{y}<extra></extra>",
         "legendgroup": "no, semi-furnished",
         "marker": {
          "color": "#EF553B",
          "symbol": "diamond"
         },
         "mode": "markers",
         "name": "no, semi-furnished",
         "orientation": "v",
         "showlegend": false,
         "type": "scatter",
         "x": [
          6000,
          7680,
          6000,
          5500,
          6615,
          5828,
          9800,
          5680,
          6650
         ],
         "xaxis": "x",
         "y": [
          7350000,
          7210000,
          7140000,
          6195000,
          6090000,
          5810000,
          5250000,
          4620000,
          4235000
         ],
         "yaxis": "y"
        },
        {
         "hovertemplate": "prefarea=no<br>furnishingstatus=semi-furnished<br>guestroom=yes<br>basement=yes<br>area=%{x}<br>price=%{y}<extra></extra>",
         "legendgroup": "no, semi-furnished",
         "marker": {
          "color": "#EF553B",
          "symbol": "diamond"
         },
         "mode": "markers",
         "name": "no, semi-furnished",
         "orientation": "v",
         "showlegend": false,
         "type": "scatter",
         "x": [
          6000,
          3540,
          10700,
          4800,
          8150,
          7686,
          4095,
          4770,
          5800,
          4646,
          9667,
          4100,
          3750,
          4075,
          5850,
          5500,
          3780
         ],
         "xaxis": "x2",
         "y": [
          9681000,
          5040000,
          5040000,
          5033000,
          5005000,
          4970000,
          4900000,
          4900000,
          4900000,
          4900000,
          4690000,
          4543000,
          4445000,
          4340000,
          4200000,
          3920000,
          3885000
         ],
         "yaxis": "y2"
        },
        {
         "hovertemplate": "prefarea=no<br>furnishingstatus=unfurnished<br>guestroom=no<br>basement=no<br>area=%{x}<br>price=%{y}<extra></extra>",
         "legendgroup": "no, unfurnished",
         "marker": {
          "color": "#EF553B",
          "symbol": "square"
         },
         "mode": "markers",
         "name": "no, unfurnished",
         "orientation": "v",
         "showlegend": true,
         "type": "scatter",
         "x": [
          16200,
          7475,
          6480,
          6325,
          6000,
          7700,
          6000,
          4500,
          8372,
          6500,
          4800,
          6000,
          5400,
          5800,
          6720,
          4160,
          8400,
          5885,
          3900,
          6360,
          5500,
          4410,
          4992,
          3350,
          5830,
          3600,
          3630,
          3640,
          3850,
          3650,
          2135,
          7424,
          3480,
          3600,
          3120,
          5880,
          12944,
          4900,
          3060,
          4000,
          3185,
          3850,
          4040,
          3500,
          4120,
          4750,
          3720,
          3750,
          4040,
          4775,
          2500,
          4040,
          5880,
          3930,
          4370,
          2684,
          4320,
          3069,
          4500,
          3000,
          3850,
          3500,
          8100,
          3800,
          5076,
          3750,
          8050,
          4352,
          4960,
          3600,
          3660,
          3150,
          3040,
          3630,
          5400,
          5200,
          4350,
          6800,
          4000,
          4000,
          3934,
          2800,
          2430,
          3185,
          4000,
          2910,
          3600,
          4400,
          2880,
          3180,
          4400,
          3000,
          4840,
          7700,
          3635,
          3264,
          3640,
          3180,
          3970,
          1950,
          3000,
          2400,
          3000,
          3360,
          3420,
          1700,
          3649,
          2990,
          3620,
          3850
         ],
         "xaxis": "x3",
         "y": [
          10150000,
          8400000,
          7700000,
          7420000,
          7350000,
          6895000,
          6755000,
          6160000,
          6090000,
          5880000,
          5810000,
          5775000,
          5740000,
          5740000,
          4900000,
          4830000,
          4550000,
          4480000,
          4375000,
          4270000,
          4200000,
          4200000,
          4060000,
          3836000,
          3780000,
          3710000,
          3675000,
          3570000,
          3535000,
          3500000,
          3500000,
          3500000,
          3500000,
          3500000,
          3500000,
          3500000,
          3500000,
          3493000,
          3465000,
          3430000,
          3430000,
          3430000,
          3423000,
          3360000,
          3360000,
          3360000,
          3360000,
          3360000,
          3325000,
          3325000,
          3290000,
          3290000,
          3290000,
          3255000,
          3220000,
          3220000,
          3220000,
          3150000,
          3143000,
          3115000,
          3115000,
          3115000,
          3087000,
          3045000,
          3010000,
          3010000,
          3003000,
          2975000,
          2940000,
          2940000,
          2940000,
          2940000,
          2870000,
          2870000,
          2870000,
          2852500,
          2835000,
          2730000,
          2730000,
          2695000,
          2660000,
          2660000,
          2660000,
          2653000,
          2653000,
          2604000,
          2590000,
          2590000,
          2520000,
          2520000,
          2485000,
          2450000,
          2450000,
          2450000,
          2408000,
          2380000,
          2345000,
          2310000,
          2275000,
          2240000,
          2135000,
          2100000,
          2100000,
          2100000,
          1960000,
          1890000,
          1890000,
          1855000,
          1750000,
          1750000
         ],
         "yaxis": "y3"
        },
        {
         "hovertemplate": "prefarea=no<br>furnishingstatus=unfurnished<br>guestroom=no<br>basement=yes<br>area=%{x}<br>price=%{y}<extra></extra>",
         "legendgroup": "no, unfurnished",
         "marker": {
          "color": "#EF553B",
          "symbol": "square"
         },
         "mode": "markers",
         "name": "no, unfurnished",
         "orientation": "v",
         "showlegend": false,
         "type": "scatter",
         "x": [
          7950,
          4300,
          4800,
          3000,
          4350,
          7000,
          5040,
          2953,
          3640,
          5900,
          4100,
          3450,
          3180,
          3640,
          1650,
          5495,
          4960,
          5850,
          2650,
          3210,
          3970,
          3000
         ],
         "xaxis": "x4",
         "y": [
          8400000,
          7455000,
          5600000,
          5110000,
          4865000,
          4795000,
          4200000,
          4200000,
          4200000,
          4060000,
          3990000,
          3395000,
          3290000,
          3234000,
          3150000,
          3129000,
          3080000,
          2940000,
          2800000,
          2450000,
          2275000,
          1820000
         ],
         "yaxis": "y4"
        },
        {
         "hovertemplate": "prefarea=no<br>furnishingstatus=unfurnished<br>guestroom=yes<br>basement=no<br>area=%{x}<br>price=%{y}<extra></extra>",
         "legendgroup": "no, unfurnished",
         "marker": {
          "color": "#EF553B",
          "symbol": "square"
         },
         "mode": "markers",
         "name": "no, unfurnished",
         "orientation": "v",
         "showlegend": false,
         "type": "scatter",
         "x": [
          6000,
          3630,
          3240,
          3500
         ],
         "xaxis": "x",
         "y": [
          7962500,
          2660000,
          2450000,
          2450000
         ],
         "yaxis": "y"
        },
        {
         "hovertemplate": "prefarea=no<br>furnishingstatus=unfurnished<br>guestroom=yes<br>basement=yes<br>area=%{x}<br>price=%{y}<extra></extra>",
         "legendgroup": "no, unfurnished",
         "marker": {
          "color": "#EF553B",
          "symbol": "square"
         },
         "mode": "markers",
         "name": "no, unfurnished",
         "orientation": "v",
         "showlegend": false,
         "type": "scatter",
         "x": [
          7155,
          5960,
          4800,
          6450,
          4160,
          2175,
          5960,
          3986,
          3090
         ],
         "xaxis": "x2",
         "y": [
          8680000,
          8190000,
          5866000,
          5383000,
          4620000,
          4270000,
          3640000,
          3150000,
          3080000
         ],
         "yaxis": "y2"
        }
       ],
       "layout": {
        "annotations": [
         {
          "font": {},
          "showarrow": false,
          "text": "basement=no",
          "x": 0.24,
          "xanchor": "center",
          "xref": "paper",
          "y": 1,
          "yanchor": "bottom",
          "yref": "paper"
         },
         {
          "font": {},
          "showarrow": false,
          "text": "basement=yes",
          "x": 0.74,
          "xanchor": "center",
          "xref": "paper",
          "y": 1,
          "yanchor": "bottom",
          "yref": "paper"
         },
         {
          "font": {},
          "showarrow": false,
          "text": "guestroom=yes",
          "textangle": 90,
          "x": 0.98,
          "xanchor": "left",
          "xref": "paper",
          "y": 0.2425,
          "yanchor": "middle",
          "yref": "paper"
         },
         {
          "font": {},
          "showarrow": false,
          "text": "guestroom=no",
          "textangle": 90,
          "x": 0.98,
          "xanchor": "left",
          "xref": "paper",
          "y": 0.7575000000000001,
          "yanchor": "middle",
          "yref": "paper"
         }
        ],
        "legend": {
         "title": {
          "text": "prefarea, furnishingstatus"
         },
         "tracegroupgap": 0
        },
        "template": {
         "data": {
          "bar": [
           {
            "error_x": {
             "color": "#2a3f5f"
            },
            "error_y": {
             "color": "#2a3f5f"
            },
            "marker": {
             "line": {
              "color": "#E5ECF6",
              "width": 0.5
             },
             "pattern": {
              "fillmode": "overlay",
              "size": 10,
              "solidity": 0.2
             }
            },
            "type": "bar"
           }
          ],
          "barpolar": [
           {
            "marker": {
             "line": {
              "color": "#E5ECF6",
              "width": 0.5
             },
             "pattern": {
              "fillmode": "overlay",
              "size": 10,
              "solidity": 0.2
             }
            },
            "type": "barpolar"
           }
          ],
          "carpet": [
           {
            "aaxis": {
             "endlinecolor": "#2a3f5f",
             "gridcolor": "white",
             "linecolor": "white",
             "minorgridcolor": "white",
             "startlinecolor": "#2a3f5f"
            },
            "baxis": {
             "endlinecolor": "#2a3f5f",
             "gridcolor": "white",
             "linecolor": "white",
             "minorgridcolor": "white",
             "startlinecolor": "#2a3f5f"
            },
            "type": "carpet"
           }
          ],
          "choropleth": [
           {
            "colorbar": {
             "outlinewidth": 0,
             "ticks": ""
            },
            "type": "choropleth"
           }
          ],
          "contour": [
           {
            "colorbar": {
             "outlinewidth": 0,
             "ticks": ""
            },
            "colorscale": [
             [
              0,
              "#0d0887"
             ],
             [
              0.1111111111111111,
              "#46039f"
             ],
             [
              0.2222222222222222,
              "#7201a8"
             ],
             [
              0.3333333333333333,
              "#9c179e"
             ],
             [
              0.4444444444444444,
              "#bd3786"
             ],
             [
              0.5555555555555556,
              "#d8576b"
             ],
             [
              0.6666666666666666,
              "#ed7953"
             ],
             [
              0.7777777777777778,
              "#fb9f3a"
             ],
             [
              0.8888888888888888,
              "#fdca26"
             ],
             [
              1,
              "#f0f921"
             ]
            ],
            "type": "contour"
           }
          ],
          "contourcarpet": [
           {
            "colorbar": {
             "outlinewidth": 0,
             "ticks": ""
            },
            "type": "contourcarpet"
           }
          ],
          "heatmap": [
           {
            "colorbar": {
             "outlinewidth": 0,
             "ticks": ""
            },
            "colorscale": [
             [
              0,
              "#0d0887"
             ],
             [
              0.1111111111111111,
              "#46039f"
             ],
             [
              0.2222222222222222,
              "#7201a8"
             ],
             [
              0.3333333333333333,
              "#9c179e"
             ],
             [
              0.4444444444444444,
              "#bd3786"
             ],
             [
              0.5555555555555556,
              "#d8576b"
             ],
             [
              0.6666666666666666,
              "#ed7953"
             ],
             [
              0.7777777777777778,
              "#fb9f3a"
             ],
             [
              0.8888888888888888,
              "#fdca26"
             ],
             [
              1,
              "#f0f921"
             ]
            ],
            "type": "heatmap"
           }
          ],
          "heatmapgl": [
           {
            "colorbar": {
             "outlinewidth": 0,
             "ticks": ""
            },
            "colorscale": [
             [
              0,
              "#0d0887"
             ],
             [
              0.1111111111111111,
              "#46039f"
             ],
             [
              0.2222222222222222,
              "#7201a8"
             ],
             [
              0.3333333333333333,
              "#9c179e"
             ],
             [
              0.4444444444444444,
              "#bd3786"
             ],
             [
              0.5555555555555556,
              "#d8576b"
             ],
             [
              0.6666666666666666,
              "#ed7953"
             ],
             [
              0.7777777777777778,
              "#fb9f3a"
             ],
             [
              0.8888888888888888,
              "#fdca26"
             ],
             [
              1,
              "#f0f921"
             ]
            ],
            "type": "heatmapgl"
           }
          ],
          "histogram": [
           {
            "marker": {
             "pattern": {
              "fillmode": "overlay",
              "size": 10,
              "solidity": 0.2
             }
            },
            "type": "histogram"
           }
          ],
          "histogram2d": [
           {
            "colorbar": {
             "outlinewidth": 0,
             "ticks": ""
            },
            "colorscale": [
             [
              0,
              "#0d0887"
             ],
             [
              0.1111111111111111,
              "#46039f"
             ],
             [
              0.2222222222222222,
              "#7201a8"
             ],
             [
              0.3333333333333333,
              "#9c179e"
             ],
             [
              0.4444444444444444,
              "#bd3786"
             ],
             [
              0.5555555555555556,
              "#d8576b"
             ],
             [
              0.6666666666666666,
              "#ed7953"
             ],
             [
              0.7777777777777778,
              "#fb9f3a"
             ],
             [
              0.8888888888888888,
              "#fdca26"
             ],
             [
              1,
              "#f0f921"
             ]
            ],
            "type": "histogram2d"
           }
          ],
          "histogram2dcontour": [
           {
            "colorbar": {
             "outlinewidth": 0,
             "ticks": ""
            },
            "colorscale": [
             [
              0,
              "#0d0887"
             ],
             [
              0.1111111111111111,
              "#46039f"
             ],
             [
              0.2222222222222222,
              "#7201a8"
             ],
             [
              0.3333333333333333,
              "#9c179e"
             ],
             [
              0.4444444444444444,
              "#bd3786"
             ],
             [
              0.5555555555555556,
              "#d8576b"
             ],
             [
              0.6666666666666666,
              "#ed7953"
             ],
             [
              0.7777777777777778,
              "#fb9f3a"
             ],
             [
              0.8888888888888888,
              "#fdca26"
             ],
             [
              1,
              "#f0f921"
             ]
            ],
            "type": "histogram2dcontour"
           }
          ],
          "mesh3d": [
           {
            "colorbar": {
             "outlinewidth": 0,
             "ticks": ""
            },
            "type": "mesh3d"
           }
          ],
          "parcoords": [
           {
            "line": {
             "colorbar": {
              "outlinewidth": 0,
              "ticks": ""
             }
            },
            "type": "parcoords"
           }
          ],
          "pie": [
           {
            "automargin": true,
            "type": "pie"
           }
          ],
          "scatter": [
           {
            "fillpattern": {
             "fillmode": "overlay",
             "size": 10,
             "solidity": 0.2
            },
            "type": "scatter"
           }
          ],
          "scatter3d": [
           {
            "line": {
             "colorbar": {
              "outlinewidth": 0,
              "ticks": ""
             }
            },
            "marker": {
             "colorbar": {
              "outlinewidth": 0,
              "ticks": ""
             }
            },
            "type": "scatter3d"
           }
          ],
          "scattercarpet": [
           {
            "marker": {
             "colorbar": {
              "outlinewidth": 0,
              "ticks": ""
             }
            },
            "type": "scattercarpet"
           }
          ],
          "scattergeo": [
           {
            "marker": {
             "colorbar": {
              "outlinewidth": 0,
              "ticks": ""
             }
            },
            "type": "scattergeo"
           }
          ],
          "scattergl": [
           {
            "marker": {
             "colorbar": {
              "outlinewidth": 0,
              "ticks": ""
             }
            },
            "type": "scattergl"
           }
          ],
          "scattermapbox": [
           {
            "marker": {
             "colorbar": {
              "outlinewidth": 0,
              "ticks": ""
             }
            },
            "type": "scattermapbox"
           }
          ],
          "scatterpolar": [
           {
            "marker": {
             "colorbar": {
              "outlinewidth": 0,
              "ticks": ""
             }
            },
            "type": "scatterpolar"
           }
          ],
          "scatterpolargl": [
           {
            "marker": {
             "colorbar": {
              "outlinewidth": 0,
              "ticks": ""
             }
            },
            "type": "scatterpolargl"
           }
          ],
          "scatterternary": [
           {
            "marker": {
             "colorbar": {
              "outlinewidth": 0,
              "ticks": ""
             }
            },
            "type": "scatterternary"
           }
          ],
          "surface": [
           {
            "colorbar": {
             "outlinewidth": 0,
             "ticks": ""
            },
            "colorscale": [
             [
              0,
              "#0d0887"
             ],
             [
              0.1111111111111111,
              "#46039f"
             ],
             [
              0.2222222222222222,
              "#7201a8"
             ],
             [
              0.3333333333333333,
              "#9c179e"
             ],
             [
              0.4444444444444444,
              "#bd3786"
             ],
             [
              0.5555555555555556,
              "#d8576b"
             ],
             [
              0.6666666666666666,
              "#ed7953"
             ],
             [
              0.7777777777777778,
              "#fb9f3a"
             ],
             [
              0.8888888888888888,
              "#fdca26"
             ],
             [
              1,
              "#f0f921"
             ]
            ],
            "type": "surface"
           }
          ],
          "table": [
           {
            "cells": {
             "fill": {
              "color": "#EBF0F8"
             },
             "line": {
              "color": "white"
             }
            },
            "header": {
             "fill": {
              "color": "#C8D4E3"
             },
             "line": {
              "color": "white"
             }
            },
            "type": "table"
           }
          ]
         },
         "layout": {
          "annotationdefaults": {
           "arrowcolor": "#2a3f5f",
           "arrowhead": 0,
           "arrowwidth": 1
          },
          "autotypenumbers": "strict",
          "coloraxis": {
           "colorbar": {
            "outlinewidth": 0,
            "ticks": ""
           }
          },
          "colorscale": {
           "diverging": [
            [
             0,
             "#8e0152"
            ],
            [
             0.1,
             "#c51b7d"
            ],
            [
             0.2,
             "#de77ae"
            ],
            [
             0.3,
             "#f1b6da"
            ],
            [
             0.4,
             "#fde0ef"
            ],
            [
             0.5,
             "#f7f7f7"
            ],
            [
             0.6,
             "#e6f5d0"
            ],
            [
             0.7,
             "#b8e186"
            ],
            [
             0.8,
             "#7fbc41"
            ],
            [
             0.9,
             "#4d9221"
            ],
            [
             1,
             "#276419"
            ]
           ],
           "sequential": [
            [
             0,
             "#0d0887"
            ],
            [
             0.1111111111111111,
             "#46039f"
            ],
            [
             0.2222222222222222,
             "#7201a8"
            ],
            [
             0.3333333333333333,
             "#9c179e"
            ],
            [
             0.4444444444444444,
             "#bd3786"
            ],
            [
             0.5555555555555556,
             "#d8576b"
            ],
            [
             0.6666666666666666,
             "#ed7953"
            ],
            [
             0.7777777777777778,
             "#fb9f3a"
            ],
            [
             0.8888888888888888,
             "#fdca26"
            ],
            [
             1,
             "#f0f921"
            ]
           ],
           "sequentialminus": [
            [
             0,
             "#0d0887"
            ],
            [
             0.1111111111111111,
             "#46039f"
            ],
            [
             0.2222222222222222,
             "#7201a8"
            ],
            [
             0.3333333333333333,
             "#9c179e"
            ],
            [
             0.4444444444444444,
             "#bd3786"
            ],
            [
             0.5555555555555556,
             "#d8576b"
            ],
            [
             0.6666666666666666,
             "#ed7953"
            ],
            [
             0.7777777777777778,
             "#fb9f3a"
            ],
            [
             0.8888888888888888,
             "#fdca26"
            ],
            [
             1,
             "#f0f921"
            ]
           ]
          },
          "colorway": [
           "#636efa",
           "#EF553B",
           "#00cc96",
           "#ab63fa",
           "#FFA15A",
           "#19d3f3",
           "#FF6692",
           "#B6E880",
           "#FF97FF",
           "#FECB52"
          ],
          "font": {
           "color": "#2a3f5f"
          },
          "geo": {
           "bgcolor": "white",
           "lakecolor": "white",
           "landcolor": "#E5ECF6",
           "showlakes": true,
           "showland": true,
           "subunitcolor": "white"
          },
          "hoverlabel": {
           "align": "left"
          },
          "hovermode": "closest",
          "mapbox": {
           "style": "light"
          },
          "paper_bgcolor": "white",
          "plot_bgcolor": "#E5ECF6",
          "polar": {
           "angularaxis": {
            "gridcolor": "white",
            "linecolor": "white",
            "ticks": ""
           },
           "bgcolor": "#E5ECF6",
           "radialaxis": {
            "gridcolor": "white",
            "linecolor": "white",
            "ticks": ""
           }
          },
          "scene": {
           "xaxis": {
            "backgroundcolor": "#E5ECF6",
            "gridcolor": "white",
            "gridwidth": 2,
            "linecolor": "white",
            "showbackground": true,
            "ticks": "",
            "zerolinecolor": "white"
           },
           "yaxis": {
            "backgroundcolor": "#E5ECF6",
            "gridcolor": "white",
            "gridwidth": 2,
            "linecolor": "white",
            "showbackground": true,
            "ticks": "",
            "zerolinecolor": "white"
           },
           "zaxis": {
            "backgroundcolor": "#E5ECF6",
            "gridcolor": "white",
            "gridwidth": 2,
            "linecolor": "white",
            "showbackground": true,
            "ticks": "",
            "zerolinecolor": "white"
           }
          },
          "shapedefaults": {
           "line": {
            "color": "#2a3f5f"
           }
          },
          "ternary": {
           "aaxis": {
            "gridcolor": "white",
            "linecolor": "white",
            "ticks": ""
           },
           "baxis": {
            "gridcolor": "white",
            "linecolor": "white",
            "ticks": ""
           },
           "bgcolor": "#E5ECF6",
           "caxis": {
            "gridcolor": "white",
            "linecolor": "white",
            "ticks": ""
           }
          },
          "title": {
           "x": 0.05
          },
          "xaxis": {
           "automargin": true,
           "gridcolor": "white",
           "linecolor": "white",
           "ticks": "",
           "title": {
            "standoff": 15
           },
           "zerolinecolor": "white",
           "zerolinewidth": 2
          },
          "yaxis": {
           "automargin": true,
           "gridcolor": "white",
           "linecolor": "white",
           "ticks": "",
           "title": {
            "standoff": 15
           },
           "zerolinecolor": "white",
           "zerolinewidth": 2
          }
         }
        },
        "title": {
         "text": "Data Image"
        },
        "xaxis": {
         "anchor": "y",
         "domain": [
          0,
          0.48
         ],
         "title": {
          "text": "area"
         }
        },
        "xaxis2": {
         "anchor": "y2",
         "domain": [
          0.5,
          0.98
         ],
         "matches": "x",
         "title": {
          "text": "area"
         }
        },
        "xaxis3": {
         "anchor": "y3",
         "domain": [
          0,
          0.48
         ],
         "matches": "x",
         "showticklabels": false
        },
        "xaxis4": {
         "anchor": "y4",
         "domain": [
          0.5,
          0.98
         ],
         "matches": "x",
         "showticklabels": false
        },
        "yaxis": {
         "anchor": "x",
         "domain": [
          0,
          0.485
         ],
         "title": {
          "text": "price"
         }
        },
        "yaxis2": {
         "anchor": "x2",
         "domain": [
          0,
          0.485
         ],
         "matches": "y",
         "showticklabels": false
        },
        "yaxis3": {
         "anchor": "x3",
         "domain": [
          0.515,
          1
         ],
         "matches": "y",
         "title": {
          "text": "price"
         }
        },
        "yaxis4": {
         "anchor": "x4",
         "domain": [
          0.515,
          1
         ],
         "matches": "y",
         "showticklabels": false
        }
       }
      }
     },
     "metadata": {},
     "output_type": "display_data"
    }
   ],
   "source": [
    "scatter = px.scatter(data, x='area', y='price', color='prefarea',\n",
    "                        symbol='furnishingstatus', facet_col='basement', facet_row='guestroom',\n",
    "                        title='Data Image')\n",
    "scatter.show()"
   ]
  },
  {
   "cell_type": "markdown",
   "metadata": {},
   "source": [
    "Histogram"
   ]
  },
  {
   "cell_type": "code",
   "execution_count": 99,
   "metadata": {},
   "outputs": [
    {
     "data": {
      "application/vnd.plotly.v1+json": {
       "config": {
        "plotlyServerURL": "https://plot.ly"
       },
       "data": [
        {
         "alignmentgroup": "True",
         "bingroup": "x",
         "hovertemplate": "price=13300000<br>area=%{x}<br>count=%{y}<extra></extra>",
         "legendgroup": "13300000",
         "marker": {
          "color": "#636efa",
          "opacity": 0.5,
          "pattern": {
           "shape": ""
          }
         },
         "name": "13300000",
         "offsetgroup": "13300000",
         "orientation": "v",
         "showlegend": true,
         "type": "histogram",
         "x": [
          7420
         ],
         "xaxis": "x",
         "yaxis": "y"
        },
        {
         "alignmentgroup": "True",
         "bingroup": "x",
         "hovertemplate": "price=12250000<br>area=%{x}<br>count=%{y}<extra></extra>",
         "legendgroup": "12250000",
         "marker": {
          "color": "#EF553B",
          "opacity": 0.5,
          "pattern": {
           "shape": ""
          }
         },
         "name": "12250000",
         "offsetgroup": "12250000",
         "orientation": "v",
         "showlegend": true,
         "type": "histogram",
         "x": [
          8960,
          9960
         ],
         "xaxis": "x",
         "yaxis": "y"
        },
        {
         "alignmentgroup": "True",
         "bingroup": "x",
         "hovertemplate": "price=12215000<br>area=%{x}<br>count=%{y}<extra></extra>",
         "legendgroup": "12215000",
         "marker": {
          "color": "#00cc96",
          "opacity": 0.5,
          "pattern": {
           "shape": ""
          }
         },
         "name": "12215000",
         "offsetgroup": "12215000",
         "orientation": "v",
         "showlegend": true,
         "type": "histogram",
         "x": [
          7500
         ],
         "xaxis": "x",
         "yaxis": "y"
        },
        {
         "alignmentgroup": "True",
         "bingroup": "x",
         "hovertemplate": "price=11410000<br>area=%{x}<br>count=%{y}<extra></extra>",
         "legendgroup": "11410000",
         "marker": {
          "color": "#ab63fa",
          "opacity": 0.5,
          "pattern": {
           "shape": ""
          }
         },
         "name": "11410000",
         "offsetgroup": "11410000",
         "orientation": "v",
         "showlegend": true,
         "type": "histogram",
         "x": [
          7420
         ],
         "xaxis": "x",
         "yaxis": "y"
        },
        {
         "alignmentgroup": "True",
         "bingroup": "x",
         "hovertemplate": "price=10850000<br>area=%{x}<br>count=%{y}<extra></extra>",
         "legendgroup": "10850000",
         "marker": {
          "color": "#FFA15A",
          "opacity": 0.5,
          "pattern": {
           "shape": ""
          }
         },
         "name": "10850000",
         "offsetgroup": "10850000",
         "orientation": "v",
         "showlegend": true,
         "type": "histogram",
         "x": [
          7500
         ],
         "xaxis": "x",
         "yaxis": "y"
        },
        {
         "alignmentgroup": "True",
         "bingroup": "x",
         "hovertemplate": "price=10150000<br>area=%{x}<br>count=%{y}<extra></extra>",
         "legendgroup": "10150000",
         "marker": {
          "color": "#19d3f3",
          "opacity": 0.5,
          "pattern": {
           "shape": ""
          }
         },
         "name": "10150000",
         "offsetgroup": "10150000",
         "orientation": "v",
         "showlegend": true,
         "type": "histogram",
         "x": [
          8580,
          16200
         ],
         "xaxis": "x",
         "yaxis": "y"
        },
        {
         "alignmentgroup": "True",
         "bingroup": "x",
         "hovertemplate": "price=9870000<br>area=%{x}<br>count=%{y}<extra></extra>",
         "legendgroup": "9870000",
         "marker": {
          "color": "#FF6692",
          "opacity": 0.5,
          "pattern": {
           "shape": ""
          }
         },
         "name": "9870000",
         "offsetgroup": "9870000",
         "orientation": "v",
         "showlegend": true,
         "type": "histogram",
         "x": [
          8100
         ],
         "xaxis": "x",
         "yaxis": "y"
        },
        {
         "alignmentgroup": "True",
         "bingroup": "x",
         "hovertemplate": "price=9800000<br>area=%{x}<br>count=%{y}<extra></extra>",
         "legendgroup": "9800000",
         "marker": {
          "color": "#B6E880",
          "opacity": 0.5,
          "pattern": {
           "shape": ""
          }
         },
         "name": "9800000",
         "offsetgroup": "9800000",
         "orientation": "v",
         "showlegend": true,
         "type": "histogram",
         "x": [
          5750,
          13200
         ],
         "xaxis": "x",
         "yaxis": "y"
        },
        {
         "alignmentgroup": "True",
         "bingroup": "x",
         "hovertemplate": "price=9681000<br>area=%{x}<br>count=%{y}<extra></extra>",
         "legendgroup": "9681000",
         "marker": {
          "color": "#FF97FF",
          "opacity": 0.5,
          "pattern": {
           "shape": ""
          }
         },
         "name": "9681000",
         "offsetgroup": "9681000",
         "orientation": "v",
         "showlegend": true,
         "type": "histogram",
         "x": [
          6000
         ],
         "xaxis": "x",
         "yaxis": "y"
        },
        {
         "alignmentgroup": "True",
         "bingroup": "x",
         "hovertemplate": "price=9310000<br>area=%{x}<br>count=%{y}<extra></extra>",
         "legendgroup": "9310000",
         "marker": {
          "color": "#FECB52",
          "opacity": 0.5,
          "pattern": {
           "shape": ""
          }
         },
         "name": "9310000",
         "offsetgroup": "9310000",
         "orientation": "v",
         "showlegend": true,
         "type": "histogram",
         "x": [
          6550
         ],
         "xaxis": "x",
         "yaxis": "y"
        },
        {
         "alignmentgroup": "True",
         "bingroup": "x",
         "hovertemplate": "price=9240000<br>area=%{x}<br>count=%{y}<extra></extra>",
         "legendgroup": "9240000",
         "marker": {
          "color": "#636efa",
          "opacity": 0.5,
          "pattern": {
           "shape": ""
          }
         },
         "name": "9240000",
         "offsetgroup": "9240000",
         "orientation": "v",
         "showlegend": true,
         "type": "histogram",
         "x": [
          3500,
          7800
         ],
         "xaxis": "x",
         "yaxis": "y"
        },
        {
         "alignmentgroup": "True",
         "bingroup": "x",
         "hovertemplate": "price=9100000<br>area=%{x}<br>count=%{y}<extra></extra>",
         "legendgroup": "9100000",
         "marker": {
          "color": "#EF553B",
          "opacity": 0.5,
          "pattern": {
           "shape": ""
          }
         },
         "name": "9100000",
         "offsetgroup": "9100000",
         "orientation": "v",
         "showlegend": true,
         "type": "histogram",
         "x": [
          6000,
          6600
         ],
         "xaxis": "x",
         "yaxis": "y"
        },
        {
         "alignmentgroup": "True",
         "bingroup": "x",
         "hovertemplate": "price=8960000<br>area=%{x}<br>count=%{y}<extra></extra>",
         "legendgroup": "8960000",
         "marker": {
          "color": "#00cc96",
          "opacity": 0.5,
          "pattern": {
           "shape": ""
          }
         },
         "name": "8960000",
         "offsetgroup": "8960000",
         "orientation": "v",
         "showlegend": true,
         "type": "histogram",
         "x": [
          8500
         ],
         "xaxis": "x",
         "yaxis": "y"
        },
        {
         "alignmentgroup": "True",
         "bingroup": "x",
         "hovertemplate": "price=8890000<br>area=%{x}<br>count=%{y}<extra></extra>",
         "legendgroup": "8890000",
         "marker": {
          "color": "#ab63fa",
          "opacity": 0.5,
          "pattern": {
           "shape": ""
          }
         },
         "name": "8890000",
         "offsetgroup": "8890000",
         "orientation": "v",
         "showlegend": true,
         "type": "histogram",
         "x": [
          4600
         ],
         "xaxis": "x",
         "yaxis": "y"
        },
        {
         "alignmentgroup": "True",
         "bingroup": "x",
         "hovertemplate": "price=8855000<br>area=%{x}<br>count=%{y}<extra></extra>",
         "legendgroup": "8855000",
         "marker": {
          "color": "#FFA15A",
          "opacity": 0.5,
          "pattern": {
           "shape": ""
          }
         },
         "name": "8855000",
         "offsetgroup": "8855000",
         "orientation": "v",
         "showlegend": true,
         "type": "histogram",
         "x": [
          6420
         ],
         "xaxis": "x",
         "yaxis": "y"
        },
        {
         "alignmentgroup": "True",
         "bingroup": "x",
         "hovertemplate": "price=8750000<br>area=%{x}<br>count=%{y}<extra></extra>",
         "legendgroup": "8750000",
         "marker": {
          "color": "#19d3f3",
          "opacity": 0.5,
          "pattern": {
           "shape": ""
          }
         },
         "name": "8750000",
         "offsetgroup": "8750000",
         "orientation": "v",
         "showlegend": true,
         "type": "histogram",
         "x": [
          4320
         ],
         "xaxis": "x",
         "yaxis": "y"
        },
        {
         "alignmentgroup": "True",
         "bingroup": "x",
         "hovertemplate": "price=8680000<br>area=%{x}<br>count=%{y}<extra></extra>",
         "legendgroup": "8680000",
         "marker": {
          "color": "#FF6692",
          "opacity": 0.5,
          "pattern": {
           "shape": ""
          }
         },
         "name": "8680000",
         "offsetgroup": "8680000",
         "orientation": "v",
         "showlegend": true,
         "type": "histogram",
         "x": [
          7155
         ],
         "xaxis": "x",
         "yaxis": "y"
        },
        {
         "alignmentgroup": "True",
         "bingroup": "x",
         "hovertemplate": "price=8645000<br>area=%{x}<br>count=%{y}<extra></extra>",
         "legendgroup": "8645000",
         "marker": {
          "color": "#B6E880",
          "opacity": 0.5,
          "pattern": {
           "shape": ""
          }
         },
         "name": "8645000",
         "offsetgroup": "8645000",
         "orientation": "v",
         "showlegend": true,
         "type": "histogram",
         "x": [
          8050,
          4560
         ],
         "xaxis": "x",
         "yaxis": "y"
        },
        {
         "alignmentgroup": "True",
         "bingroup": "x",
         "hovertemplate": "price=8575000<br>area=%{x}<br>count=%{y}<extra></extra>",
         "legendgroup": "8575000",
         "marker": {
          "color": "#FF97FF",
          "opacity": 0.5,
          "pattern": {
           "shape": ""
          }
         },
         "name": "8575000",
         "offsetgroup": "8575000",
         "orientation": "v",
         "showlegend": true,
         "type": "histogram",
         "x": [
          8800
         ],
         "xaxis": "x",
         "yaxis": "y"
        },
        {
         "alignmentgroup": "True",
         "bingroup": "x",
         "hovertemplate": "price=8540000<br>area=%{x}<br>count=%{y}<extra></extra>",
         "legendgroup": "8540000",
         "marker": {
          "color": "#FECB52",
          "opacity": 0.5,
          "pattern": {
           "shape": ""
          }
         },
         "name": "8540000",
         "offsetgroup": "8540000",
         "orientation": "v",
         "showlegend": true,
         "type": "histogram",
         "x": [
          6540
         ],
         "xaxis": "x",
         "yaxis": "y"
        },
        {
         "alignmentgroup": "True",
         "bingroup": "x",
         "hovertemplate": "price=8463000<br>area=%{x}<br>count=%{y}<extra></extra>",
         "legendgroup": "8463000",
         "marker": {
          "color": "#636efa",
          "opacity": 0.5,
          "pattern": {
           "shape": ""
          }
         },
         "name": "8463000",
         "offsetgroup": "8463000",
         "orientation": "v",
         "showlegend": true,
         "type": "histogram",
         "x": [
          6000
         ],
         "xaxis": "x",
         "yaxis": "y"
        },
        {
         "alignmentgroup": "True",
         "bingroup": "x",
         "hovertemplate": "price=8400000<br>area=%{x}<br>count=%{y}<extra></extra>",
         "legendgroup": "8400000",
         "marker": {
          "color": "#EF553B",
          "opacity": 0.5,
          "pattern": {
           "shape": ""
          }
         },
         "name": "8400000",
         "offsetgroup": "8400000",
         "orientation": "v",
         "showlegend": true,
         "type": "histogram",
         "x": [
          8875,
          7950,
          5500,
          7475,
          7000
         ],
         "xaxis": "x",
         "yaxis": "y"
        },
        {
         "alignmentgroup": "True",
         "bingroup": "x",
         "hovertemplate": "price=8295000<br>area=%{x}<br>count=%{y}<extra></extra>",
         "legendgroup": "8295000",
         "marker": {
          "color": "#00cc96",
          "opacity": 0.5,
          "pattern": {
           "shape": ""
          }
         },
         "name": "8295000",
         "offsetgroup": "8295000",
         "orientation": "v",
         "showlegend": true,
         "type": "histogram",
         "x": [
          4880
         ],
         "xaxis": "x",
         "yaxis": "y"
        },
        {
         "alignmentgroup": "True",
         "bingroup": "x",
         "hovertemplate": "price=8190000<br>area=%{x}<br>count=%{y}<extra></extra>",
         "legendgroup": "8190000",
         "marker": {
          "color": "#ab63fa",
          "opacity": 0.5,
          "pattern": {
           "shape": ""
          }
         },
         "name": "8190000",
         "offsetgroup": "8190000",
         "orientation": "v",
         "showlegend": true,
         "type": "histogram",
         "x": [
          5960
         ],
         "xaxis": "x",
         "yaxis": "y"
        },
        {
         "alignmentgroup": "True",
         "bingroup": "x",
         "hovertemplate": "price=8120000<br>area=%{x}<br>count=%{y}<extra></extra>",
         "legendgroup": "8120000",
         "marker": {
          "color": "#FFA15A",
          "opacity": 0.5,
          "pattern": {
           "shape": ""
          }
         },
         "name": "8120000",
         "offsetgroup": "8120000",
         "orientation": "v",
         "showlegend": true,
         "type": "histogram",
         "x": [
          6840
         ],
         "xaxis": "x",
         "yaxis": "y"
        },
        {
         "alignmentgroup": "True",
         "bingroup": "x",
         "hovertemplate": "price=8080940<br>area=%{x}<br>count=%{y}<extra></extra>",
         "legendgroup": "8080940",
         "marker": {
          "color": "#19d3f3",
          "opacity": 0.5,
          "pattern": {
           "shape": ""
          }
         },
         "name": "8080940",
         "offsetgroup": "8080940",
         "orientation": "v",
         "showlegend": true,
         "type": "histogram",
         "x": [
          7000
         ],
         "xaxis": "x",
         "yaxis": "y"
        },
        {
         "alignmentgroup": "True",
         "bingroup": "x",
         "hovertemplate": "price=8043000<br>area=%{x}<br>count=%{y}<extra></extra>",
         "legendgroup": "8043000",
         "marker": {
          "color": "#FF6692",
          "opacity": 0.5,
          "pattern": {
           "shape": ""
          }
         },
         "name": "8043000",
         "offsetgroup": "8043000",
         "orientation": "v",
         "showlegend": true,
         "type": "histogram",
         "x": [
          7482
         ],
         "xaxis": "x",
         "yaxis": "y"
        },
        {
         "alignmentgroup": "True",
         "bingroup": "x",
         "hovertemplate": "price=7980000<br>area=%{x}<br>count=%{y}<extra></extra>",
         "legendgroup": "7980000",
         "marker": {
          "color": "#B6E880",
          "opacity": 0.5,
          "pattern": {
           "shape": ""
          }
         },
         "name": "7980000",
         "offsetgroup": "7980000",
         "orientation": "v",
         "showlegend": true,
         "type": "histogram",
         "x": [
          9000
         ],
         "xaxis": "x",
         "yaxis": "y"
        },
        {
         "alignmentgroup": "True",
         "bingroup": "x",
         "hovertemplate": "price=7962500<br>area=%{x}<br>count=%{y}<extra></extra>",
         "legendgroup": "7962500",
         "marker": {
          "color": "#FF97FF",
          "opacity": 0.5,
          "pattern": {
           "shape": ""
          }
         },
         "name": "7962500",
         "offsetgroup": "7962500",
         "orientation": "v",
         "showlegend": true,
         "type": "histogram",
         "x": [
          6000
         ],
         "xaxis": "x",
         "yaxis": "y"
        },
        {
         "alignmentgroup": "True",
         "bingroup": "x",
         "hovertemplate": "price=7910000<br>area=%{x}<br>count=%{y}<extra></extra>",
         "legendgroup": "7910000",
         "marker": {
          "color": "#FECB52",
          "opacity": 0.5,
          "pattern": {
           "shape": ""
          }
         },
         "name": "7910000",
         "offsetgroup": "7910000",
         "orientation": "v",
         "showlegend": true,
         "type": "histogram",
         "x": [
          6000
         ],
         "xaxis": "x",
         "yaxis": "y"
        },
        {
         "alignmentgroup": "True",
         "bingroup": "x",
         "hovertemplate": "price=7875000<br>area=%{x}<br>count=%{y}<extra></extra>",
         "legendgroup": "7875000",
         "marker": {
          "color": "#636efa",
          "opacity": 0.5,
          "pattern": {
           "shape": ""
          }
         },
         "name": "7875000",
         "offsetgroup": "7875000",
         "orientation": "v",
         "showlegend": true,
         "type": "histogram",
         "x": [
          6550
         ],
         "xaxis": "x",
         "yaxis": "y"
        },
        {
         "alignmentgroup": "True",
         "bingroup": "x",
         "hovertemplate": "price=7840000<br>area=%{x}<br>count=%{y}<extra></extra>",
         "legendgroup": "7840000",
         "marker": {
          "color": "#EF553B",
          "opacity": 0.5,
          "pattern": {
           "shape": ""
          }
         },
         "name": "7840000",
         "offsetgroup": "7840000",
         "orientation": "v",
         "showlegend": true,
         "type": "histogram",
         "x": [
          6360
         ],
         "xaxis": "x",
         "yaxis": "y"
        },
        {
         "alignmentgroup": "True",
         "bingroup": "x",
         "hovertemplate": "price=7700000<br>area=%{x}<br>count=%{y}<extra></extra>",
         "legendgroup": "7700000",
         "marker": {
          "color": "#00cc96",
          "opacity": 0.5,
          "pattern": {
           "shape": ""
          }
         },
         "name": "7700000",
         "offsetgroup": "7700000",
         "orientation": "v",
         "showlegend": true,
         "type": "histogram",
         "x": [
          6480,
          6000
         ],
         "xaxis": "x",
         "yaxis": "y"
        },
        {
         "alignmentgroup": "True",
         "bingroup": "x",
         "hovertemplate": "price=7560000<br>area=%{x}<br>count=%{y}<extra></extra>",
         "legendgroup": "7560000",
         "marker": {
          "color": "#ab63fa",
          "opacity": 0.5,
          "pattern": {
           "shape": ""
          }
         },
         "name": "7560000",
         "offsetgroup": "7560000",
         "orientation": "v",
         "showlegend": true,
         "type": "histogram",
         "x": [
          6000,
          6000
         ],
         "xaxis": "x",
         "yaxis": "y"
        },
        {
         "alignmentgroup": "True",
         "bingroup": "x",
         "hovertemplate": "price=7525000<br>area=%{x}<br>count=%{y}<extra></extra>",
         "legendgroup": "7525000",
         "marker": {
          "color": "#FFA15A",
          "opacity": 0.5,
          "pattern": {
           "shape": ""
          }
         },
         "name": "7525000",
         "offsetgroup": "7525000",
         "orientation": "v",
         "showlegend": true,
         "type": "histogram",
         "x": [
          6000
         ],
         "xaxis": "x",
         "yaxis": "y"
        },
        {
         "alignmentgroup": "True",
         "bingroup": "x",
         "hovertemplate": "price=7490000<br>area=%{x}<br>count=%{y}<extra></extra>",
         "legendgroup": "7490000",
         "marker": {
          "color": "#19d3f3",
          "opacity": 0.5,
          "pattern": {
           "shape": ""
          }
         },
         "name": "7490000",
         "offsetgroup": "7490000",
         "orientation": "v",
         "showlegend": true,
         "type": "histogram",
         "x": [
          6600
         ],
         "xaxis": "x",
         "yaxis": "y"
        },
        {
         "alignmentgroup": "True",
         "bingroup": "x",
         "hovertemplate": "price=7455000<br>area=%{x}<br>count=%{y}<extra></extra>",
         "legendgroup": "7455000",
         "marker": {
          "color": "#FF6692",
          "opacity": 0.5,
          "pattern": {
           "shape": ""
          }
         },
         "name": "7455000",
         "offsetgroup": "7455000",
         "orientation": "v",
         "showlegend": true,
         "type": "histogram",
         "x": [
          4300
         ],
         "xaxis": "x",
         "yaxis": "y"
        },
        {
         "alignmentgroup": "True",
         "bingroup": "x",
         "hovertemplate": "price=7420000<br>area=%{x}<br>count=%{y}<extra></extra>",
         "legendgroup": "7420000",
         "marker": {
          "color": "#B6E880",
          "opacity": 0.5,
          "pattern": {
           "shape": ""
          }
         },
         "name": "7420000",
         "offsetgroup": "7420000",
         "orientation": "v",
         "showlegend": true,
         "type": "histogram",
         "x": [
          7440,
          7440,
          6325
         ],
         "xaxis": "x",
         "yaxis": "y"
        },
        {
         "alignmentgroup": "True",
         "bingroup": "x",
         "hovertemplate": "price=7350000<br>area=%{x}<br>count=%{y}<extra></extra>",
         "legendgroup": "7350000",
         "marker": {
          "color": "#FF97FF",
          "opacity": 0.5,
          "pattern": {
           "shape": ""
          }
         },
         "name": "7350000",
         "offsetgroup": "7350000",
         "orientation": "v",
         "showlegend": true,
         "type": "histogram",
         "x": [
          6000,
          5150,
          6000,
          6000
         ],
         "xaxis": "x",
         "yaxis": "y"
        },
        {
         "alignmentgroup": "True",
         "bingroup": "x",
         "hovertemplate": "price=7343000<br>area=%{x}<br>count=%{y}<extra></extra>",
         "legendgroup": "7343000",
         "marker": {
          "color": "#FECB52",
          "opacity": 0.5,
          "pattern": {
           "shape": ""
          }
         },
         "name": "7343000",
         "offsetgroup": "7343000",
         "orientation": "v",
         "showlegend": true,
         "type": "histogram",
         "x": [
          11440
         ],
         "xaxis": "x",
         "yaxis": "y"
        },
        {
         "alignmentgroup": "True",
         "bingroup": "x",
         "hovertemplate": "price=7245000<br>area=%{x}<br>count=%{y}<extra></extra>",
         "legendgroup": "7245000",
         "marker": {
          "color": "#636efa",
          "opacity": 0.5,
          "pattern": {
           "shape": ""
          }
         },
         "name": "7245000",
         "offsetgroup": "7245000",
         "orientation": "v",
         "showlegend": true,
         "type": "histogram",
         "x": [
          9000
         ],
         "xaxis": "x",
         "yaxis": "y"
        },
        {
         "alignmentgroup": "True",
         "bingroup": "x",
         "hovertemplate": "price=7210000<br>area=%{x}<br>count=%{y}<extra></extra>",
         "legendgroup": "7210000",
         "marker": {
          "color": "#EF553B",
          "opacity": 0.5,
          "pattern": {
           "shape": ""
          }
         },
         "name": "7210000",
         "offsetgroup": "7210000",
         "orientation": "v",
         "showlegend": true,
         "type": "histogram",
         "x": [
          7680,
          6000
         ],
         "xaxis": "x",
         "yaxis": "y"
        },
        {
         "alignmentgroup": "True",
         "bingroup": "x",
         "hovertemplate": "price=7140000<br>area=%{x}<br>count=%{y}<extra></extra>",
         "legendgroup": "7140000",
         "marker": {
          "color": "#00cc96",
          "opacity": 0.5,
          "pattern": {
           "shape": ""
          }
         },
         "name": "7140000",
         "offsetgroup": "7140000",
         "orientation": "v",
         "showlegend": true,
         "type": "histogram",
         "x": [
          6000
         ],
         "xaxis": "x",
         "yaxis": "y"
        },
        {
         "alignmentgroup": "True",
         "bingroup": "x",
         "hovertemplate": "price=7070000<br>area=%{x}<br>count=%{y}<extra></extra>",
         "legendgroup": "7070000",
         "marker": {
          "color": "#ab63fa",
          "opacity": 0.5,
          "pattern": {
           "shape": ""
          }
         },
         "name": "7070000",
         "offsetgroup": "7070000",
         "orientation": "v",
         "showlegend": true,
         "type": "histogram",
         "x": [
          8880,
          6240
         ],
         "xaxis": "x",
         "yaxis": "y"
        },
        {
         "alignmentgroup": "True",
         "bingroup": "x",
         "hovertemplate": "price=7035000<br>area=%{x}<br>count=%{y}<extra></extra>",
         "legendgroup": "7035000",
         "marker": {
          "color": "#FFA15A",
          "opacity": 0.5,
          "pattern": {
           "shape": ""
          }
         },
         "name": "7035000",
         "offsetgroup": "7035000",
         "orientation": "v",
         "showlegend": true,
         "type": "histogram",
         "x": [
          6360
         ],
         "xaxis": "x",
         "yaxis": "y"
        },
        {
         "alignmentgroup": "True",
         "bingroup": "x",
         "hovertemplate": "price=7000000<br>area=%{x}<br>count=%{y}<extra></extra>",
         "legendgroup": "7000000",
         "marker": {
          "color": "#19d3f3",
          "opacity": 0.5,
          "pattern": {
           "shape": ""
          }
         },
         "name": "7000000",
         "offsetgroup": "7000000",
         "orientation": "v",
         "showlegend": true,
         "type": "histogram",
         "x": [
          11175
         ],
         "xaxis": "x",
         "yaxis": "y"
        },
        {
         "alignmentgroup": "True",
         "bingroup": "x",
         "hovertemplate": "price=6930000<br>area=%{x}<br>count=%{y}<extra></extra>",
         "legendgroup": "6930000",
         "marker": {
          "color": "#FF6692",
          "opacity": 0.5,
          "pattern": {
           "shape": ""
          }
         },
         "name": "6930000",
         "offsetgroup": "6930000",
         "orientation": "v",
         "showlegend": true,
         "type": "histogram",
         "x": [
          8880,
          13200
         ],
         "xaxis": "x",
         "yaxis": "y"
        },
        {
         "alignmentgroup": "True",
         "bingroup": "x",
         "hovertemplate": "price=6895000<br>area=%{x}<br>count=%{y}<extra></extra>",
         "legendgroup": "6895000",
         "marker": {
          "color": "#B6E880",
          "opacity": 0.5,
          "pattern": {
           "shape": ""
          }
         },
         "name": "6895000",
         "offsetgroup": "6895000",
         "orientation": "v",
         "showlegend": true,
         "type": "histogram",
         "x": [
          7700
         ],
         "xaxis": "x",
         "yaxis": "y"
        },
        {
         "alignmentgroup": "True",
         "bingroup": "x",
         "hovertemplate": "price=6860000<br>area=%{x}<br>count=%{y}<extra></extra>",
         "legendgroup": "6860000",
         "marker": {
          "color": "#FF97FF",
          "opacity": 0.5,
          "pattern": {
           "shape": ""
          }
         },
         "name": "6860000",
         "offsetgroup": "6860000",
         "orientation": "v",
         "showlegend": true,
         "type": "histogram",
         "x": [
          6000
         ],
         "xaxis": "x",
         "yaxis": "y"
        },
        {
         "alignmentgroup": "True",
         "bingroup": "x",
         "hovertemplate": "price=6790000<br>area=%{x}<br>count=%{y}<extra></extra>",
         "legendgroup": "6790000",
         "marker": {
          "color": "#FECB52",
          "opacity": 0.5,
          "pattern": {
           "shape": ""
          }
         },
         "name": "6790000",
         "offsetgroup": "6790000",
         "orientation": "v",
         "showlegend": true,
         "type": "histogram",
         "x": [
          12090,
          4000
         ],
         "xaxis": "x",
         "yaxis": "y"
        },
        {
         "alignmentgroup": "True",
         "bingroup": "x",
         "hovertemplate": "price=6755000<br>area=%{x}<br>count=%{y}<extra></extra>",
         "legendgroup": "6755000",
         "marker": {
          "color": "#636efa",
          "opacity": 0.5,
          "pattern": {
           "shape": ""
          }
         },
         "name": "6755000",
         "offsetgroup": "6755000",
         "orientation": "v",
         "showlegend": true,
         "type": "histogram",
         "x": [
          6000
         ],
         "xaxis": "x",
         "yaxis": "y"
        },
        {
         "alignmentgroup": "True",
         "bingroup": "x",
         "hovertemplate": "price=6720000<br>area=%{x}<br>count=%{y}<extra></extra>",
         "legendgroup": "6720000",
         "marker": {
          "color": "#EF553B",
          "opacity": 0.5,
          "pattern": {
           "shape": ""
          }
         },
         "name": "6720000",
         "offsetgroup": "6720000",
         "orientation": "v",
         "showlegend": true,
         "type": "histogram",
         "x": [
          5020
         ],
         "xaxis": "x",
         "yaxis": "y"
        },
        {
         "alignmentgroup": "True",
         "bingroup": "x",
         "hovertemplate": "price=6685000<br>area=%{x}<br>count=%{y}<extra></extra>",
         "legendgroup": "6685000",
         "marker": {
          "color": "#00cc96",
          "opacity": 0.5,
          "pattern": {
           "shape": ""
          }
         },
         "name": "6685000",
         "offsetgroup": "6685000",
         "orientation": "v",
         "showlegend": true,
         "type": "histogram",
         "x": [
          6600
         ],
         "xaxis": "x",
         "yaxis": "y"
        },
        {
         "alignmentgroup": "True",
         "bingroup": "x",
         "hovertemplate": "price=6650000<br>area=%{x}<br>count=%{y}<extra></extra>",
         "legendgroup": "6650000",
         "marker": {
          "color": "#ab63fa",
          "opacity": 0.5,
          "pattern": {
           "shape": ""
          }
         },
         "name": "6650000",
         "offsetgroup": "6650000",
         "orientation": "v",
         "showlegend": true,
         "type": "histogram",
         "x": [
          4040,
          4260,
          6420,
          6500,
          5700,
          6000
         ],
         "xaxis": "x",
         "yaxis": "y"
        },
        {
         "alignmentgroup": "True",
         "bingroup": "x",
         "hovertemplate": "price=6629000<br>area=%{x}<br>count=%{y}<extra></extra>",
         "legendgroup": "6629000",
         "marker": {
          "color": "#FFA15A",
          "opacity": 0.5,
          "pattern": {
           "shape": ""
          }
         },
         "name": "6629000",
         "offsetgroup": "6629000",
         "orientation": "v",
         "showlegend": true,
         "type": "histogram",
         "x": [
          6000
         ],
         "xaxis": "x",
         "yaxis": "y"
        },
        {
         "alignmentgroup": "True",
         "bingroup": "x",
         "hovertemplate": "price=6615000<br>area=%{x}<br>count=%{y}<extra></extra>",
         "legendgroup": "6615000",
         "marker": {
          "color": "#19d3f3",
          "opacity": 0.5,
          "pattern": {
           "shape": ""
          }
         },
         "name": "6615000",
         "offsetgroup": "6615000",
         "orientation": "v",
         "showlegend": true,
         "type": "histogram",
         "x": [
          4000,
          10500
         ],
         "xaxis": "x",
         "yaxis": "y"
        },
        {
         "alignmentgroup": "True",
         "bingroup": "x",
         "hovertemplate": "price=6580000<br>area=%{x}<br>count=%{y}<extra></extra>",
         "legendgroup": "6580000",
         "marker": {
          "color": "#FF6692",
          "opacity": 0.5,
          "pattern": {
           "shape": ""
          }
         },
         "name": "6580000",
         "offsetgroup": "6580000",
         "orientation": "v",
         "showlegend": true,
         "type": "histogram",
         "x": [
          6000
         ],
         "xaxis": "x",
         "yaxis": "y"
        },
        {
         "alignmentgroup": "True",
         "bingroup": "x",
         "hovertemplate": "price=6510000<br>area=%{x}<br>count=%{y}<extra></extra>",
         "legendgroup": "6510000",
         "marker": {
          "color": "#B6E880",
          "opacity": 0.5,
          "pattern": {
           "shape": ""
          }
         },
         "name": "6510000",
         "offsetgroup": "6510000",
         "orientation": "v",
         "showlegend": true,
         "type": "histogram",
         "x": [
          3760,
          8250,
          6670
         ],
         "xaxis": "x",
         "yaxis": "y"
        },
        {
         "alignmentgroup": "True",
         "bingroup": "x",
         "hovertemplate": "price=6475000<br>area=%{x}<br>count=%{y}<extra></extra>",
         "legendgroup": "6475000",
         "marker": {
          "color": "#FF97FF",
          "opacity": 0.5,
          "pattern": {
           "shape": ""
          }
         },
         "name": "6475000",
         "offsetgroup": "6475000",
         "orientation": "v",
         "showlegend": true,
         "type": "histogram",
         "x": [
          3960,
          7410
         ],
         "xaxis": "x",
         "yaxis": "y"
        },
        {
         "alignmentgroup": "True",
         "bingroup": "x",
         "hovertemplate": "price=6440000<br>area=%{x}<br>count=%{y}<extra></extra>",
         "legendgroup": "6440000",
         "marker": {
          "color": "#FECB52",
          "opacity": 0.5,
          "pattern": {
           "shape": ""
          }
         },
         "name": "6440000",
         "offsetgroup": "6440000",
         "orientation": "v",
         "showlegend": true,
         "type": "histogram",
         "x": [
          8580,
          5000
         ],
         "xaxis": "x",
         "yaxis": "y"
        },
        {
         "alignmentgroup": "True",
         "bingroup": "x",
         "hovertemplate": "price=6419000<br>area=%{x}<br>count=%{y}<extra></extra>",
         "legendgroup": "6419000",
         "marker": {
          "color": "#636efa",
          "opacity": 0.5,
          "pattern": {
           "shape": ""
          }
         },
         "name": "6419000",
         "offsetgroup": "6419000",
         "orientation": "v",
         "showlegend": true,
         "type": "histogram",
         "x": [
          6750
         ],
         "xaxis": "x",
         "yaxis": "y"
        },
        {
         "alignmentgroup": "True",
         "bingroup": "x",
         "hovertemplate": "price=6405000<br>area=%{x}<br>count=%{y}<extra></extra>",
         "legendgroup": "6405000",
         "marker": {
          "color": "#EF553B",
          "opacity": 0.5,
          "pattern": {
           "shape": ""
          }
         },
         "name": "6405000",
         "offsetgroup": "6405000",
         "orientation": "v",
         "showlegend": true,
         "type": "histogram",
         "x": [
          4800
         ],
         "xaxis": "x",
         "yaxis": "y"
        },
        {
         "alignmentgroup": "True",
         "bingroup": "x",
         "hovertemplate": "price=6300000<br>area=%{x}<br>count=%{y}<extra></extra>",
         "legendgroup": "6300000",
         "marker": {
          "color": "#00cc96",
          "opacity": 0.5,
          "pattern": {
           "shape": ""
          }
         },
         "name": "6300000",
         "offsetgroup": "6300000",
         "orientation": "v",
         "showlegend": true,
         "type": "histogram",
         "x": [
          7200,
          6000,
          4100,
          9000,
          6400
         ],
         "xaxis": "x",
         "yaxis": "y"
        },
        {
         "alignmentgroup": "True",
         "bingroup": "x",
         "hovertemplate": "price=6293000<br>area=%{x}<br>count=%{y}<extra></extra>",
         "legendgroup": "6293000",
         "marker": {
          "color": "#ab63fa",
          "opacity": 0.5,
          "pattern": {
           "shape": ""
          }
         },
         "name": "6293000",
         "offsetgroup": "6293000",
         "orientation": "v",
         "showlegend": true,
         "type": "histogram",
         "x": [
          6600
         ],
         "xaxis": "x",
         "yaxis": "y"
        },
        {
         "alignmentgroup": "True",
         "bingroup": "x",
         "hovertemplate": "price=6265000<br>area=%{x}<br>count=%{y}<extra></extra>",
         "legendgroup": "6265000",
         "marker": {
          "color": "#FFA15A",
          "opacity": 0.5,
          "pattern": {
           "shape": ""
          }
         },
         "name": "6265000",
         "offsetgroup": "6265000",
         "orientation": "v",
         "showlegend": true,
         "type": "histogram",
         "x": [
          6000
         ],
         "xaxis": "x",
         "yaxis": "y"
        },
        {
         "alignmentgroup": "True",
         "bingroup": "x",
         "hovertemplate": "price=6230000<br>area=%{x}<br>count=%{y}<extra></extra>",
         "legendgroup": "6230000",
         "marker": {
          "color": "#19d3f3",
          "opacity": 0.5,
          "pattern": {
           "shape": ""
          }
         },
         "name": "6230000",
         "offsetgroup": "6230000",
         "orientation": "v",
         "showlegend": true,
         "type": "histogram",
         "x": [
          6600,
          5500
         ],
         "xaxis": "x",
         "yaxis": "y"
        },
        {
         "alignmentgroup": "True",
         "bingroup": "x",
         "hovertemplate": "price=6195000<br>area=%{x}<br>count=%{y}<extra></extra>",
         "legendgroup": "6195000",
         "marker": {
          "color": "#FF6692",
          "opacity": 0.5,
          "pattern": {
           "shape": ""
          }
         },
         "name": "6195000",
         "offsetgroup": "6195000",
         "orientation": "v",
         "showlegend": true,
         "type": "histogram",
         "x": [
          5500,
          6350,
          5500
         ],
         "xaxis": "x",
         "yaxis": "y"
        },
        {
         "alignmentgroup": "True",
         "bingroup": "x",
         "hovertemplate": "price=6160000<br>area=%{x}<br>count=%{y}<extra></extra>",
         "legendgroup": "6160000",
         "marker": {
          "color": "#B6E880",
          "opacity": 0.5,
          "pattern": {
           "shape": ""
          }
         },
         "name": "6160000",
         "offsetgroup": "6160000",
         "orientation": "v",
         "showlegend": true,
         "type": "histogram",
         "x": [
          4500,
          5450
         ],
         "xaxis": "x",
         "yaxis": "y"
        },
        {
         "alignmentgroup": "True",
         "bingroup": "x",
         "hovertemplate": "price=6125000<br>area=%{x}<br>count=%{y}<extra></extra>",
         "legendgroup": "6125000",
         "marker": {
          "color": "#FF97FF",
          "opacity": 0.5,
          "pattern": {
           "shape": ""
          }
         },
         "name": "6125000",
         "offsetgroup": "6125000",
         "orientation": "v",
         "showlegend": true,
         "type": "histogram",
         "x": [
          6420
         ],
         "xaxis": "x",
         "yaxis": "y"
        },
        {
         "alignmentgroup": "True",
         "bingroup": "x",
         "hovertemplate": "price=6107500<br>area=%{x}<br>count=%{y}<extra></extra>",
         "legendgroup": "6107500",
         "marker": {
          "color": "#FECB52",
          "opacity": 0.5,
          "pattern": {
           "shape": ""
          }
         },
         "name": "6107500",
         "offsetgroup": "6107500",
         "orientation": "v",
         "showlegend": true,
         "type": "histogram",
         "x": [
          3240
         ],
         "xaxis": "x",
         "yaxis": "y"
        },
        {
         "alignmentgroup": "True",
         "bingroup": "x",
         "hovertemplate": "price=6090000<br>area=%{x}<br>count=%{y}<extra></extra>",
         "legendgroup": "6090000",
         "marker": {
          "color": "#636efa",
          "opacity": 0.5,
          "pattern": {
           "shape": ""
          }
         },
         "name": "6090000",
         "offsetgroup": "6090000",
         "orientation": "v",
         "showlegend": true,
         "type": "histogram",
         "x": [
          6615,
          6600,
          8372
         ],
         "xaxis": "x",
         "yaxis": "y"
        },
        {
         "alignmentgroup": "True",
         "bingroup": "x",
         "hovertemplate": "price=6083000<br>area=%{x}<br>count=%{y}<extra></extra>",
         "legendgroup": "6083000",
         "marker": {
          "color": "#EF553B",
          "opacity": 0.5,
          "pattern": {
           "shape": ""
          }
         },
         "name": "6083000",
         "offsetgroup": "6083000",
         "orientation": "v",
         "showlegend": true,
         "type": "histogram",
         "x": [
          4300,
          9620
         ],
         "xaxis": "x",
         "yaxis": "y"
        },
        {
         "alignmentgroup": "True",
         "bingroup": "x",
         "hovertemplate": "price=6020000<br>area=%{x}<br>count=%{y}<extra></extra>",
         "legendgroup": "6020000",
         "marker": {
          "color": "#00cc96",
          "opacity": 0.5,
          "pattern": {
           "shape": ""
          }
         },
         "name": "6020000",
         "offsetgroup": "6020000",
         "orientation": "v",
         "showlegend": true,
         "type": "histogram",
         "x": [
          6800,
          8000,
          6900
         ],
         "xaxis": "x",
         "yaxis": "y"
        },
        {
         "alignmentgroup": "True",
         "bingroup": "x",
         "hovertemplate": "price=5950000<br>area=%{x}<br>count=%{y}<extra></extra>",
         "legendgroup": "5950000",
         "marker": {
          "color": "#ab63fa",
          "opacity": 0.5,
          "pattern": {
           "shape": ""
          }
         },
         "name": "5950000",
         "offsetgroup": "5950000",
         "orientation": "v",
         "showlegend": true,
         "type": "histogram",
         "x": [
          3700,
          6420,
          7020,
          6540,
          7231,
          6254,
          7320,
          6525
         ],
         "xaxis": "x",
         "yaxis": "y"
        },
        {
         "alignmentgroup": "True",
         "bingroup": "x",
         "hovertemplate": "price=5943000<br>area=%{x}<br>count=%{y}<extra></extra>",
         "legendgroup": "5943000",
         "marker": {
          "color": "#FFA15A",
          "opacity": 0.5,
          "pattern": {
           "shape": ""
          }
         },
         "name": "5943000",
         "offsetgroup": "5943000",
         "orientation": "v",
         "showlegend": true,
         "type": "histogram",
         "x": [
          15600
         ],
         "xaxis": "x",
         "yaxis": "y"
        },
        {
         "alignmentgroup": "True",
         "bingroup": "x",
         "hovertemplate": "price=5880000<br>area=%{x}<br>count=%{y}<extra></extra>",
         "legendgroup": "5880000",
         "marker": {
          "color": "#19d3f3",
          "opacity": 0.5,
          "pattern": {
           "shape": ""
          }
         },
         "name": "5880000",
         "offsetgroup": "5880000",
         "orientation": "v",
         "showlegend": true,
         "type": "histogram",
         "x": [
          7160,
          6500
         ],
         "xaxis": "x",
         "yaxis": "y"
        },
        {
         "alignmentgroup": "True",
         "bingroup": "x",
         "hovertemplate": "price=5873000<br>area=%{x}<br>count=%{y}<extra></extra>",
         "legendgroup": "5873000",
         "marker": {
          "color": "#FF6692",
          "opacity": 0.5,
          "pattern": {
           "shape": ""
          }
         },
         "name": "5873000",
         "offsetgroup": "5873000",
         "orientation": "v",
         "showlegend": true,
         "type": "histogram",
         "x": [
          5500,
          11460
         ],
         "xaxis": "x",
         "yaxis": "y"
        },
        {
         "alignmentgroup": "True",
         "bingroup": "x",
         "hovertemplate": "price=5866000<br>area=%{x}<br>count=%{y}<extra></extra>",
         "legendgroup": "5866000",
         "marker": {
          "color": "#B6E880",
          "opacity": 0.5,
          "pattern": {
           "shape": ""
          }
         },
         "name": "5866000",
         "offsetgroup": "5866000",
         "orientation": "v",
         "showlegend": true,
         "type": "histogram",
         "x": [
          4800
         ],
         "xaxis": "x",
         "yaxis": "y"
        },
        {
         "alignmentgroup": "True",
         "bingroup": "x",
         "hovertemplate": "price=5810000<br>area=%{x}<br>count=%{y}<extra></extra>",
         "legendgroup": "5810000",
         "marker": {
          "color": "#FF97FF",
          "opacity": 0.5,
          "pattern": {
           "shape": ""
          }
         },
         "name": "5810000",
         "offsetgroup": "5810000",
         "orientation": "v",
         "showlegend": true,
         "type": "histogram",
         "x": [
          5828,
          5200,
          4800
         ],
         "xaxis": "x",
         "yaxis": "y"
        },
        {
         "alignmentgroup": "True",
         "bingroup": "x",
         "hovertemplate": "price=5803000<br>area=%{x}<br>count=%{y}<extra></extra>",
         "legendgroup": "5803000",
         "marker": {
          "color": "#FECB52",
          "opacity": 0.5,
          "pattern": {
           "shape": ""
          }
         },
         "name": "5803000",
         "offsetgroup": "5803000",
         "orientation": "v",
         "showlegend": true,
         "type": "histogram",
         "x": [
          7000
         ],
         "xaxis": "x",
         "yaxis": "y"
        },
        {
         "alignmentgroup": "True",
         "bingroup": "x",
         "hovertemplate": "price=5775000<br>area=%{x}<br>count=%{y}<extra></extra>",
         "legendgroup": "5775000",
         "marker": {
          "color": "#636efa",
          "opacity": 0.5,
          "pattern": {
           "shape": ""
          }
         },
         "name": "5775000",
         "offsetgroup": "5775000",
         "orientation": "v",
         "showlegend": true,
         "type": "histogram",
         "x": [
          6000
         ],
         "xaxis": "x",
         "yaxis": "y"
        },
        {
         "alignmentgroup": "True",
         "bingroup": "x",
         "hovertemplate": "price=5740000<br>area=%{x}<br>count=%{y}<extra></extra>",
         "legendgroup": "5740000",
         "marker": {
          "color": "#EF553B",
          "opacity": 0.5,
          "pattern": {
           "shape": ""
          }
         },
         "name": "5740000",
         "offsetgroup": "5740000",
         "orientation": "v",
         "showlegend": true,
         "type": "histogram",
         "x": [
          5400,
          4640,
          5000,
          6360,
          5800
         ],
         "xaxis": "x",
         "yaxis": "y"
        },
        {
         "alignmentgroup": "True",
         "bingroup": "x",
         "hovertemplate": "price=5652500<br>area=%{x}<br>count=%{y}<extra></extra>",
         "legendgroup": "5652500",
         "marker": {
          "color": "#00cc96",
          "opacity": 0.5,
          "pattern": {
           "shape": ""
          }
         },
         "name": "5652500",
         "offsetgroup": "5652500",
         "orientation": "v",
         "showlegend": true,
         "type": "histogram",
         "x": [
          6660
         ],
         "xaxis": "x",
         "yaxis": "y"
        },
        {
         "alignmentgroup": "True",
         "bingroup": "x",
         "hovertemplate": "price=5600000<br>area=%{x}<br>count=%{y}<extra></extra>",
         "legendgroup": "5600000",
         "marker": {
          "color": "#ab63fa",
          "opacity": 0.5,
          "pattern": {
           "shape": ""
          }
         },
         "name": "5600000",
         "offsetgroup": "5600000",
         "orientation": "v",
         "showlegend": true,
         "type": "histogram",
         "x": [
          10500,
          4800,
          4700,
          5000,
          10500,
          5500,
          6360,
          6600,
          5136
         ],
         "xaxis": "x",
         "yaxis": "y"
        },
        {
         "alignmentgroup": "True",
         "bingroup": "x",
         "hovertemplate": "price=5565000<br>area=%{x}<br>count=%{y}<extra></extra>",
         "legendgroup": "5565000",
         "marker": {
          "color": "#FFA15A",
          "opacity": 0.5,
          "pattern": {
           "shape": ""
          }
         },
         "name": "5565000",
         "offsetgroup": "5565000",
         "orientation": "v",
         "showlegend": true,
         "type": "histogram",
         "x": [
          4400,
          5400
         ],
         "xaxis": "x",
         "yaxis": "y"
        },
        {
         "alignmentgroup": "True",
         "bingroup": "x",
         "hovertemplate": "price=5530000<br>area=%{x}<br>count=%{y}<extra></extra>",
         "legendgroup": "5530000",
         "marker": {
          "color": "#19d3f3",
          "opacity": 0.5,
          "pattern": {
           "shape": ""
          }
         },
         "name": "5530000",
         "offsetgroup": "5530000",
         "orientation": "v",
         "showlegend": true,
         "type": "histogram",
         "x": [
          3300,
          3650,
          6100
         ],
         "xaxis": "x",
         "yaxis": "y"
        },
        {
         "alignmentgroup": "True",
         "bingroup": "x",
         "hovertemplate": "price=5523000<br>area=%{x}<br>count=%{y}<extra></extra>",
         "legendgroup": "5523000",
         "marker": {
          "color": "#FF6692",
          "opacity": 0.5,
          "pattern": {
           "shape": ""
          }
         },
         "name": "5523000",
         "offsetgroup": "5523000",
         "orientation": "v",
         "showlegend": true,
         "type": "histogram",
         "x": [
          6900
         ],
         "xaxis": "x",
         "yaxis": "y"
        },
        {
         "alignmentgroup": "True",
         "bingroup": "x",
         "hovertemplate": "price=5495000<br>area=%{x}<br>count=%{y}<extra></extra>",
         "legendgroup": "5495000",
         "marker": {
          "color": "#B6E880",
          "opacity": 0.5,
          "pattern": {
           "shape": ""
          }
         },
         "name": "5495000",
         "offsetgroup": "5495000",
         "orientation": "v",
         "showlegend": true,
         "type": "histogram",
         "x": [
          2817,
          7980
         ],
         "xaxis": "x",
         "yaxis": "y"
        },
        {
         "alignmentgroup": "True",
         "bingroup": "x",
         "hovertemplate": "price=5460000<br>area=%{x}<br>count=%{y}<extra></extra>",
         "legendgroup": "5460000",
         "marker": {
          "color": "#FF97FF",
          "opacity": 0.5,
          "pattern": {
           "shape": ""
          }
         },
         "name": "5460000",
         "offsetgroup": "5460000",
         "orientation": "v",
         "showlegend": true,
         "type": "histogram",
         "x": [
          3150,
          6210,
          6100,
          6600
         ],
         "xaxis": "x",
         "yaxis": "y"
        },
        {
         "alignmentgroup": "True",
         "bingroup": "x",
         "hovertemplate": "price=5425000<br>area=%{x}<br>count=%{y}<extra></extra>",
         "legendgroup": "5425000",
         "marker": {
          "color": "#FECB52",
          "opacity": 0.5,
          "pattern": {
           "shape": ""
          }
         },
         "name": "5425000",
         "offsetgroup": "5425000",
         "orientation": "v",
         "showlegend": true,
         "type": "histogram",
         "x": [
          6825
         ],
         "xaxis": "x",
         "yaxis": "y"
        },
        {
         "alignmentgroup": "True",
         "bingroup": "x",
         "hovertemplate": "price=5390000<br>area=%{x}<br>count=%{y}<extra></extra>",
         "legendgroup": "5390000",
         "marker": {
          "color": "#636efa",
          "opacity": 0.5,
          "pattern": {
           "shape": ""
          }
         },
         "name": "5390000",
         "offsetgroup": "5390000",
         "orientation": "v",
         "showlegend": true,
         "type": "histogram",
         "x": [
          6710
         ],
         "xaxis": "x",
         "yaxis": "y"
        },
        {
         "alignmentgroup": "True",
         "bingroup": "x",
         "hovertemplate": "price=5383000<br>area=%{x}<br>count=%{y}<extra></extra>",
         "legendgroup": "5383000",
         "marker": {
          "color": "#EF553B",
          "opacity": 0.5,
          "pattern": {
           "shape": ""
          }
         },
         "name": "5383000",
         "offsetgroup": "5383000",
         "orientation": "v",
         "showlegend": true,
         "type": "histogram",
         "x": [
          6450
         ],
         "xaxis": "x",
         "yaxis": "y"
        },
        {
         "alignmentgroup": "True",
         "bingroup": "x",
         "hovertemplate": "price=5320000<br>area=%{x}<br>count=%{y}<extra></extra>",
         "legendgroup": "5320000",
         "marker": {
          "color": "#00cc96",
          "opacity": 0.5,
          "pattern": {
           "shape": ""
          }
         },
         "name": "5320000",
         "offsetgroup": "5320000",
         "orientation": "v",
         "showlegend": true,
         "type": "histogram",
         "x": [
          7800
         ],
         "xaxis": "x",
         "yaxis": "y"
        },
        {
         "alignmentgroup": "True",
         "bingroup": "x",
         "hovertemplate": "price=5285000<br>area=%{x}<br>count=%{y}<extra></extra>",
         "legendgroup": "5285000",
         "marker": {
          "color": "#ab63fa",
          "opacity": 0.5,
          "pattern": {
           "shape": ""
          }
         },
         "name": "5285000",
         "offsetgroup": "5285000",
         "orientation": "v",
         "showlegend": true,
         "type": "histogram",
         "x": [
          4600
         ],
         "xaxis": "x",
         "yaxis": "y"
        },
        {
         "alignmentgroup": "True",
         "bingroup": "x",
         "hovertemplate": "price=5250000<br>area=%{x}<br>count=%{y}<extra></extra>",
         "legendgroup": "5250000",
         "marker": {
          "color": "#FFA15A",
          "opacity": 0.5,
          "pattern": {
           "shape": ""
          }
         },
         "name": "5250000",
         "offsetgroup": "5250000",
         "orientation": "v",
         "showlegend": true,
         "type": "histogram",
         "x": [
          4260,
          6540,
          5500,
          10269,
          8400,
          5300,
          3800,
          9800,
          8520
         ],
         "xaxis": "x",
         "yaxis": "y"
        },
        {
         "alignmentgroup": "True",
         "bingroup": "x",
         "hovertemplate": "price=5243000<br>area=%{x}<br>count=%{y}<extra></extra>",
         "legendgroup": "5243000",
         "marker": {
          "color": "#19d3f3",
          "opacity": 0.5,
          "pattern": {
           "shape": ""
          }
         },
         "name": "5243000",
         "offsetgroup": "5243000",
         "orientation": "v",
         "showlegend": true,
         "type": "histogram",
         "x": [
          6050
         ],
         "xaxis": "x",
         "yaxis": "y"
        },
        {
         "alignmentgroup": "True",
         "bingroup": "x",
         "hovertemplate": "price=5229000<br>area=%{x}<br>count=%{y}<extra></extra>",
         "legendgroup": "5229000",
         "marker": {
          "color": "#FF6692",
          "opacity": 0.5,
          "pattern": {
           "shape": ""
          }
         },
         "name": "5229000",
         "offsetgroup": "5229000",
         "orientation": "v",
         "showlegend": true,
         "type": "histogram",
         "x": [
          7085
         ],
         "xaxis": "x",
         "yaxis": "y"
        },
        {
         "alignmentgroup": "True",
         "bingroup": "x",
         "hovertemplate": "price=5215000<br>area=%{x}<br>count=%{y}<extra></extra>",
         "legendgroup": "5215000",
         "marker": {
          "color": "#B6E880",
          "opacity": 0.5,
          "pattern": {
           "shape": ""
          }
         },
         "name": "5215000",
         "offsetgroup": "5215000",
         "orientation": "v",
         "showlegend": true,
         "type": "histogram",
         "x": [
          3180,
          4500,
          7200
         ],
         "xaxis": "x",
         "yaxis": "y"
        },
        {
         "alignmentgroup": "True",
         "bingroup": "x",
         "hovertemplate": "price=5145000<br>area=%{x}<br>count=%{y}<extra></extra>",
         "legendgroup": "5145000",
         "marker": {
          "color": "#FF97FF",
          "opacity": 0.5,
          "pattern": {
           "shape": ""
          }
         },
         "name": "5145000",
         "offsetgroup": "5145000",
         "orientation": "v",
         "showlegend": true,
         "type": "histogram",
         "x": [
          3410,
          7980
         ],
         "xaxis": "x",
         "yaxis": "y"
        },
        {
         "alignmentgroup": "True",
         "bingroup": "x",
         "hovertemplate": "price=5110000<br>area=%{x}<br>count=%{y}<extra></extra>",
         "legendgroup": "5110000",
         "marker": {
          "color": "#FECB52",
          "opacity": 0.5,
          "pattern": {
           "shape": ""
          }
         },
         "name": "5110000",
         "offsetgroup": "5110000",
         "orientation": "v",
         "showlegend": true,
         "type": "histogram",
         "x": [
          3000,
          3000,
          11410,
          6100
         ],
         "xaxis": "x",
         "yaxis": "y"
        },
        {
         "alignmentgroup": "True",
         "bingroup": "x",
         "hovertemplate": "price=5075000<br>area=%{x}<br>count=%{y}<extra></extra>",
         "legendgroup": "5075000",
         "marker": {
          "color": "#636efa",
          "opacity": 0.5,
          "pattern": {
           "shape": ""
          }
         },
         "name": "5075000",
         "offsetgroup": "5075000",
         "orientation": "v",
         "showlegend": true,
         "type": "histogram",
         "x": [
          5720
         ],
         "xaxis": "x",
         "yaxis": "y"
        },
        {
         "alignmentgroup": "True",
         "bingroup": "x",
         "hovertemplate": "price=5040000<br>area=%{x}<br>count=%{y}<extra></extra>",
         "legendgroup": "5040000",
         "marker": {
          "color": "#EF553B",
          "opacity": 0.5,
          "pattern": {
           "shape": ""
          }
         },
         "name": "5040000",
         "offsetgroup": "5040000",
         "orientation": "v",
         "showlegend": true,
         "type": "histogram",
         "x": [
          3540,
          7600,
          10700,
          6600
         ],
         "xaxis": "x",
         "yaxis": "y"
        },
        {
         "alignmentgroup": "True",
         "bingroup": "x",
         "hovertemplate": "price=5033000<br>area=%{x}<br>count=%{y}<extra></extra>",
         "legendgroup": "5033000",
         "marker": {
          "color": "#00cc96",
          "opacity": 0.5,
          "pattern": {
           "shape": ""
          }
         },
         "name": "5033000",
         "offsetgroup": "5033000",
         "orientation": "v",
         "showlegend": true,
         "type": "histogram",
         "x": [
          4800
         ],
         "xaxis": "x",
         "yaxis": "y"
        },
        {
         "alignmentgroup": "True",
         "bingroup": "x",
         "hovertemplate": "price=5005000<br>area=%{x}<br>count=%{y}<extra></extra>",
         "legendgroup": "5005000",
         "marker": {
          "color": "#ab63fa",
          "opacity": 0.5,
          "pattern": {
           "shape": ""
          }
         },
         "name": "5005000",
         "offsetgroup": "5005000",
         "orientation": "v",
         "showlegend": true,
         "type": "histogram",
         "x": [
          8150
         ],
         "xaxis": "x",
         "yaxis": "y"
        },
        {
         "alignmentgroup": "True",
         "bingroup": "x",
         "hovertemplate": "price=4970000<br>area=%{x}<br>count=%{y}<extra></extra>",
         "legendgroup": "4970000",
         "marker": {
          "color": "#FFA15A",
          "opacity": 0.5,
          "pattern": {
           "shape": ""
          }
         },
         "name": "4970000",
         "offsetgroup": "4970000",
         "orientation": "v",
         "showlegend": true,
         "type": "histogram",
         "x": [
          4410,
          7686
         ],
         "xaxis": "x",
         "yaxis": "y"
        },
        {
         "alignmentgroup": "True",
         "bingroup": "x",
         "hovertemplate": "price=4956000<br>area=%{x}<br>count=%{y}<extra></extra>",
         "legendgroup": "4956000",
         "marker": {
          "color": "#19d3f3",
          "opacity": 0.5,
          "pattern": {
           "shape": ""
          }
         },
         "name": "4956000",
         "offsetgroup": "4956000",
         "orientation": "v",
         "showlegend": true,
         "type": "histogram",
         "x": [
          2800
         ],
         "xaxis": "x",
         "yaxis": "y"
        },
        {
         "alignmentgroup": "True",
         "bingroup": "x",
         "hovertemplate": "price=4935000<br>area=%{x}<br>count=%{y}<extra></extra>",
         "legendgroup": "4935000",
         "marker": {
          "color": "#FF6692",
          "opacity": 0.5,
          "pattern": {
           "shape": ""
          }
         },
         "name": "4935000",
         "offsetgroup": "4935000",
         "orientation": "v",
         "showlegend": true,
         "type": "histogram",
         "x": [
          5948
         ],
         "xaxis": "x",
         "yaxis": "y"
        },
        {
         "alignmentgroup": "True",
         "bingroup": "x",
         "hovertemplate": "price=4907000<br>area=%{x}<br>count=%{y}<extra></extra>",
         "legendgroup": "4907000",
         "marker": {
          "color": "#B6E880",
          "opacity": 0.5,
          "pattern": {
           "shape": ""
          }
         },
         "name": "4907000",
         "offsetgroup": "4907000",
         "orientation": "v",
         "showlegend": true,
         "type": "histogram",
         "x": [
          4200
         ],
         "xaxis": "x",
         "yaxis": "y"
        },
        {
         "alignmentgroup": "True",
         "bingroup": "x",
         "hovertemplate": "price=4900000<br>area=%{x}<br>count=%{y}<extra></extra>",
         "legendgroup": "4900000",
         "marker": {
          "color": "#FF97FF",
          "opacity": 0.5,
          "pattern": {
           "shape": ""
          }
         },
         "name": "4900000",
         "offsetgroup": "4900000",
         "orientation": "v",
         "showlegend": true,
         "type": "histogram",
         "x": [
          4520,
          4095,
          4120,
          5400,
          4770,
          6300,
          5800,
          3000,
          2970,
          6720,
          4646,
          12900
         ],
         "xaxis": "x",
         "yaxis": "y"
        },
        {
         "alignmentgroup": "True",
         "bingroup": "x",
         "hovertemplate": "price=4893000<br>area=%{x}<br>count=%{y}<extra></extra>",
         "legendgroup": "4893000",
         "marker": {
          "color": "#FECB52",
          "opacity": 0.5,
          "pattern": {
           "shape": ""
          }
         },
         "name": "4893000",
         "offsetgroup": "4893000",
         "orientation": "v",
         "showlegend": true,
         "type": "histogram",
         "x": [
          3420,
          4995
         ],
         "xaxis": "x",
         "yaxis": "y"
        },
        {
         "alignmentgroup": "True",
         "bingroup": "x",
         "hovertemplate": "price=4865000<br>area=%{x}<br>count=%{y}<extra></extra>",
         "legendgroup": "4865000",
         "marker": {
          "color": "#636efa",
          "opacity": 0.5,
          "pattern": {
           "shape": ""
          }
         },
         "name": "4865000",
         "offsetgroup": "4865000",
         "orientation": "v",
         "showlegend": true,
         "type": "histogram",
         "x": [
          4350
         ],
         "xaxis": "x",
         "yaxis": "y"
        },
        {
         "alignmentgroup": "True",
         "bingroup": "x",
         "hovertemplate": "price=4830000<br>area=%{x}<br>count=%{y}<extra></extra>",
         "legendgroup": "4830000",
         "marker": {
          "color": "#EF553B",
          "opacity": 0.5,
          "pattern": {
           "shape": ""
          }
         },
         "name": "4830000",
         "offsetgroup": "4830000",
         "orientation": "v",
         "showlegend": true,
         "type": "histogram",
         "x": [
          4160,
          6040,
          6862,
          4815
         ],
         "xaxis": "x",
         "yaxis": "y"
        },
        {
         "alignmentgroup": "True",
         "bingroup": "x",
         "hovertemplate": "price=4795000<br>area=%{x}<br>count=%{y}<extra></extra>",
         "legendgroup": "4795000",
         "marker": {
          "color": "#00cc96",
          "opacity": 0.5,
          "pattern": {
           "shape": ""
          }
         },
         "name": "4795000",
         "offsetgroup": "4795000",
         "orientation": "v",
         "showlegend": true,
         "type": "histogram",
         "x": [
          7000,
          8100
         ],
         "xaxis": "x",
         "yaxis": "y"
        },
        {
         "alignmentgroup": "True",
         "bingroup": "x",
         "hovertemplate": "price=4767000<br>area=%{x}<br>count=%{y}<extra></extra>",
         "legendgroup": "4767000",
         "marker": {
          "color": "#ab63fa",
          "opacity": 0.5,
          "pattern": {
           "shape": ""
          }
         },
         "name": "4767000",
         "offsetgroup": "4767000",
         "orientation": "v",
         "showlegend": true,
         "type": "histogram",
         "x": [
          3420
         ],
         "xaxis": "x",
         "yaxis": "y"
        },
        {
         "alignmentgroup": "True",
         "bingroup": "x",
         "hovertemplate": "price=4760000<br>area=%{x}<br>count=%{y}<extra></extra>",
         "legendgroup": "4760000",
         "marker": {
          "color": "#FFA15A",
          "opacity": 0.5,
          "pattern": {
           "shape": ""
          }
         },
         "name": "4760000",
         "offsetgroup": "4760000",
         "orientation": "v",
         "showlegend": true,
         "type": "histogram",
         "x": [
          9166,
          6321,
          10240
         ],
         "xaxis": "x",
         "yaxis": "y"
        },
        {
         "alignmentgroup": "True",
         "bingroup": "x",
         "hovertemplate": "price=4753000<br>area=%{x}<br>count=%{y}<extra></extra>",
         "legendgroup": "4753000",
         "marker": {
          "color": "#19d3f3",
          "opacity": 0.5,
          "pattern": {
           "shape": ""
          }
         },
         "name": "4753000",
         "offsetgroup": "4753000",
         "orientation": "v",
         "showlegend": true,
         "type": "histogram",
         "x": [
          6440
         ],
         "xaxis": "x",
         "yaxis": "y"
        },
        {
         "alignmentgroup": "True",
         "bingroup": "x",
         "hovertemplate": "price=4690000<br>area=%{x}<br>count=%{y}<extra></extra>",
         "legendgroup": "4690000",
         "marker": {
          "color": "#FF6692",
          "opacity": 0.5,
          "pattern": {
           "shape": ""
          }
         },
         "name": "4690000",
         "offsetgroup": "4690000",
         "orientation": "v",
         "showlegend": true,
         "type": "histogram",
         "x": [
          5170,
          6000,
          3630,
          9667,
          5400,
          4320
         ],
         "xaxis": "x",
         "yaxis": "y"
        },
        {
         "alignmentgroup": "True",
         "bingroup": "x",
         "hovertemplate": "price=4655000<br>area=%{x}<br>count=%{y}<extra></extra>",
         "legendgroup": "4655000",
         "marker": {
          "color": "#B6E880",
          "opacity": 0.5,
          "pattern": {
           "shape": ""
          }
         },
         "name": "4655000",
         "offsetgroup": "4655000",
         "orientation": "v",
         "showlegend": true,
         "type": "histogram",
         "x": [
          3745
         ],
         "xaxis": "x",
         "yaxis": "y"
        },
        {
         "alignmentgroup": "True",
         "bingroup": "x",
         "hovertemplate": "price=4620000<br>area=%{x}<br>count=%{y}<extra></extra>",
         "legendgroup": "4620000",
         "marker": {
          "color": "#FF97FF",
          "opacity": 0.5,
          "pattern": {
           "shape": ""
          }
         },
         "name": "4620000",
         "offsetgroup": "4620000",
         "orientation": "v",
         "showlegend": true,
         "type": "histogram",
         "x": [
          4160,
          3880,
          5680,
          2870,
          5010
         ],
         "xaxis": "x",
         "yaxis": "y"
        },
        {
         "alignmentgroup": "True",
         "bingroup": "x",
         "hovertemplate": "price=4613000<br>area=%{x}<br>count=%{y}<extra></extra>",
         "legendgroup": "4613000",
         "marker": {
          "color": "#FECB52",
          "opacity": 0.5,
          "pattern": {
           "shape": ""
          }
         },
         "name": "4613000",
         "offsetgroup": "4613000",
         "orientation": "v",
         "showlegend": true,
         "type": "histogram",
         "x": [
          4510
         ],
         "xaxis": "x",
         "yaxis": "y"
        },
        {
         "alignmentgroup": "True",
         "bingroup": "x",
         "hovertemplate": "price=4585000<br>area=%{x}<br>count=%{y}<extra></extra>",
         "legendgroup": "4585000",
         "marker": {
          "color": "#636efa",
          "opacity": 0.5,
          "pattern": {
           "shape": ""
          }
         },
         "name": "4585000",
         "offsetgroup": "4585000",
         "orientation": "v",
         "showlegend": true,
         "type": "histogram",
         "x": [
          4000,
          3840
         ],
         "xaxis": "x",
         "yaxis": "y"
        },
        {
         "alignmentgroup": "True",
         "bingroup": "x",
         "hovertemplate": "price=4550000<br>area=%{x}<br>count=%{y}<extra></extra>",
         "legendgroup": "4550000",
         "marker": {
          "color": "#EF553B",
          "opacity": 0.5,
          "pattern": {
           "shape": ""
          }
         },
         "name": "4550000",
         "offsetgroup": "4550000",
         "orientation": "v",
         "showlegend": true,
         "type": "histogram",
         "x": [
          3760,
          3640,
          2550,
          5320,
          5360,
          3520,
          8400
         ],
         "xaxis": "x",
         "yaxis": "y"
        },
        {
         "alignmentgroup": "True",
         "bingroup": "x",
         "hovertemplate": "price=4543000<br>area=%{x}<br>count=%{y}<extra></extra>",
         "legendgroup": "4543000",
         "marker": {
          "color": "#00cc96",
          "opacity": 0.5,
          "pattern": {
           "shape": ""
          }
         },
         "name": "4543000",
         "offsetgroup": "4543000",
         "orientation": "v",
         "showlegend": true,
         "type": "histogram",
         "x": [
          4100,
          4990
         ],
         "xaxis": "x",
         "yaxis": "y"
        },
        {
         "alignmentgroup": "True",
         "bingroup": "x",
         "hovertemplate": "price=4515000<br>area=%{x}<br>count=%{y}<extra></extra>",
         "legendgroup": "4515000",
         "marker": {
          "color": "#ab63fa",
          "opacity": 0.5,
          "pattern": {
           "shape": ""
          }
         },
         "name": "4515000",
         "offsetgroup": "4515000",
         "orientation": "v",
         "showlegend": true,
         "type": "histogram",
         "x": [
          3510,
          3450,
          9860,
          3520
         ],
         "xaxis": "x",
         "yaxis": "y"
        },
        {
         "alignmentgroup": "True",
         "bingroup": "x",
         "hovertemplate": "price=4480000<br>area=%{x}<br>count=%{y}<extra></extra>",
         "legendgroup": "4480000",
         "marker": {
          "color": "#FFA15A",
          "opacity": 0.5,
          "pattern": {
           "shape": ""
          }
         },
         "name": "4480000",
         "offsetgroup": "4480000",
         "orientation": "v",
         "showlegend": true,
         "type": "histogram",
         "x": [
          4510,
          5885,
          4000,
          8250,
          4040
         ],
         "xaxis": "x",
         "yaxis": "y"
        },
        {
         "alignmentgroup": "True",
         "bingroup": "x",
         "hovertemplate": "price=4473000<br>area=%{x}<br>count=%{y}<extra></extra>",
         "legendgroup": "4473000",
         "marker": {
          "color": "#19d3f3",
          "opacity": 0.5,
          "pattern": {
           "shape": ""
          }
         },
         "name": "4473000",
         "offsetgroup": "4473000",
         "orientation": "v",
         "showlegend": true,
         "type": "histogram",
         "x": [
          6360,
          3162,
          3510
         ],
         "xaxis": "x",
         "yaxis": "y"
        },
        {
         "alignmentgroup": "True",
         "bingroup": "x",
         "hovertemplate": "price=4445000<br>area=%{x}<br>count=%{y}<extra></extra>",
         "legendgroup": "4445000",
         "marker": {
          "color": "#FF6692",
          "opacity": 0.5,
          "pattern": {
           "shape": ""
          }
         },
         "name": "4445000",
         "offsetgroup": "4445000",
         "orientation": "v",
         "showlegend": true,
         "type": "histogram",
         "x": [
          3750
         ],
         "xaxis": "x",
         "yaxis": "y"
        },
        {
         "alignmentgroup": "True",
         "bingroup": "x",
         "hovertemplate": "price=4410000<br>area=%{x}<br>count=%{y}<extra></extra>",
         "legendgroup": "4410000",
         "marker": {
          "color": "#B6E880",
          "opacity": 0.5,
          "pattern": {
           "shape": ""
          }
         },
         "name": "4410000",
         "offsetgroup": "4410000",
         "orientation": "v",
         "showlegend": true,
         "type": "histogram",
         "x": [
          3968,
          4900
         ],
         "xaxis": "x",
         "yaxis": "y"
        },
        {
         "alignmentgroup": "True",
         "bingroup": "x",
         "hovertemplate": "price=4403000<br>area=%{x}<br>count=%{y}<extra></extra>",
         "legendgroup": "4403000",
         "marker": {
          "color": "#FF97FF",
          "opacity": 0.5,
          "pattern": {
           "shape": ""
          }
         },
         "name": "4403000",
         "offsetgroup": "4403000",
         "orientation": "v",
         "showlegend": true,
         "type": "histogram",
         "x": [
          2880,
          4880,
          4920
         ],
         "xaxis": "x",
         "yaxis": "y"
        },
        {
         "alignmentgroup": "True",
         "bingroup": "x",
         "hovertemplate": "price=4382000<br>area=%{x}<br>count=%{y}<extra></extra>",
         "legendgroup": "4382000",
         "marker": {
          "color": "#FECB52",
          "opacity": 0.5,
          "pattern": {
           "shape": ""
          }
         },
         "name": "4382000",
         "offsetgroup": "4382000",
         "orientation": "v",
         "showlegend": true,
         "type": "histogram",
         "x": [
          4950
         ],
         "xaxis": "x",
         "yaxis": "y"
        },
        {
         "alignmentgroup": "True",
         "bingroup": "x",
         "hovertemplate": "price=4375000<br>area=%{x}<br>count=%{y}<extra></extra>",
         "legendgroup": "4375000",
         "marker": {
          "color": "#636efa",
          "opacity": 0.5,
          "pattern": {
           "shape": ""
          }
         },
         "name": "4375000",
         "offsetgroup": "4375000",
         "orientation": "v",
         "showlegend": true,
         "type": "histogram",
         "x": [
          3900
         ],
         "xaxis": "x",
         "yaxis": "y"
        },
        {
         "alignmentgroup": "True",
         "bingroup": "x",
         "hovertemplate": "price=4340000<br>area=%{x}<br>count=%{y}<extra></extra>",
         "legendgroup": "4340000",
         "marker": {
          "color": "#EF553B",
          "opacity": 0.5,
          "pattern": {
           "shape": ""
          }
         },
         "name": "4340000",
         "offsetgroup": "4340000",
         "orientation": "v",
         "showlegend": true,
         "type": "histogram",
         "x": [
          4500,
          1905,
          4075,
          3500,
          6450
         ],
         "xaxis": "x",
         "yaxis": "y"
        },
        {
         "alignmentgroup": "True",
         "bingroup": "x",
         "hovertemplate": "price=4319000<br>area=%{x}<br>count=%{y}<extra></extra>",
         "legendgroup": "4319000",
         "marker": {
          "color": "#00cc96",
          "opacity": 0.5,
          "pattern": {
           "shape": ""
          }
         },
         "name": "4319000",
         "offsetgroup": "4319000",
         "orientation": "v",
         "showlegend": true,
         "type": "histogram",
         "x": [
          4032
         ],
         "xaxis": "x",
         "yaxis": "y"
        },
        {
         "alignmentgroup": "True",
         "bingroup": "x",
         "hovertemplate": "price=4305000<br>area=%{x}<br>count=%{y}<extra></extra>",
         "legendgroup": "4305000",
         "marker": {
          "color": "#ab63fa",
          "opacity": 0.5,
          "pattern": {
           "shape": ""
          }
         },
         "name": "4305000",
         "offsetgroup": "4305000",
         "orientation": "v",
         "showlegend": true,
         "type": "histogram",
         "x": [
          4400,
          10360
         ],
         "xaxis": "x",
         "yaxis": "y"
        },
        {
         "alignmentgroup": "True",
         "bingroup": "x",
         "hovertemplate": "price=4277000<br>area=%{x}<br>count=%{y}<extra></extra>",
         "legendgroup": "4277000",
         "marker": {
          "color": "#FFA15A",
          "opacity": 0.5,
          "pattern": {
           "shape": ""
          }
         },
         "name": "4277000",
         "offsetgroup": "4277000",
         "orientation": "v",
         "showlegend": true,
         "type": "histogram",
         "x": [
          3400
         ],
         "xaxis": "x",
         "yaxis": "y"
        },
        {
         "alignmentgroup": "True",
         "bingroup": "x",
         "hovertemplate": "price=4270000<br>area=%{x}<br>count=%{y}<extra></extra>",
         "legendgroup": "4270000",
         "marker": {
          "color": "#19d3f3",
          "opacity": 0.5,
          "pattern": {
           "shape": ""
          }
         },
         "name": "4270000",
         "offsetgroup": "4270000",
         "orientation": "v",
         "showlegend": true,
         "type": "histogram",
         "x": [
          6360,
          6360,
          4500,
          2175,
          4360,
          7770
         ],
         "xaxis": "x",
         "yaxis": "y"
        },
        {
         "alignmentgroup": "True",
         "bingroup": "x",
         "hovertemplate": "price=4235000<br>area=%{x}<br>count=%{y}<extra></extra>",
         "legendgroup": "4235000",
         "marker": {
          "color": "#FF6692",
          "opacity": 0.5,
          "pattern": {
           "shape": ""
          }
         },
         "name": "4235000",
         "offsetgroup": "4235000",
         "orientation": "v",
         "showlegend": true,
         "type": "histogram",
         "x": [
          6650,
          2787
         ],
         "xaxis": "x",
         "yaxis": "y"
        },
        {
         "alignmentgroup": "True",
         "bingroup": "x",
         "hovertemplate": "price=4200000<br>area=%{x}<br>count=%{y}<extra></extra>",
         "legendgroup": "4200000",
         "marker": {
          "color": "#B6E880",
          "opacity": 0.5,
          "pattern": {
           "shape": ""
          }
         },
         "name": "4200000",
         "offsetgroup": "4200000",
         "orientation": "v",
         "showlegend": true,
         "type": "histogram",
         "x": [
          5500,
          5040,
          5850,
          2610,
          2953,
          2747,
          4410,
          4000,
          2325,
          4600,
          3640,
          5800,
          7000,
          4079,
          3520,
          2145,
          4500
         ],
         "xaxis": "x",
         "yaxis": "y"
        },
        {
         "alignmentgroup": "True",
         "bingroup": "x",
         "hovertemplate": "price=4193000<br>area=%{x}<br>count=%{y}<extra></extra>",
         "legendgroup": "4193000",
         "marker": {
          "color": "#FF97FF",
          "opacity": 0.5,
          "pattern": {
           "shape": ""
          }
         },
         "name": "4193000",
         "offsetgroup": "4193000",
         "orientation": "v",
         "showlegend": true,
         "type": "histogram",
         "x": [
          8250,
          3450
         ],
         "xaxis": "x",
         "yaxis": "y"
        },
        {
         "alignmentgroup": "True",
         "bingroup": "x",
         "hovertemplate": "price=4165000<br>area=%{x}<br>count=%{y}<extra></extra>",
         "legendgroup": "4165000",
         "marker": {
          "color": "#FECB52",
          "opacity": 0.5,
          "pattern": {
           "shape": ""
          }
         },
         "name": "4165000",
         "offsetgroup": "4165000",
         "orientation": "v",
         "showlegend": true,
         "type": "histogram",
         "x": [
          4840,
          4080,
          4046
         ],
         "xaxis": "x",
         "yaxis": "y"
        },
        {
         "alignmentgroup": "True",
         "bingroup": "x",
         "hovertemplate": "price=4130000<br>area=%{x}<br>count=%{y}<extra></extra>",
         "legendgroup": "4130000",
         "marker": {
          "color": "#636efa",
          "opacity": 0.5,
          "pattern": {
           "shape": ""
          }
         },
         "name": "4130000",
         "offsetgroup": "4130000",
         "orientation": "v",
         "showlegend": true,
         "type": "histogram",
         "x": [
          4632,
          5985
         ],
         "xaxis": "x",
         "yaxis": "y"
        },
        {
         "alignmentgroup": "True",
         "bingroup": "x",
         "hovertemplate": "price=4123000<br>area=%{x}<br>count=%{y}<extra></extra>",
         "legendgroup": "4123000",
         "marker": {
          "color": "#EF553B",
          "opacity": 0.5,
          "pattern": {
           "shape": ""
          }
         },
         "name": "4123000",
         "offsetgroup": "4123000",
         "orientation": "v",
         "showlegend": true,
         "type": "histogram",
         "x": [
          6060
         ],
         "xaxis": "x",
         "yaxis": "y"
        },
        {
         "alignmentgroup": "True",
         "bingroup": "x",
         "hovertemplate": "price=4098500<br>area=%{x}<br>count=%{y}<extra></extra>",
         "legendgroup": "4098500",
         "marker": {
          "color": "#00cc96",
          "opacity": 0.5,
          "pattern": {
           "shape": ""
          }
         },
         "name": "4098500",
         "offsetgroup": "4098500",
         "orientation": "v",
         "showlegend": true,
         "type": "histogram",
         "x": [
          3600
         ],
         "xaxis": "x",
         "yaxis": "y"
        },
        {
         "alignmentgroup": "True",
         "bingroup": "x",
         "hovertemplate": "price=4095000<br>area=%{x}<br>count=%{y}<extra></extra>",
         "legendgroup": "4095000",
         "marker": {
          "color": "#ab63fa",
          "opacity": 0.5,
          "pattern": {
           "shape": ""
          }
         },
         "name": "4095000",
         "offsetgroup": "4095000",
         "orientation": "v",
         "showlegend": true,
         "type": "histogram",
         "x": [
          3680,
          4040,
          5600
         ],
         "xaxis": "x",
         "yaxis": "y"
        },
        {
         "alignmentgroup": "True",
         "bingroup": "x",
         "hovertemplate": "price=4060000<br>area=%{x}<br>count=%{y}<extra></extra>",
         "legendgroup": "4060000",
         "marker": {
          "color": "#FFA15A",
          "opacity": 0.5,
          "pattern": {
           "shape": ""
          }
         },
         "name": "4060000",
         "offsetgroup": "4060000",
         "orientation": "v",
         "showlegend": true,
         "type": "histogram",
         "x": [
          5900,
          4992,
          4340,
          3000,
          4320
         ],
         "xaxis": "x",
         "yaxis": "y"
        },
        {
         "alignmentgroup": "True",
         "bingroup": "x",
         "hovertemplate": "price=4025000<br>area=%{x}<br>count=%{y}<extra></extra>",
         "legendgroup": "4025000",
         "marker": {
          "color": "#19d3f3",
          "opacity": 0.5,
          "pattern": {
           "shape": ""
          }
         },
         "name": "4025000",
         "offsetgroup": "4025000",
         "orientation": "v",
         "showlegend": true,
         "type": "histogram",
         "x": [
          3630,
          3460,
          5400
         ],
         "xaxis": "x",
         "yaxis": "y"
        },
        {
         "alignmentgroup": "True",
         "bingroup": "x",
         "hovertemplate": "price=4007500<br>area=%{x}<br>count=%{y}<extra></extra>",
         "legendgroup": "4007500",
         "marker": {
          "color": "#FF6692",
          "opacity": 0.5,
          "pattern": {
           "shape": ""
          }
         },
         "name": "4007500",
         "offsetgroup": "4007500",
         "orientation": "v",
         "showlegend": true,
         "type": "histogram",
         "x": [
          4500,
          3460
         ],
         "xaxis": "x",
         "yaxis": "y"
        },
        {
         "alignmentgroup": "True",
         "bingroup": "x",
         "hovertemplate": "price=3990000<br>area=%{x}<br>count=%{y}<extra></extra>",
         "legendgroup": "3990000",
         "marker": {
          "color": "#B6E880",
          "opacity": 0.5,
          "pattern": {
           "shape": ""
          }
         },
         "name": "3990000",
         "offsetgroup": "3990000",
         "orientation": "v",
         "showlegend": true,
         "type": "histogram",
         "x": [
          4100,
          6480,
          4500,
          3960,
          4050
         ],
         "xaxis": "x",
         "yaxis": "y"
        },
        {
         "alignmentgroup": "True",
         "bingroup": "x",
         "hovertemplate": "price=3920000<br>area=%{x}<br>count=%{y}<extra></extra>",
         "legendgroup": "3920000",
         "marker": {
          "color": "#FF97FF",
          "opacity": 0.5,
          "pattern": {
           "shape": ""
          }
         },
         "name": "3920000",
         "offsetgroup": "3920000",
         "orientation": "v",
         "showlegend": true,
         "type": "histogram",
         "x": [
          7260,
          5500,
          3000,
          3290,
          3816,
          8080,
          2145
         ],
         "xaxis": "x",
         "yaxis": "y"
        },
        {
         "alignmentgroup": "True",
         "bingroup": "x",
         "hovertemplate": "price=3885000<br>area=%{x}<br>count=%{y}<extra></extra>",
         "legendgroup": "3885000",
         "marker": {
          "color": "#FECB52",
          "opacity": 0.5,
          "pattern": {
           "shape": ""
          }
         },
         "name": "3885000",
         "offsetgroup": "3885000",
         "orientation": "v",
         "showlegend": true,
         "type": "histogram",
         "x": [
          3780,
          3180
         ],
         "xaxis": "x",
         "yaxis": "y"
        },
        {
         "alignmentgroup": "True",
         "bingroup": "x",
         "hovertemplate": "price=3850000<br>area=%{x}<br>count=%{y}<extra></extra>",
         "legendgroup": "3850000",
         "marker": {
          "color": "#636efa",
          "opacity": 0.5,
          "pattern": {
           "shape": ""
          }
         },
         "name": "3850000",
         "offsetgroup": "3850000",
         "orientation": "v",
         "showlegend": true,
         "type": "histogram",
         "x": [
          5300,
          3180,
          7152,
          4080,
          3850,
          2015,
          2176
         ],
         "xaxis": "x",
         "yaxis": "y"
        },
        {
         "alignmentgroup": "True",
         "bingroup": "x",
         "hovertemplate": "price=3836000<br>area=%{x}<br>count=%{y}<extra></extra>",
         "legendgroup": "3836000",
         "marker": {
          "color": "#EF553B",
          "opacity": 0.5,
          "pattern": {
           "shape": ""
          }
         },
         "name": "3836000",
         "offsetgroup": "3836000",
         "orientation": "v",
         "showlegend": true,
         "type": "histogram",
         "x": [
          3350
         ],
         "xaxis": "x",
         "yaxis": "y"
        },
        {
         "alignmentgroup": "True",
         "bingroup": "x",
         "hovertemplate": "price=3815000<br>area=%{x}<br>count=%{y}<extra></extra>",
         "legendgroup": "3815000",
         "marker": {
          "color": "#00cc96",
          "opacity": 0.5,
          "pattern": {
           "shape": ""
          }
         },
         "name": "3815000",
         "offsetgroup": "3815000",
         "orientation": "v",
         "showlegend": true,
         "type": "histogram",
         "x": [
          3150
         ],
         "xaxis": "x",
         "yaxis": "y"
        },
        {
         "alignmentgroup": "True",
         "bingroup": "x",
         "hovertemplate": "price=3780000<br>area=%{x}<br>count=%{y}<extra></extra>",
         "legendgroup": "3780000",
         "marker": {
          "color": "#ab63fa",
          "opacity": 0.5,
          "pattern": {
           "shape": ""
          }
         },
         "name": "3780000",
         "offsetgroup": "3780000",
         "orientation": "v",
         "showlegend": true,
         "type": "histogram",
         "x": [
          4820,
          3420,
          3600,
          5830,
          2856,
          8400
         ],
         "xaxis": "x",
         "yaxis": "y"
        },
        {
         "alignmentgroup": "True",
         "bingroup": "x",
         "hovertemplate": "price=3773000<br>area=%{x}<br>count=%{y}<extra></extra>",
         "legendgroup": "3773000",
         "marker": {
          "color": "#FFA15A",
          "opacity": 0.5,
          "pattern": {
           "shape": ""
          }
         },
         "name": "3773000",
         "offsetgroup": "3773000",
         "orientation": "v",
         "showlegend": true,
         "type": "histogram",
         "x": [
          8250,
          2520,
          6930
         ],
         "xaxis": "x",
         "yaxis": "y"
        },
        {
         "alignmentgroup": "True",
         "bingroup": "x",
         "hovertemplate": "price=3745000<br>area=%{x}<br>count=%{y}<extra></extra>",
         "legendgroup": "3745000",
         "marker": {
          "color": "#19d3f3",
          "opacity": 0.5,
          "pattern": {
           "shape": ""
          }
         },
         "name": "3745000",
         "offsetgroup": "3745000",
         "orientation": "v",
         "showlegend": true,
         "type": "histogram",
         "x": [
          3480
         ],
         "xaxis": "x",
         "yaxis": "y"
        },
        {
         "alignmentgroup": "True",
         "bingroup": "x",
         "hovertemplate": "price=3710000<br>area=%{x}<br>count=%{y}<extra></extra>",
         "legendgroup": "3710000",
         "marker": {
          "color": "#FF6692",
          "opacity": 0.5,
          "pattern": {
           "shape": ""
          }
         },
         "name": "3710000",
         "offsetgroup": "3710000",
         "orientation": "v",
         "showlegend": true,
         "type": "histogram",
         "x": [
          3600,
          4040,
          6020,
          4050,
          3584
         ],
         "xaxis": "x",
         "yaxis": "y"
        },
        {
         "alignmentgroup": "True",
         "bingroup": "x",
         "hovertemplate": "price=3703000<br>area=%{x}<br>count=%{y}<extra></extra>",
         "legendgroup": "3703000",
         "marker": {
          "color": "#B6E880",
          "opacity": 0.5,
          "pattern": {
           "shape": ""
          }
         },
         "name": "3703000",
         "offsetgroup": "3703000",
         "orientation": "v",
         "showlegend": true,
         "type": "histogram",
         "x": [
          3120,
          5450
         ],
         "xaxis": "x",
         "yaxis": "y"
        },
        {
         "alignmentgroup": "True",
         "bingroup": "x",
         "hovertemplate": "price=3675000<br>area=%{x}<br>count=%{y}<extra></extra>",
         "legendgroup": "3675000",
         "marker": {
          "color": "#FF97FF",
          "opacity": 0.5,
          "pattern": {
           "shape": ""
          }
         },
         "name": "3675000",
         "offsetgroup": "3675000",
         "orientation": "v",
         "showlegend": true,
         "type": "histogram",
         "x": [
          3630,
          3630,
          5640,
          3600
         ],
         "xaxis": "x",
         "yaxis": "y"
        },
        {
         "alignmentgroup": "True",
         "bingroup": "x",
         "hovertemplate": "price=3640000<br>area=%{x}<br>count=%{y}<extra></extra>",
         "legendgroup": "3640000",
         "marker": {
          "color": "#FECB52",
          "opacity": 0.5,
          "pattern": {
           "shape": ""
          }
         },
         "name": "3640000",
         "offsetgroup": "3640000",
         "orientation": "v",
         "showlegend": true,
         "type": "histogram",
         "x": [
          4280,
          3570,
          3180,
          3000,
          3520,
          5960,
          4130,
          2850,
          2275
         ],
         "xaxis": "x",
         "yaxis": "y"
        },
        {
         "alignmentgroup": "True",
         "bingroup": "x",
         "hovertemplate": "price=3633000<br>area=%{x}<br>count=%{y}<extra></extra>",
         "legendgroup": "3633000",
         "marker": {
          "color": "#636efa",
          "opacity": 0.5,
          "pattern": {
           "shape": ""
          }
         },
         "name": "3633000",
         "offsetgroup": "3633000",
         "orientation": "v",
         "showlegend": true,
         "type": "histogram",
         "x": [
          3520
         ],
         "xaxis": "x",
         "yaxis": "y"
        },
        {
         "alignmentgroup": "True",
         "bingroup": "x",
         "hovertemplate": "price=3605000<br>area=%{x}<br>count=%{y}<extra></extra>",
         "legendgroup": "3605000",
         "marker": {
          "color": "#EF553B",
          "opacity": 0.5,
          "pattern": {
           "shape": ""
          }
         },
         "name": "3605000",
         "offsetgroup": "3605000",
         "orientation": "v",
         "showlegend": true,
         "type": "histogram",
         "x": [
          4500,
          4000
         ],
         "xaxis": "x",
         "yaxis": "y"
        },
        {
         "alignmentgroup": "True",
         "bingroup": "x",
         "hovertemplate": "price=3570000<br>area=%{x}<br>count=%{y}<extra></extra>",
         "legendgroup": "3570000",
         "marker": {
          "color": "#00cc96",
          "opacity": 0.5,
          "pattern": {
           "shape": ""
          }
         },
         "name": "3570000",
         "offsetgroup": "3570000",
         "orientation": "v",
         "showlegend": true,
         "type": "histogram",
         "x": [
          3150,
          4500,
          4500,
          3640
         ],
         "xaxis": "x",
         "yaxis": "y"
        },
        {
         "alignmentgroup": "True",
         "bingroup": "x",
         "hovertemplate": "price=3535000<br>area=%{x}<br>count=%{y}<extra></extra>",
         "legendgroup": "3535000",
         "marker": {
          "color": "#ab63fa",
          "opacity": 0.5,
          "pattern": {
           "shape": ""
          }
         },
         "name": "3535000",
         "offsetgroup": "3535000",
         "orientation": "v",
         "showlegend": true,
         "type": "histogram",
         "x": [
          3850
         ],
         "xaxis": "x",
         "yaxis": "y"
        },
        {
         "alignmentgroup": "True",
         "bingroup": "x",
         "hovertemplate": "price=3500000<br>area=%{x}<br>count=%{y}<extra></extra>",
         "legendgroup": "3500000",
         "marker": {
          "color": "#FFA15A",
          "opacity": 0.5,
          "pattern": {
           "shape": ""
          }
         },
         "name": "3500000",
         "offsetgroup": "3500000",
         "orientation": "v",
         "showlegend": true,
         "type": "histogram",
         "x": [
          4240,
          3650,
          4600,
          2135,
          3036,
          3990,
          7424,
          3480,
          3600,
          3640,
          5900,
          3120,
          7350,
          3512,
          9500,
          5880,
          12944
         ],
         "xaxis": "x",
         "yaxis": "y"
        },
        {
         "alignmentgroup": "True",
         "bingroup": "x",
         "hovertemplate": "price=3493000<br>area=%{x}<br>count=%{y}<extra></extra>",
         "legendgroup": "3493000",
         "marker": {
          "color": "#19d3f3",
          "opacity": 0.5,
          "pattern": {
           "shape": ""
          }
         },
         "name": "3493000",
         "offsetgroup": "3493000",
         "orientation": "v",
         "showlegend": true,
         "type": "histogram",
         "x": [
          4900
         ],
         "xaxis": "x",
         "yaxis": "y"
        },
        {
         "alignmentgroup": "True",
         "bingroup": "x",
         "hovertemplate": "price=3465000<br>area=%{x}<br>count=%{y}<extra></extra>",
         "legendgroup": "3465000",
         "marker": {
          "color": "#FF6692",
          "opacity": 0.5,
          "pattern": {
           "shape": ""
          }
         },
         "name": "3465000",
         "offsetgroup": "3465000",
         "orientation": "v",
         "showlegend": true,
         "type": "histogram",
         "x": [
          3060,
          5320,
          2145
         ],
         "xaxis": "x",
         "yaxis": "y"
        },
        {
         "alignmentgroup": "True",
         "bingroup": "x",
         "hovertemplate": "price=3430000<br>area=%{x}<br>count=%{y}<extra></extra>",
         "legendgroup": "3430000",
         "marker": {
          "color": "#B6E880",
          "opacity": 0.5,
          "pattern": {
           "shape": ""
          }
         },
         "name": "3430000",
         "offsetgroup": "3430000",
         "orientation": "v",
         "showlegend": true,
         "type": "histogram",
         "x": [
          4000,
          3185,
          3850,
          2145,
          2610,
          1950
         ],
         "xaxis": "x",
         "yaxis": "y"
        },
        {
         "alignmentgroup": "True",
         "bingroup": "x",
         "hovertemplate": "price=3423000<br>area=%{x}<br>count=%{y}<extra></extra>",
         "legendgroup": "3423000",
         "marker": {
          "color": "#FF97FF",
          "opacity": 0.5,
          "pattern": {
           "shape": ""
          }
         },
         "name": "3423000",
         "offsetgroup": "3423000",
         "orientation": "v",
         "showlegend": true,
         "type": "histogram",
         "x": [
          4040
         ],
         "xaxis": "x",
         "yaxis": "y"
        },
        {
         "alignmentgroup": "True",
         "bingroup": "x",
         "hovertemplate": "price=3395000<br>area=%{x}<br>count=%{y}<extra></extra>",
         "legendgroup": "3395000",
         "marker": {
          "color": "#FECB52",
          "opacity": 0.5,
          "pattern": {
           "shape": ""
          }
         },
         "name": "3395000",
         "offsetgroup": "3395000",
         "orientation": "v",
         "showlegend": true,
         "type": "histogram",
         "x": [
          4785,
          3450,
          3640
         ],
         "xaxis": "x",
         "yaxis": "y"
        },
        {
         "alignmentgroup": "True",
         "bingroup": "x",
         "hovertemplate": "price=3360000<br>area=%{x}<br>count=%{y}<extra></extra>",
         "legendgroup": "3360000",
         "marker": {
          "color": "#636efa",
          "opacity": 0.5,
          "pattern": {
           "shape": ""
          }
         },
         "name": "3360000",
         "offsetgroup": "3360000",
         "orientation": "v",
         "showlegend": true,
         "type": "histogram",
         "x": [
          3500,
          4960,
          4120,
          4750,
          3720,
          3750,
          3100,
          3185
         ],
         "xaxis": "x",
         "yaxis": "y"
        },
        {
         "alignmentgroup": "True",
         "bingroup": "x",
         "hovertemplate": "price=3353000<br>area=%{x}<br>count=%{y}<extra></extra>",
         "legendgroup": "3353000",
         "marker": {
          "color": "#EF553B",
          "opacity": 0.5,
          "pattern": {
           "shape": ""
          }
         },
         "name": "3353000",
         "offsetgroup": "3353000",
         "orientation": "v",
         "showlegend": true,
         "type": "histogram",
         "x": [
          2700
         ],
         "xaxis": "x",
         "yaxis": "y"
        },
        {
         "alignmentgroup": "True",
         "bingroup": "x",
         "hovertemplate": "price=3332000<br>area=%{x}<br>count=%{y}<extra></extra>",
         "legendgroup": "3332000",
         "marker": {
          "color": "#00cc96",
          "opacity": 0.5,
          "pattern": {
           "shape": ""
          }
         },
         "name": "3332000",
         "offsetgroup": "3332000",
         "orientation": "v",
         "showlegend": true,
         "type": "histogram",
         "x": [
          2145
         ],
         "xaxis": "x",
         "yaxis": "y"
        },
        {
         "alignmentgroup": "True",
         "bingroup": "x",
         "hovertemplate": "price=3325000<br>area=%{x}<br>count=%{y}<extra></extra>",
         "legendgroup": "3325000",
         "marker": {
          "color": "#ab63fa",
          "opacity": 0.5,
          "pattern": {
           "shape": ""
          }
         },
         "name": "3325000",
         "offsetgroup": "3325000",
         "orientation": "v",
         "showlegend": true,
         "type": "histogram",
         "x": [
          4040,
          4775
         ],
         "xaxis": "x",
         "yaxis": "y"
        },
        {
         "alignmentgroup": "True",
         "bingroup": "x",
         "hovertemplate": "price=3290000<br>area=%{x}<br>count=%{y}<extra></extra>",
         "legendgroup": "3290000",
         "marker": {
          "color": "#FFA15A",
          "opacity": 0.5,
          "pattern": {
           "shape": ""
          }
         },
         "name": "3290000",
         "offsetgroup": "3290000",
         "orientation": "v",
         "showlegend": true,
         "type": "histogram",
         "x": [
          2500,
          3180,
          6060,
          3480,
          3792,
          4040,
          2145,
          5880
         ],
         "xaxis": "x",
         "yaxis": "y"
        },
        {
         "alignmentgroup": "True",
         "bingroup": "x",
         "hovertemplate": "price=3255000<br>area=%{x}<br>count=%{y}<extra></extra>",
         "legendgroup": "3255000",
         "marker": {
          "color": "#19d3f3",
          "opacity": 0.5,
          "pattern": {
           "shape": ""
          }
         },
         "name": "3255000",
         "offsetgroup": "3255000",
         "orientation": "v",
         "showlegend": true,
         "type": "histogram",
         "x": [
          4500,
          3930
         ],
         "xaxis": "x",
         "yaxis": "y"
        },
        {
         "alignmentgroup": "True",
         "bingroup": "x",
         "hovertemplate": "price=3234000<br>area=%{x}<br>count=%{y}<extra></extra>",
         "legendgroup": "3234000",
         "marker": {
          "color": "#FF6692",
          "opacity": 0.5,
          "pattern": {
           "shape": ""
          }
         },
         "name": "3234000",
         "offsetgroup": "3234000",
         "orientation": "v",
         "showlegend": true,
         "type": "histogram",
         "x": [
          3640
         ],
         "xaxis": "x",
         "yaxis": "y"
        },
        {
         "alignmentgroup": "True",
         "bingroup": "x",
         "hovertemplate": "price=3220000<br>area=%{x}<br>count=%{y}<extra></extra>",
         "legendgroup": "3220000",
         "marker": {
          "color": "#B6E880",
          "opacity": 0.5,
          "pattern": {
           "shape": ""
          }
         },
         "name": "3220000",
         "offsetgroup": "3220000",
         "orientation": "v",
         "showlegend": true,
         "type": "histogram",
         "x": [
          4370,
          2684,
          4320,
          3120
         ],
         "xaxis": "x",
         "yaxis": "y"
        },
        {
         "alignmentgroup": "True",
         "bingroup": "x",
         "hovertemplate": "price=3150000<br>area=%{x}<br>count=%{y}<extra></extra>",
         "legendgroup": "3150000",
         "marker": {
          "color": "#FF97FF",
          "opacity": 0.5,
          "pattern": {
           "shape": ""
          }
         },
         "name": "3150000",
         "offsetgroup": "3150000",
         "orientation": "v",
         "showlegend": true,
         "type": "histogram",
         "x": [
          3450,
          3986,
          3500,
          4095,
          1650,
          3450,
          6750,
          9000,
          3069
         ],
         "xaxis": "x",
         "yaxis": "y"
        },
        {
         "alignmentgroup": "True",
         "bingroup": "x",
         "hovertemplate": "price=3143000<br>area=%{x}<br>count=%{y}<extra></extra>",
         "legendgroup": "3143000",
         "marker": {
          "color": "#FECB52",
          "opacity": 0.5,
          "pattern": {
           "shape": ""
          }
         },
         "name": "3143000",
         "offsetgroup": "3143000",
         "orientation": "v",
         "showlegend": true,
         "type": "histogram",
         "x": [
          4500
         ],
         "xaxis": "x",
         "yaxis": "y"
        },
        {
         "alignmentgroup": "True",
         "bingroup": "x",
         "hovertemplate": "price=3129000<br>area=%{x}<br>count=%{y}<extra></extra>",
         "legendgroup": "3129000",
         "marker": {
          "color": "#636efa",
          "opacity": 0.5,
          "pattern": {
           "shape": ""
          }
         },
         "name": "3129000",
         "offsetgroup": "3129000",
         "orientation": "v",
         "showlegend": true,
         "type": "histogram",
         "x": [
          5495
         ],
         "xaxis": "x",
         "yaxis": "y"
        },
        {
         "alignmentgroup": "True",
         "bingroup": "x",
         "hovertemplate": "price=3118850<br>area=%{x}<br>count=%{y}<extra></extra>",
         "legendgroup": "3118850",
         "marker": {
          "color": "#EF553B",
          "opacity": 0.5,
          "pattern": {
           "shape": ""
          }
         },
         "name": "3118850",
         "offsetgroup": "3118850",
         "orientation": "v",
         "showlegend": true,
         "type": "histogram",
         "x": [
          2398
         ],
         "xaxis": "x",
         "yaxis": "y"
        },
        {
         "alignmentgroup": "True",
         "bingroup": "x",
         "hovertemplate": "price=3115000<br>area=%{x}<br>count=%{y}<extra></extra>",
         "legendgroup": "3115000",
         "marker": {
          "color": "#00cc96",
          "opacity": 0.5,
          "pattern": {
           "shape": ""
          }
         },
         "name": "3115000",
         "offsetgroup": "3115000",
         "orientation": "v",
         "showlegend": true,
         "type": "histogram",
         "x": [
          3000,
          3850,
          3500
         ],
         "xaxis": "x",
         "yaxis": "y"
        },
        {
         "alignmentgroup": "True",
         "bingroup": "x",
         "hovertemplate": "price=3087000<br>area=%{x}<br>count=%{y}<extra></extra>",
         "legendgroup": "3087000",
         "marker": {
          "color": "#ab63fa",
          "opacity": 0.5,
          "pattern": {
           "shape": ""
          }
         },
         "name": "3087000",
         "offsetgroup": "3087000",
         "orientation": "v",
         "showlegend": true,
         "type": "histogram",
         "x": [
          8100
         ],
         "xaxis": "x",
         "yaxis": "y"
        },
        {
         "alignmentgroup": "True",
         "bingroup": "x",
         "hovertemplate": "price=3080000<br>area=%{x}<br>count=%{y}<extra></extra>",
         "legendgroup": "3080000",
         "marker": {
          "color": "#FFA15A",
          "opacity": 0.5,
          "pattern": {
           "shape": ""
          }
         },
         "name": "3080000",
         "offsetgroup": "3080000",
         "orientation": "v",
         "showlegend": true,
         "type": "histogram",
         "x": [
          4960,
          2160,
          3090,
          4500
         ],
         "xaxis": "x",
         "yaxis": "y"
        },
        {
         "alignmentgroup": "True",
         "bingroup": "x",
         "hovertemplate": "price=3045000<br>area=%{x}<br>count=%{y}<extra></extra>",
         "legendgroup": "3045000",
         "marker": {
          "color": "#19d3f3",
          "opacity": 0.5,
          "pattern": {
           "shape": ""
          }
         },
         "name": "3045000",
         "offsetgroup": "3045000",
         "orientation": "v",
         "showlegend": true,
         "type": "histogram",
         "x": [
          3800
         ],
         "xaxis": "x",
         "yaxis": "y"
        },
        {
         "alignmentgroup": "True",
         "bingroup": "x",
         "hovertemplate": "price=3010000<br>area=%{x}<br>count=%{y}<extra></extra>",
         "legendgroup": "3010000",
         "marker": {
          "color": "#FF6692",
          "opacity": 0.5,
          "pattern": {
           "shape": ""
          }
         },
         "name": "3010000",
         "offsetgroup": "3010000",
         "orientation": "v",
         "showlegend": true,
         "type": "histogram",
         "x": [
          3090,
          3240,
          2835,
          4600,
          5076,
          3750,
          3630
         ],
         "xaxis": "x",
         "yaxis": "y"
        },
        {
         "alignmentgroup": "True",
         "bingroup": "x",
         "hovertemplate": "price=3003000<br>area=%{x}<br>count=%{y}<extra></extra>",
         "legendgroup": "3003000",
         "marker": {
          "color": "#B6E880",
          "opacity": 0.5,
          "pattern": {
           "shape": ""
          }
         },
         "name": "3003000",
         "offsetgroup": "3003000",
         "orientation": "v",
         "showlegend": true,
         "type": "histogram",
         "x": [
          8050
         ],
         "xaxis": "x",
         "yaxis": "y"
        },
        {
         "alignmentgroup": "True",
         "bingroup": "x",
         "hovertemplate": "price=2975000<br>area=%{x}<br>count=%{y}<extra></extra>",
         "legendgroup": "2975000",
         "marker": {
          "color": "#FF97FF",
          "opacity": 0.5,
          "pattern": {
           "shape": ""
          }
         },
         "name": "2975000",
         "offsetgroup": "2975000",
         "orientation": "v",
         "showlegend": true,
         "type": "histogram",
         "x": [
          4352
         ],
         "xaxis": "x",
         "yaxis": "y"
        },
        {
         "alignmentgroup": "True",
         "bingroup": "x",
         "hovertemplate": "price=2961000<br>area=%{x}<br>count=%{y}<extra></extra>",
         "legendgroup": "2961000",
         "marker": {
          "color": "#FECB52",
          "opacity": 0.5,
          "pattern": {
           "shape": ""
          }
         },
         "name": "2961000",
         "offsetgroup": "2961000",
         "orientation": "v",
         "showlegend": true,
         "type": "histogram",
         "x": [
          3000
         ],
         "xaxis": "x",
         "yaxis": "y"
        },
        {
         "alignmentgroup": "True",
         "bingroup": "x",
         "hovertemplate": "price=2940000<br>area=%{x}<br>count=%{y}<extra></extra>",
         "legendgroup": "2940000",
         "marker": {
          "color": "#636efa",
          "opacity": 0.5,
          "pattern": {
           "shape": ""
          }
         },
         "name": "2940000",
         "offsetgroup": "2940000",
         "orientation": "v",
         "showlegend": true,
         "type": "histogram",
         "x": [
          5850,
          4960,
          3600,
          3660,
          3480,
          2700,
          3150,
          6615
         ],
         "xaxis": "x",
         "yaxis": "y"
        },
        {
         "alignmentgroup": "True",
         "bingroup": "x",
         "hovertemplate": "price=2870000<br>area=%{x}<br>count=%{y}<extra></extra>",
         "legendgroup": "2870000",
         "marker": {
          "color": "#EF553B",
          "opacity": 0.5,
          "pattern": {
           "shape": ""
          }
         },
         "name": "2870000",
         "offsetgroup": "2870000",
         "orientation": "v",
         "showlegend": true,
         "type": "histogram",
         "x": [
          3040,
          3630,
          6000,
          5400
         ],
         "xaxis": "x",
         "yaxis": "y"
        },
        {
         "alignmentgroup": "True",
         "bingroup": "x",
         "hovertemplate": "price=2852500<br>area=%{x}<br>count=%{y}<extra></extra>",
         "legendgroup": "2852500",
         "marker": {
          "color": "#00cc96",
          "opacity": 0.5,
          "pattern": {
           "shape": ""
          }
         },
         "name": "2852500",
         "offsetgroup": "2852500",
         "orientation": "v",
         "showlegend": true,
         "type": "histogram",
         "x": [
          5200
         ],
         "xaxis": "x",
         "yaxis": "y"
        },
        {
         "alignmentgroup": "True",
         "bingroup": "x",
         "hovertemplate": "price=2835000<br>area=%{x}<br>count=%{y}<extra></extra>",
         "legendgroup": "2835000",
         "marker": {
          "color": "#ab63fa",
          "opacity": 0.5,
          "pattern": {
           "shape": ""
          }
         },
         "name": "2835000",
         "offsetgroup": "2835000",
         "orientation": "v",
         "showlegend": true,
         "type": "histogram",
         "x": [
          3300,
          4350,
          2640
         ],
         "xaxis": "x",
         "yaxis": "y"
        },
        {
         "alignmentgroup": "True",
         "bingroup": "x",
         "hovertemplate": "price=2800000<br>area=%{x}<br>count=%{y}<extra></extra>",
         "legendgroup": "2800000",
         "marker": {
          "color": "#FFA15A",
          "opacity": 0.5,
          "pattern": {
           "shape": ""
          }
         },
         "name": "2800000",
         "offsetgroup": "2800000",
         "orientation": "v",
         "showlegend": true,
         "type": "histogram",
         "x": [
          2650,
          3960
         ],
         "xaxis": "x",
         "yaxis": "y"
        },
        {
         "alignmentgroup": "True",
         "bingroup": "x",
         "hovertemplate": "price=2730000<br>area=%{x}<br>count=%{y}<extra></extra>",
         "legendgroup": "2730000",
         "marker": {
          "color": "#19d3f3",
          "opacity": 0.5,
          "pattern": {
           "shape": ""
          }
         },
         "name": "2730000",
         "offsetgroup": "2730000",
         "orientation": "v",
         "showlegend": true,
         "type": "histogram",
         "x": [
          6800,
          4000
         ],
         "xaxis": "x",
         "yaxis": "y"
        },
        {
         "alignmentgroup": "True",
         "bingroup": "x",
         "hovertemplate": "price=2695000<br>area=%{x}<br>count=%{y}<extra></extra>",
         "legendgroup": "2695000",
         "marker": {
          "color": "#FF6692",
          "opacity": 0.5,
          "pattern": {
           "shape": ""
          }
         },
         "name": "2695000",
         "offsetgroup": "2695000",
         "orientation": "v",
         "showlegend": true,
         "type": "histogram",
         "x": [
          4000
         ],
         "xaxis": "x",
         "yaxis": "y"
        },
        {
         "alignmentgroup": "True",
         "bingroup": "x",
         "hovertemplate": "price=2660000<br>area=%{x}<br>count=%{y}<extra></extra>",
         "legendgroup": "2660000",
         "marker": {
          "color": "#B6E880",
          "opacity": 0.5,
          "pattern": {
           "shape": ""
          }
         },
         "name": "2660000",
         "offsetgroup": "2660000",
         "orientation": "v",
         "showlegend": true,
         "type": "histogram",
         "x": [
          3934,
          2000,
          3630,
          2800,
          2430,
          3480,
          4000
         ],
         "xaxis": "x",
         "yaxis": "y"
        },
        {
         "alignmentgroup": "True",
         "bingroup": "x",
         "hovertemplate": "price=2653000<br>area=%{x}<br>count=%{y}<extra></extra>",
         "legendgroup": "2653000",
         "marker": {
          "color": "#FF97FF",
          "opacity": 0.5,
          "pattern": {
           "shape": ""
          }
         },
         "name": "2653000",
         "offsetgroup": "2653000",
         "orientation": "v",
         "showlegend": true,
         "type": "histogram",
         "x": [
          3185,
          4000
         ],
         "xaxis": "x",
         "yaxis": "y"
        },
        {
         "alignmentgroup": "True",
         "bingroup": "x",
         "hovertemplate": "price=2604000<br>area=%{x}<br>count=%{y}<extra></extra>",
         "legendgroup": "2604000",
         "marker": {
          "color": "#FECB52",
          "opacity": 0.5,
          "pattern": {
           "shape": ""
          }
         },
         "name": "2604000",
         "offsetgroup": "2604000",
         "orientation": "v",
         "showlegend": true,
         "type": "histogram",
         "x": [
          2910
         ],
         "xaxis": "x",
         "yaxis": "y"
        },
        {
         "alignmentgroup": "True",
         "bingroup": "x",
         "hovertemplate": "price=2590000<br>area=%{x}<br>count=%{y}<extra></extra>",
         "legendgroup": "2590000",
         "marker": {
          "color": "#636efa",
          "opacity": 0.5,
          "pattern": {
           "shape": ""
          }
         },
         "name": "2590000",
         "offsetgroup": "2590000",
         "orientation": "v",
         "showlegend": true,
         "type": "histogram",
         "x": [
          3600,
          4400,
          3600
         ],
         "xaxis": "x",
         "yaxis": "y"
        },
        {
         "alignmentgroup": "True",
         "bingroup": "x",
         "hovertemplate": "price=2520000<br>area=%{x}<br>count=%{y}<extra></extra>",
         "legendgroup": "2520000",
         "marker": {
          "color": "#EF553B",
          "opacity": 0.5,
          "pattern": {
           "shape": ""
          }
         },
         "name": "2520000",
         "offsetgroup": "2520000",
         "orientation": "v",
         "showlegend": true,
         "type": "histogram",
         "x": [
          2880,
          3180,
          3000
         ],
         "xaxis": "x",
         "yaxis": "y"
        },
        {
         "alignmentgroup": "True",
         "bingroup": "x",
         "hovertemplate": "price=2485000<br>area=%{x}<br>count=%{y}<extra></extra>",
         "legendgroup": "2485000",
         "marker": {
          "color": "#00cc96",
          "opacity": 0.5,
          "pattern": {
           "shape": ""
          }
         },
         "name": "2485000",
         "offsetgroup": "2485000",
         "orientation": "v",
         "showlegend": true,
         "type": "histogram",
         "x": [
          4400,
          3000
         ],
         "xaxis": "x",
         "yaxis": "y"
        },
        {
         "alignmentgroup": "True",
         "bingroup": "x",
         "hovertemplate": "price=2450000<br>area=%{x}<br>count=%{y}<extra></extra>",
         "legendgroup": "2450000",
         "marker": {
          "color": "#ab63fa",
          "opacity": 0.5,
          "pattern": {
           "shape": ""
          }
         },
         "name": "2450000",
         "offsetgroup": "2450000",
         "orientation": "v",
         "showlegend": true,
         "type": "histogram",
         "x": [
          3210,
          3240,
          3000,
          3500,
          4840,
          7700
         ],
         "xaxis": "x",
         "yaxis": "y"
        },
        {
         "alignmentgroup": "True",
         "bingroup": "x",
         "hovertemplate": "price=2408000<br>area=%{x}<br>count=%{y}<extra></extra>",
         "legendgroup": "2408000",
         "marker": {
          "color": "#FFA15A",
          "opacity": 0.5,
          "pattern": {
           "shape": ""
          }
         },
         "name": "2408000",
         "offsetgroup": "2408000",
         "orientation": "v",
         "showlegend": true,
         "type": "histogram",
         "x": [
          3635
         ],
         "xaxis": "x",
         "yaxis": "y"
        },
        {
         "alignmentgroup": "True",
         "bingroup": "x",
         "hovertemplate": "price=2380000<br>area=%{x}<br>count=%{y}<extra></extra>",
         "legendgroup": "2380000",
         "marker": {
          "color": "#19d3f3",
          "opacity": 0.5,
          "pattern": {
           "shape": ""
          }
         },
         "name": "2380000",
         "offsetgroup": "2380000",
         "orientation": "v",
         "showlegend": true,
         "type": "histogram",
         "x": [
          2475,
          2787,
          3264
         ],
         "xaxis": "x",
         "yaxis": "y"
        },
        {
         "alignmentgroup": "True",
         "bingroup": "x",
         "hovertemplate": "price=2345000<br>area=%{x}<br>count=%{y}<extra></extra>",
         "legendgroup": "2345000",
         "marker": {
          "color": "#FF6692",
          "opacity": 0.5,
          "pattern": {
           "shape": ""
          }
         },
         "name": "2345000",
         "offsetgroup": "2345000",
         "orientation": "v",
         "showlegend": true,
         "type": "histogram",
         "x": [
          3640
         ],
         "xaxis": "x",
         "yaxis": "y"
        },
        {
         "alignmentgroup": "True",
         "bingroup": "x",
         "hovertemplate": "price=2310000<br>area=%{x}<br>count=%{y}<extra></extra>",
         "legendgroup": "2310000",
         "marker": {
          "color": "#B6E880",
          "opacity": 0.5,
          "pattern": {
           "shape": ""
          }
         },
         "name": "2310000",
         "offsetgroup": "2310000",
         "orientation": "v",
         "showlegend": true,
         "type": "histogram",
         "x": [
          3180
         ],
         "xaxis": "x",
         "yaxis": "y"
        },
        {
         "alignmentgroup": "True",
         "bingroup": "x",
         "hovertemplate": "price=2275000<br>area=%{x}<br>count=%{y}<extra></extra>",
         "legendgroup": "2275000",
         "marker": {
          "color": "#FF97FF",
          "opacity": 0.5,
          "pattern": {
           "shape": ""
          }
         },
         "name": "2275000",
         "offsetgroup": "2275000",
         "orientation": "v",
         "showlegend": true,
         "type": "histogram",
         "x": [
          1836,
          3970,
          3970
         ],
         "xaxis": "x",
         "yaxis": "y"
        },
        {
         "alignmentgroup": "True",
         "bingroup": "x",
         "hovertemplate": "price=2240000<br>area=%{x}<br>count=%{y}<extra></extra>",
         "legendgroup": "2240000",
         "marker": {
          "color": "#FECB52",
          "opacity": 0.5,
          "pattern": {
           "shape": ""
          }
         },
         "name": "2240000",
         "offsetgroup": "2240000",
         "orientation": "v",
         "showlegend": true,
         "type": "histogram",
         "x": [
          1950
         ],
         "xaxis": "x",
         "yaxis": "y"
        },
        {
         "alignmentgroup": "True",
         "bingroup": "x",
         "hovertemplate": "price=2233000<br>area=%{x}<br>count=%{y}<extra></extra>",
         "legendgroup": "2233000",
         "marker": {
          "color": "#636efa",
          "opacity": 0.5,
          "pattern": {
           "shape": ""
          }
         },
         "name": "2233000",
         "offsetgroup": "2233000",
         "orientation": "v",
         "showlegend": true,
         "type": "histogram",
         "x": [
          5300
         ],
         "xaxis": "x",
         "yaxis": "y"
        },
        {
         "alignmentgroup": "True",
         "bingroup": "x",
         "hovertemplate": "price=2135000<br>area=%{x}<br>count=%{y}<extra></extra>",
         "legendgroup": "2135000",
         "marker": {
          "color": "#EF553B",
          "opacity": 0.5,
          "pattern": {
           "shape": ""
          }
         },
         "name": "2135000",
         "offsetgroup": "2135000",
         "orientation": "v",
         "showlegend": true,
         "type": "histogram",
         "x": [
          3000
         ],
         "xaxis": "x",
         "yaxis": "y"
        },
        {
         "alignmentgroup": "True",
         "bingroup": "x",
         "hovertemplate": "price=2100000<br>area=%{x}<br>count=%{y}<extra></extra>",
         "legendgroup": "2100000",
         "marker": {
          "color": "#00cc96",
          "opacity": 0.5,
          "pattern": {
           "shape": ""
          }
         },
         "name": "2100000",
         "offsetgroup": "2100000",
         "orientation": "v",
         "showlegend": true,
         "type": "histogram",
         "x": [
          2400,
          3000,
          3360
         ],
         "xaxis": "x",
         "yaxis": "y"
        },
        {
         "alignmentgroup": "True",
         "bingroup": "x",
         "hovertemplate": "price=1960000<br>area=%{x}<br>count=%{y}<extra></extra>",
         "legendgroup": "1960000",
         "marker": {
          "color": "#ab63fa",
          "opacity": 0.5,
          "pattern": {
           "shape": ""
          }
         },
         "name": "1960000",
         "offsetgroup": "1960000",
         "orientation": "v",
         "showlegend": true,
         "type": "histogram",
         "x": [
          3420
         ],
         "xaxis": "x",
         "yaxis": "y"
        },
        {
         "alignmentgroup": "True",
         "bingroup": "x",
         "hovertemplate": "price=1890000<br>area=%{x}<br>count=%{y}<extra></extra>",
         "legendgroup": "1890000",
         "marker": {
          "color": "#FFA15A",
          "opacity": 0.5,
          "pattern": {
           "shape": ""
          }
         },
         "name": "1890000",
         "offsetgroup": "1890000",
         "orientation": "v",
         "showlegend": true,
         "type": "histogram",
         "x": [
          1700,
          3649
         ],
         "xaxis": "x",
         "yaxis": "y"
        },
        {
         "alignmentgroup": "True",
         "bingroup": "x",
         "hovertemplate": "price=1855000<br>area=%{x}<br>count=%{y}<extra></extra>",
         "legendgroup": "1855000",
         "marker": {
          "color": "#19d3f3",
          "opacity": 0.5,
          "pattern": {
           "shape": ""
          }
         },
         "name": "1855000",
         "offsetgroup": "1855000",
         "orientation": "v",
         "showlegend": true,
         "type": "histogram",
         "x": [
          2990
         ],
         "xaxis": "x",
         "yaxis": "y"
        },
        {
         "alignmentgroup": "True",
         "bingroup": "x",
         "hovertemplate": "price=1820000<br>area=%{x}<br>count=%{y}<extra></extra>",
         "legendgroup": "1820000",
         "marker": {
          "color": "#FF6692",
          "opacity": 0.5,
          "pattern": {
           "shape": ""
          }
         },
         "name": "1820000",
         "offsetgroup": "1820000",
         "orientation": "v",
         "showlegend": true,
         "type": "histogram",
         "x": [
          3000
         ],
         "xaxis": "x",
         "yaxis": "y"
        },
        {
         "alignmentgroup": "True",
         "bingroup": "x",
         "hovertemplate": "price=1767150<br>area=%{x}<br>count=%{y}<extra></extra>",
         "legendgroup": "1767150",
         "marker": {
          "color": "#B6E880",
          "opacity": 0.5,
          "pattern": {
           "shape": ""
          }
         },
         "name": "1767150",
         "offsetgroup": "1767150",
         "orientation": "v",
         "showlegend": true,
         "type": "histogram",
         "x": [
          2400
         ],
         "xaxis": "x",
         "yaxis": "y"
        },
        {
         "alignmentgroup": "True",
         "bingroup": "x",
         "hovertemplate": "price=1750000<br>area=%{x}<br>count=%{y}<extra></extra>",
         "legendgroup": "1750000",
         "marker": {
          "color": "#FF97FF",
          "opacity": 0.5,
          "pattern": {
           "shape": ""
          }
         },
         "name": "1750000",
         "offsetgroup": "1750000",
         "orientation": "v",
         "showlegend": true,
         "type": "histogram",
         "x": [
          3620,
          2910,
          3850
         ],
         "xaxis": "x",
         "yaxis": "y"
        }
       ],
       "layout": {
        "barmode": "overlay",
        "legend": {
         "title": {
          "text": "price"
         },
         "tracegroupgap": 0
        },
        "margin": {
         "t": 60
        },
        "template": {
         "data": {
          "bar": [
           {
            "error_x": {
             "color": "#2a3f5f"
            },
            "error_y": {
             "color": "#2a3f5f"
            },
            "marker": {
             "line": {
              "color": "#E5ECF6",
              "width": 0.5
             },
             "pattern": {
              "fillmode": "overlay",
              "size": 10,
              "solidity": 0.2
             }
            },
            "type": "bar"
           }
          ],
          "barpolar": [
           {
            "marker": {
             "line": {
              "color": "#E5ECF6",
              "width": 0.5
             },
             "pattern": {
              "fillmode": "overlay",
              "size": 10,
              "solidity": 0.2
             }
            },
            "type": "barpolar"
           }
          ],
          "carpet": [
           {
            "aaxis": {
             "endlinecolor": "#2a3f5f",
             "gridcolor": "white",
             "linecolor": "white",
             "minorgridcolor": "white",
             "startlinecolor": "#2a3f5f"
            },
            "baxis": {
             "endlinecolor": "#2a3f5f",
             "gridcolor": "white",
             "linecolor": "white",
             "minorgridcolor": "white",
             "startlinecolor": "#2a3f5f"
            },
            "type": "carpet"
           }
          ],
          "choropleth": [
           {
            "colorbar": {
             "outlinewidth": 0,
             "ticks": ""
            },
            "type": "choropleth"
           }
          ],
          "contour": [
           {
            "colorbar": {
             "outlinewidth": 0,
             "ticks": ""
            },
            "colorscale": [
             [
              0,
              "#0d0887"
             ],
             [
              0.1111111111111111,
              "#46039f"
             ],
             [
              0.2222222222222222,
              "#7201a8"
             ],
             [
              0.3333333333333333,
              "#9c179e"
             ],
             [
              0.4444444444444444,
              "#bd3786"
             ],
             [
              0.5555555555555556,
              "#d8576b"
             ],
             [
              0.6666666666666666,
              "#ed7953"
             ],
             [
              0.7777777777777778,
              "#fb9f3a"
             ],
             [
              0.8888888888888888,
              "#fdca26"
             ],
             [
              1,
              "#f0f921"
             ]
            ],
            "type": "contour"
           }
          ],
          "contourcarpet": [
           {
            "colorbar": {
             "outlinewidth": 0,
             "ticks": ""
            },
            "type": "contourcarpet"
           }
          ],
          "heatmap": [
           {
            "colorbar": {
             "outlinewidth": 0,
             "ticks": ""
            },
            "colorscale": [
             [
              0,
              "#0d0887"
             ],
             [
              0.1111111111111111,
              "#46039f"
             ],
             [
              0.2222222222222222,
              "#7201a8"
             ],
             [
              0.3333333333333333,
              "#9c179e"
             ],
             [
              0.4444444444444444,
              "#bd3786"
             ],
             [
              0.5555555555555556,
              "#d8576b"
             ],
             [
              0.6666666666666666,
              "#ed7953"
             ],
             [
              0.7777777777777778,
              "#fb9f3a"
             ],
             [
              0.8888888888888888,
              "#fdca26"
             ],
             [
              1,
              "#f0f921"
             ]
            ],
            "type": "heatmap"
           }
          ],
          "heatmapgl": [
           {
            "colorbar": {
             "outlinewidth": 0,
             "ticks": ""
            },
            "colorscale": [
             [
              0,
              "#0d0887"
             ],
             [
              0.1111111111111111,
              "#46039f"
             ],
             [
              0.2222222222222222,
              "#7201a8"
             ],
             [
              0.3333333333333333,
              "#9c179e"
             ],
             [
              0.4444444444444444,
              "#bd3786"
             ],
             [
              0.5555555555555556,
              "#d8576b"
             ],
             [
              0.6666666666666666,
              "#ed7953"
             ],
             [
              0.7777777777777778,
              "#fb9f3a"
             ],
             [
              0.8888888888888888,
              "#fdca26"
             ],
             [
              1,
              "#f0f921"
             ]
            ],
            "type": "heatmapgl"
           }
          ],
          "histogram": [
           {
            "marker": {
             "pattern": {
              "fillmode": "overlay",
              "size": 10,
              "solidity": 0.2
             }
            },
            "type": "histogram"
           }
          ],
          "histogram2d": [
           {
            "colorbar": {
             "outlinewidth": 0,
             "ticks": ""
            },
            "colorscale": [
             [
              0,
              "#0d0887"
             ],
             [
              0.1111111111111111,
              "#46039f"
             ],
             [
              0.2222222222222222,
              "#7201a8"
             ],
             [
              0.3333333333333333,
              "#9c179e"
             ],
             [
              0.4444444444444444,
              "#bd3786"
             ],
             [
              0.5555555555555556,
              "#d8576b"
             ],
             [
              0.6666666666666666,
              "#ed7953"
             ],
             [
              0.7777777777777778,
              "#fb9f3a"
             ],
             [
              0.8888888888888888,
              "#fdca26"
             ],
             [
              1,
              "#f0f921"
             ]
            ],
            "type": "histogram2d"
           }
          ],
          "histogram2dcontour": [
           {
            "colorbar": {
             "outlinewidth": 0,
             "ticks": ""
            },
            "colorscale": [
             [
              0,
              "#0d0887"
             ],
             [
              0.1111111111111111,
              "#46039f"
             ],
             [
              0.2222222222222222,
              "#7201a8"
             ],
             [
              0.3333333333333333,
              "#9c179e"
             ],
             [
              0.4444444444444444,
              "#bd3786"
             ],
             [
              0.5555555555555556,
              "#d8576b"
             ],
             [
              0.6666666666666666,
              "#ed7953"
             ],
             [
              0.7777777777777778,
              "#fb9f3a"
             ],
             [
              0.8888888888888888,
              "#fdca26"
             ],
             [
              1,
              "#f0f921"
             ]
            ],
            "type": "histogram2dcontour"
           }
          ],
          "mesh3d": [
           {
            "colorbar": {
             "outlinewidth": 0,
             "ticks": ""
            },
            "type": "mesh3d"
           }
          ],
          "parcoords": [
           {
            "line": {
             "colorbar": {
              "outlinewidth": 0,
              "ticks": ""
             }
            },
            "type": "parcoords"
           }
          ],
          "pie": [
           {
            "automargin": true,
            "type": "pie"
           }
          ],
          "scatter": [
           {
            "fillpattern": {
             "fillmode": "overlay",
             "size": 10,
             "solidity": 0.2
            },
            "type": "scatter"
           }
          ],
          "scatter3d": [
           {
            "line": {
             "colorbar": {
              "outlinewidth": 0,
              "ticks": ""
             }
            },
            "marker": {
             "colorbar": {
              "outlinewidth": 0,
              "ticks": ""
             }
            },
            "type": "scatter3d"
           }
          ],
          "scattercarpet": [
           {
            "marker": {
             "colorbar": {
              "outlinewidth": 0,
              "ticks": ""
             }
            },
            "type": "scattercarpet"
           }
          ],
          "scattergeo": [
           {
            "marker": {
             "colorbar": {
              "outlinewidth": 0,
              "ticks": ""
             }
            },
            "type": "scattergeo"
           }
          ],
          "scattergl": [
           {
            "marker": {
             "colorbar": {
              "outlinewidth": 0,
              "ticks": ""
             }
            },
            "type": "scattergl"
           }
          ],
          "scattermapbox": [
           {
            "marker": {
             "colorbar": {
              "outlinewidth": 0,
              "ticks": ""
             }
            },
            "type": "scattermapbox"
           }
          ],
          "scatterpolar": [
           {
            "marker": {
             "colorbar": {
              "outlinewidth": 0,
              "ticks": ""
             }
            },
            "type": "scatterpolar"
           }
          ],
          "scatterpolargl": [
           {
            "marker": {
             "colorbar": {
              "outlinewidth": 0,
              "ticks": ""
             }
            },
            "type": "scatterpolargl"
           }
          ],
          "scatterternary": [
           {
            "marker": {
             "colorbar": {
              "outlinewidth": 0,
              "ticks": ""
             }
            },
            "type": "scatterternary"
           }
          ],
          "surface": [
           {
            "colorbar": {
             "outlinewidth": 0,
             "ticks": ""
            },
            "colorscale": [
             [
              0,
              "#0d0887"
             ],
             [
              0.1111111111111111,
              "#46039f"
             ],
             [
              0.2222222222222222,
              "#7201a8"
             ],
             [
              0.3333333333333333,
              "#9c179e"
             ],
             [
              0.4444444444444444,
              "#bd3786"
             ],
             [
              0.5555555555555556,
              "#d8576b"
             ],
             [
              0.6666666666666666,
              "#ed7953"
             ],
             [
              0.7777777777777778,
              "#fb9f3a"
             ],
             [
              0.8888888888888888,
              "#fdca26"
             ],
             [
              1,
              "#f0f921"
             ]
            ],
            "type": "surface"
           }
          ],
          "table": [
           {
            "cells": {
             "fill": {
              "color": "#EBF0F8"
             },
             "line": {
              "color": "white"
             }
            },
            "header": {
             "fill": {
              "color": "#C8D4E3"
             },
             "line": {
              "color": "white"
             }
            },
            "type": "table"
           }
          ]
         },
         "layout": {
          "annotationdefaults": {
           "arrowcolor": "#2a3f5f",
           "arrowhead": 0,
           "arrowwidth": 1
          },
          "autotypenumbers": "strict",
          "coloraxis": {
           "colorbar": {
            "outlinewidth": 0,
            "ticks": ""
           }
          },
          "colorscale": {
           "diverging": [
            [
             0,
             "#8e0152"
            ],
            [
             0.1,
             "#c51b7d"
            ],
            [
             0.2,
             "#de77ae"
            ],
            [
             0.3,
             "#f1b6da"
            ],
            [
             0.4,
             "#fde0ef"
            ],
            [
             0.5,
             "#f7f7f7"
            ],
            [
             0.6,
             "#e6f5d0"
            ],
            [
             0.7,
             "#b8e186"
            ],
            [
             0.8,
             "#7fbc41"
            ],
            [
             0.9,
             "#4d9221"
            ],
            [
             1,
             "#276419"
            ]
           ],
           "sequential": [
            [
             0,
             "#0d0887"
            ],
            [
             0.1111111111111111,
             "#46039f"
            ],
            [
             0.2222222222222222,
             "#7201a8"
            ],
            [
             0.3333333333333333,
             "#9c179e"
            ],
            [
             0.4444444444444444,
             "#bd3786"
            ],
            [
             0.5555555555555556,
             "#d8576b"
            ],
            [
             0.6666666666666666,
             "#ed7953"
            ],
            [
             0.7777777777777778,
             "#fb9f3a"
            ],
            [
             0.8888888888888888,
             "#fdca26"
            ],
            [
             1,
             "#f0f921"
            ]
           ],
           "sequentialminus": [
            [
             0,
             "#0d0887"
            ],
            [
             0.1111111111111111,
             "#46039f"
            ],
            [
             0.2222222222222222,
             "#7201a8"
            ],
            [
             0.3333333333333333,
             "#9c179e"
            ],
            [
             0.4444444444444444,
             "#bd3786"
            ],
            [
             0.5555555555555556,
             "#d8576b"
            ],
            [
             0.6666666666666666,
             "#ed7953"
            ],
            [
             0.7777777777777778,
             "#fb9f3a"
            ],
            [
             0.8888888888888888,
             "#fdca26"
            ],
            [
             1,
             "#f0f921"
            ]
           ]
          },
          "colorway": [
           "#636efa",
           "#EF553B",
           "#00cc96",
           "#ab63fa",
           "#FFA15A",
           "#19d3f3",
           "#FF6692",
           "#B6E880",
           "#FF97FF",
           "#FECB52"
          ],
          "font": {
           "color": "#2a3f5f"
          },
          "geo": {
           "bgcolor": "white",
           "lakecolor": "white",
           "landcolor": "#E5ECF6",
           "showlakes": true,
           "showland": true,
           "subunitcolor": "white"
          },
          "hoverlabel": {
           "align": "left"
          },
          "hovermode": "closest",
          "mapbox": {
           "style": "light"
          },
          "paper_bgcolor": "white",
          "plot_bgcolor": "#E5ECF6",
          "polar": {
           "angularaxis": {
            "gridcolor": "white",
            "linecolor": "white",
            "ticks": ""
           },
           "bgcolor": "#E5ECF6",
           "radialaxis": {
            "gridcolor": "white",
            "linecolor": "white",
            "ticks": ""
           }
          },
          "scene": {
           "xaxis": {
            "backgroundcolor": "#E5ECF6",
            "gridcolor": "white",
            "gridwidth": 2,
            "linecolor": "white",
            "showbackground": true,
            "ticks": "",
            "zerolinecolor": "white"
           },
           "yaxis": {
            "backgroundcolor": "#E5ECF6",
            "gridcolor": "white",
            "gridwidth": 2,
            "linecolor": "white",
            "showbackground": true,
            "ticks": "",
            "zerolinecolor": "white"
           },
           "zaxis": {
            "backgroundcolor": "#E5ECF6",
            "gridcolor": "white",
            "gridwidth": 2,
            "linecolor": "white",
            "showbackground": true,
            "ticks": "",
            "zerolinecolor": "white"
           }
          },
          "shapedefaults": {
           "line": {
            "color": "#2a3f5f"
           }
          },
          "ternary": {
           "aaxis": {
            "gridcolor": "white",
            "linecolor": "white",
            "ticks": ""
           },
           "baxis": {
            "gridcolor": "white",
            "linecolor": "white",
            "ticks": ""
           },
           "bgcolor": "#E5ECF6",
           "caxis": {
            "gridcolor": "white",
            "linecolor": "white",
            "ticks": ""
           }
          },
          "title": {
           "x": 0.05
          },
          "xaxis": {
           "automargin": true,
           "gridcolor": "white",
           "linecolor": "white",
           "ticks": "",
           "title": {
            "standoff": 15
           },
           "zerolinecolor": "white",
           "zerolinewidth": 2
          },
          "yaxis": {
           "automargin": true,
           "gridcolor": "white",
           "linecolor": "white",
           "ticks": "",
           "title": {
            "standoff": 15
           },
           "zerolinecolor": "white",
           "zerolinewidth": 2
          }
         }
        },
        "xaxis": {
         "anchor": "y",
         "domain": [
          0,
          1
         ],
         "title": {
          "text": "area"
         }
        },
        "yaxis": {
         "anchor": "x",
         "domain": [
          0,
          1
         ],
         "title": {
          "text": "count"
         }
        }
       }
      }
     },
     "metadata": {},
     "output_type": "display_data"
    }
   ],
   "source": [
    "hist = px.histogram(data, x='area', color='price', barmode='overlay')\n",
    "hist.show()"
   ]
  },
  {
   "cell_type": "code",
   "execution_count": 100,
   "metadata": {},
   "outputs": [
    {
     "data": {
      "image/png": "[encoded data removed]",
      "text/plain": [
       "<Figure size 2000x1500 with 6 Axes>"
      ]
     },
     "metadata": {},
     "output_type": "display_data"
    }
   ],
   "source": [
    "data.hist(bins=20, figsize=(20, 15))\n",
    "plt.show()"
   ]
  },
  {
   "cell_type": "code",
   "execution_count": 101,
   "metadata": {},
   "outputs": [
    {
     "data": {
      "image/png": "[encoded data removed]",
      "text/plain": [
       "<Figure size 640x480 with 1 Axes>"
      ]
     },
     "metadata": {},
     "output_type": "display_data"
    },
    {
     "data": {
      "image/png": "[encoded data removed]",
      "text/plain": [
       "<Figure size 640x480 with 1 Axes>"
      ]
     },
     "metadata": {},
     "output_type": "display_data"
    },
    {
     "data": {
      "image/png": "[encoded data removed]",
      "text/plain": [
       "<Figure size 640x480 with 1 Axes>"
      ]
     },
     "metadata": {},
     "output_type": "display_data"
    },
    {
     "data": {
      "image/png": "[encoded data removed]",
      "text/plain": [
       "<Figure size 640x480 with 1 Axes>"
      ]
     },
     "metadata": {},
     "output_type": "display_data"
    },
    {
     "data": {
      "image/png": "[encoded data removed]",
      "text/plain": [
       "<Figure size 640x480 with 1 Axes>"
      ]
     },
     "metadata": {},
     "output_type": "display_data"
    },
    {
     "data": {
      "image/png": "[encoded data removed]",
      "text/plain": [
       "<Figure size 640x480 with 1 Axes>"
      ]
     },
     "metadata": {},
     "output_type": "display_data"
    },
    {
     "data": {
      "image/png": "[encoded data removed]",
      "text/plain": [
       "<Figure size 640x480 with 1 Axes>"
      ]
     },
     "metadata": {},
     "output_type": "display_data"
    }
   ],
   "source": [
    "column = ['mainroad', 'guestroom','basement', 'hotwaterheating', 'airconditioning',  'prefarea',\n",
    "        'furnishingstatus']\n",
    "for col in column:\n",
    "        sns.countplot(data = data, x=col)\n",
    "        plt.title(col)\n",
    "        plt.show()"
   ]
  },
  {
   "cell_type": "markdown",
   "metadata": {},
   "source": [
    "Correlation Matrix"
   ]
  },
  {
   "cell_type": "code",
   "execution_count": 102,
   "metadata": {},
   "outputs": [
    {
     "data": {
      "image/png": "[encoded data removed]",
      "text/plain": [
       "<Figure size 1000x800 with 2 Axes>"
      ]
     },
     "metadata": {},
     "output_type": "display_data"
    }
   ],
   "source": [
    "numeric_columns = data.select_dtypes(include=[np.number])\n",
    "corr_matrix = numeric_columns.corr()\n",
    "\n",
    "# Plotting the correlation matrix\n",
    "plt.figure(figsize=(10, 8))\n",
    "sns.heatmap(corr_matrix, annot=True, fmt=\".2f\")\n",
    "plt.show()"
   ]
  },
  {
   "cell_type": "markdown",
   "metadata": {},
   "source": [
    "# Data Preprocessing"
   ]
  },
  {
   "cell_type": "markdown",
   "metadata": {},
   "source": [
    "Splitting the Dependent and Independent Variable"
   ]
  },
  {
   "cell_type": "code",
   "execution_count": 103,
   "metadata": {},
   "outputs": [],
   "source": [
    "X = data.iloc[:, 1:]\n",
    "y = data.iloc[:, 0]"
   ]
  },
  {
   "cell_type": "code",
   "execution_count": 104,
   "metadata": {},
   "outputs": [
    {
     "data": {
      "text/html": [
       "<div>\n",
       "<style scoped>\n",
       "    .dataframe tbody tr th:only-of-type {\n",
       "        vertical-align: middle;\n",
       "    }\n",
       "\n",
       "    .dataframe tbody tr th {\n",
       "        vertical-align: top;\n",
       "    }\n",
       "\n",
       "    .dataframe thead th {\n",
       "        text-align: right;\n",
       "    }\n",
       "</style>\n",
       "<table border=\"1\" class=\"dataframe\">\n",
       "  <thead>\n",
       "    <tr style=\"text-align: right;\">\n",
       "      <th></th>\n",
       "      <th>area</th>\n",
       "      <th>bedrooms</th>\n",
       "      <th>bathrooms</th>\n",
       "      <th>stories</th>\n",
       "      <th>mainroad</th>\n",
       "      <th>guestroom</th>\n",
       "      <th>basement</th>\n",
       "      <th>hotwaterheating</th>\n",
       "      <th>airconditioning</th>\n",
       "      <th>parking</th>\n",
       "      <th>prefarea</th>\n",
       "      <th>furnishingstatus</th>\n",
       "    </tr>\n",
       "  </thead>\n",
       "  <tbody>\n",
       "    <tr>\n",
       "      <th>0</th>\n",
       "      <td>7420</td>\n",
       "      <td>4</td>\n",
       "      <td>2</td>\n",
       "      <td>3</td>\n",
       "      <td>yes</td>\n",
       "      <td>no</td>\n",
       "      <td>no</td>\n",
       "      <td>no</td>\n",
       "      <td>yes</td>\n",
       "      <td>2</td>\n",
       "      <td>yes</td>\n",
       "      <td>furnished</td>\n",
       "    </tr>\n",
       "    <tr>\n",
       "      <th>1</th>\n",
       "      <td>8960</td>\n",
       "      <td>4</td>\n",
       "      <td>4</td>\n",
       "      <td>4</td>\n",
       "      <td>yes</td>\n",
       "      <td>no</td>\n",
       "      <td>no</td>\n",
       "      <td>no</td>\n",
       "      <td>yes</td>\n",
       "      <td>3</td>\n",
       "      <td>no</td>\n",
       "      <td>furnished</td>\n",
       "    </tr>\n",
       "    <tr>\n",
       "      <th>2</th>\n",
       "      <td>9960</td>\n",
       "      <td>3</td>\n",
       "      <td>2</td>\n",
       "      <td>2</td>\n",
       "      <td>yes</td>\n",
       "      <td>no</td>\n",
       "      <td>yes</td>\n",
       "      <td>no</td>\n",
       "      <td>no</td>\n",
       "      <td>2</td>\n",
       "      <td>yes</td>\n",
       "      <td>semi-furnished</td>\n",
       "    </tr>\n",
       "    <tr>\n",
       "      <th>3</th>\n",
       "      <td>7500</td>\n",
       "      <td>4</td>\n",
       "      <td>2</td>\n",
       "      <td>2</td>\n",
       "      <td>yes</td>\n",
       "      <td>no</td>\n",
       "      <td>yes</td>\n",
       "      <td>no</td>\n",
       "      <td>yes</td>\n",
       "      <td>3</td>\n",
       "      <td>yes</td>\n",
       "      <td>furnished</td>\n",
       "    </tr>\n",
       "    <tr>\n",
       "      <th>4</th>\n",
       "      <td>7420</td>\n",
       "      <td>4</td>\n",
       "      <td>1</td>\n",
       "      <td>2</td>\n",
       "      <td>yes</td>\n",
       "      <td>yes</td>\n",
       "      <td>yes</td>\n",
       "      <td>no</td>\n",
       "      <td>yes</td>\n",
       "      <td>2</td>\n",
       "      <td>no</td>\n",
       "      <td>furnished</td>\n",
       "    </tr>\n",
       "  </tbody>\n",
       "</table>\n",
       "</div>"
      ],
      "text/plain": [
       "   area  bedrooms  bathrooms  stories mainroad guestroom basement  \\\n",
       "0  7420         4          2        3      yes        no       no   \n",
       "1  8960         4          4        4      yes        no       no   \n",
       "2  9960         3          2        2      yes        no      yes   \n",
       "3  7500         4          2        2      yes        no      yes   \n",
       "4  7420         4          1        2      yes       yes      yes   \n",
       "\n",
       "  hotwaterheating airconditioning  parking prefarea furnishingstatus  \n",
       "0              no             yes        2      yes        furnished  \n",
       "1              no             yes        3       no        furnished  \n",
       "2              no              no        2      yes   semi-furnished  \n",
       "3              no             yes        3      yes        furnished  \n",
       "4              no             yes        2       no        furnished  "
      ]
     },
     "metadata": {},
     "output_type": "display_data"
    }
   ],
   "source": [
    "display(X.head(5))"
   ]
  },
  {
   "cell_type": "code",
   "execution_count": 105,
   "metadata": {},
   "outputs": [
    {
     "data": {
      "text/plain": [
       "0    13300000\n",
       "1    12250000\n",
       "2    12250000\n",
       "3    12215000\n",
       "4    11410000\n",
       "Name: price, dtype: int64"
      ]
     },
     "metadata": {},
     "output_type": "display_data"
    }
   ],
   "source": [
    "display(y.head(5))"
   ]
  },
  {
   "cell_type": "markdown",
   "metadata": {},
   "source": [
    "Encoding Categorical Variable"
   ]
  },
  {
   "cell_type": "code",
   "execution_count": 106,
   "metadata": {},
   "outputs": [
    {
     "data": {
      "text/html": [
       "<div>\n",
       "<style scoped>\n",
       "    .dataframe tbody tr th:only-of-type {\n",
       "        vertical-align: middle;\n",
       "    }\n",
       "\n",
       "    .dataframe tbody tr th {\n",
       "        vertical-align: top;\n",
       "    }\n",
       "\n",
       "    .dataframe thead th {\n",
       "        text-align: right;\n",
       "    }\n",
       "</style>\n",
       "<table border=\"1\" class=\"dataframe\">\n",
       "  <thead>\n",
       "    <tr style=\"text-align: right;\">\n",
       "      <th></th>\n",
       "      <th>area</th>\n",
       "      <th>bedrooms</th>\n",
       "      <th>bathrooms</th>\n",
       "      <th>stories</th>\n",
       "      <th>mainroad</th>\n",
       "      <th>guestroom</th>\n",
       "      <th>basement</th>\n",
       "      <th>hotwaterheating</th>\n",
       "      <th>airconditioning</th>\n",
       "      <th>parking</th>\n",
       "      <th>prefarea</th>\n",
       "      <th>furnishingstatus</th>\n",
       "    </tr>\n",
       "  </thead>\n",
       "  <tbody>\n",
       "    <tr>\n",
       "      <th>0</th>\n",
       "      <td>7420</td>\n",
       "      <td>4</td>\n",
       "      <td>2</td>\n",
       "      <td>3</td>\n",
       "      <td>1</td>\n",
       "      <td>0</td>\n",
       "      <td>0</td>\n",
       "      <td>0</td>\n",
       "      <td>1</td>\n",
       "      <td>2</td>\n",
       "      <td>1</td>\n",
       "      <td>furnished</td>\n",
       "    </tr>\n",
       "    <tr>\n",
       "      <th>1</th>\n",
       "      <td>8960</td>\n",
       "      <td>4</td>\n",
       "      <td>4</td>\n",
       "      <td>4</td>\n",
       "      <td>1</td>\n",
       "      <td>0</td>\n",
       "      <td>0</td>\n",
       "      <td>0</td>\n",
       "      <td>1</td>\n",
       "      <td>3</td>\n",
       "      <td>0</td>\n",
       "      <td>furnished</td>\n",
       "    </tr>\n",
       "    <tr>\n",
       "      <th>2</th>\n",
       "      <td>9960</td>\n",
       "      <td>3</td>\n",
       "      <td>2</td>\n",
       "      <td>2</td>\n",
       "      <td>1</td>\n",
       "      <td>0</td>\n",
       "      <td>1</td>\n",
       "      <td>0</td>\n",
       "      <td>0</td>\n",
       "      <td>2</td>\n",
       "      <td>1</td>\n",
       "      <td>semi-furnished</td>\n",
       "    </tr>\n",
       "    <tr>\n",
       "      <th>3</th>\n",
       "      <td>7500</td>\n",
       "      <td>4</td>\n",
       "      <td>2</td>\n",
       "      <td>2</td>\n",
       "      <td>1</td>\n",
       "      <td>0</td>\n",
       "      <td>1</td>\n",
       "      <td>0</td>\n",
       "      <td>1</td>\n",
       "      <td>3</td>\n",
       "      <td>1</td>\n",
       "      <td>furnished</td>\n",
       "    </tr>\n",
       "    <tr>\n",
       "      <th>4</th>\n",
       "      <td>7420</td>\n",
       "      <td>4</td>\n",
       "      <td>1</td>\n",
       "      <td>2</td>\n",
       "      <td>1</td>\n",
       "      <td>1</td>\n",
       "      <td>1</td>\n",
       "      <td>0</td>\n",
       "      <td>1</td>\n",
       "      <td>2</td>\n",
       "      <td>0</td>\n",
       "      <td>furnished</td>\n",
       "    </tr>\n",
       "  </tbody>\n",
       "</table>\n",
       "</div>"
      ],
      "text/plain": [
       "   area  bedrooms  bathrooms  stories  mainroad  guestroom  basement  \\\n",
       "0  7420         4          2        3         1          0         0   \n",
       "1  8960         4          4        4         1          0         0   \n",
       "2  9960         3          2        2         1          0         1   \n",
       "3  7500         4          2        2         1          0         1   \n",
       "4  7420         4          1        2         1          1         1   \n",
       "\n",
       "   hotwaterheating  airconditioning  parking  prefarea furnishingstatus  \n",
       "0                0                1        2         1        furnished  \n",
       "1                0                1        3         0        furnished  \n",
       "2                0                0        2         1   semi-furnished  \n",
       "3                0                1        3         1        furnished  \n",
       "4                0                1        2         0        furnished  "
      ]
     },
     "metadata": {},
     "output_type": "display_data"
    }
   ],
   "source": [
    "from sklearn.preprocessing import LabelEncoder\n",
    "columns_to_encode = ['mainroad', 'guestroom', 'basement', 'hotwaterheating', 'airconditioning', 'prefarea']\n",
    "le = LabelEncoder()\n",
    "X[columns_to_encode] = X[columns_to_encode].apply(lambda col: le.fit_transform(col))\n",
    "display(X.head(5))"
   ]
  },
  {
   "cell_type": "code",
   "execution_count": 107,
   "metadata": {},
   "outputs": [
    {
     "data": {
      "text/html": [
       "<div>\n",
       "<style scoped>\n",
       "    .dataframe tbody tr th:only-of-type {\n",
       "        vertical-align: middle;\n",
       "    }\n",
       "\n",
       "    .dataframe tbody tr th {\n",
       "        vertical-align: top;\n",
       "    }\n",
       "\n",
       "    .dataframe thead th {\n",
       "        text-align: right;\n",
       "    }\n",
       "</style>\n",
       "<table border=\"1\" class=\"dataframe\">\n",
       "  <thead>\n",
       "    <tr style=\"text-align: right;\">\n",
       "      <th></th>\n",
       "      <th>area</th>\n",
       "      <th>bedrooms</th>\n",
       "      <th>bathrooms</th>\n",
       "      <th>stories</th>\n",
       "      <th>mainroad</th>\n",
       "      <th>guestroom</th>\n",
       "      <th>basement</th>\n",
       "      <th>hotwaterheating</th>\n",
       "      <th>airconditioning</th>\n",
       "      <th>parking</th>\n",
       "      <th>prefarea</th>\n",
       "      <th>furnishingstatus_semi-furnished</th>\n",
       "      <th>furnishingstatus_unfurnished</th>\n",
       "    </tr>\n",
       "  </thead>\n",
       "  <tbody>\n",
       "    <tr>\n",
       "      <th>0</th>\n",
       "      <td>7420</td>\n",
       "      <td>4</td>\n",
       "      <td>2</td>\n",
       "      <td>3</td>\n",
       "      <td>1</td>\n",
       "      <td>0</td>\n",
       "      <td>0</td>\n",
       "      <td>0</td>\n",
       "      <td>1</td>\n",
       "      <td>2</td>\n",
       "      <td>1</td>\n",
       "      <td>False</td>\n",
       "      <td>False</td>\n",
       "    </tr>\n",
       "    <tr>\n",
       "      <th>1</th>\n",
       "      <td>8960</td>\n",
       "      <td>4</td>\n",
       "      <td>4</td>\n",
       "      <td>4</td>\n",
       "      <td>1</td>\n",
       "      <td>0</td>\n",
       "      <td>0</td>\n",
       "      <td>0</td>\n",
       "      <td>1</td>\n",
       "      <td>3</td>\n",
       "      <td>0</td>\n",
       "      <td>False</td>\n",
       "      <td>False</td>\n",
       "    </tr>\n",
       "    <tr>\n",
       "      <th>2</th>\n",
       "      <td>9960</td>\n",
       "      <td>3</td>\n",
       "      <td>2</td>\n",
       "      <td>2</td>\n",
       "      <td>1</td>\n",
       "      <td>0</td>\n",
       "      <td>1</td>\n",
       "      <td>0</td>\n",
       "      <td>0</td>\n",
       "      <td>2</td>\n",
       "      <td>1</td>\n",
       "      <td>True</td>\n",
       "      <td>False</td>\n",
       "    </tr>\n",
       "    <tr>\n",
       "      <th>3</th>\n",
       "      <td>7500</td>\n",
       "      <td>4</td>\n",
       "      <td>2</td>\n",
       "      <td>2</td>\n",
       "      <td>1</td>\n",
       "      <td>0</td>\n",
       "      <td>1</td>\n",
       "      <td>0</td>\n",
       "      <td>1</td>\n",
       "      <td>3</td>\n",
       "      <td>1</td>\n",
       "      <td>False</td>\n",
       "      <td>False</td>\n",
       "    </tr>\n",
       "    <tr>\n",
       "      <th>4</th>\n",
       "      <td>7420</td>\n",
       "      <td>4</td>\n",
       "      <td>1</td>\n",
       "      <td>2</td>\n",
       "      <td>1</td>\n",
       "      <td>1</td>\n",
       "      <td>1</td>\n",
       "      <td>0</td>\n",
       "      <td>1</td>\n",
       "      <td>2</td>\n",
       "      <td>0</td>\n",
       "      <td>False</td>\n",
       "      <td>False</td>\n",
       "    </tr>\n",
       "  </tbody>\n",
       "</table>\n",
       "</div>"
      ],
      "text/plain": [
       "   area  bedrooms  bathrooms  stories  mainroad  guestroom  basement  \\\n",
       "0  7420         4          2        3         1          0         0   \n",
       "1  8960         4          4        4         1          0         0   \n",
       "2  9960         3          2        2         1          0         1   \n",
       "3  7500         4          2        2         1          0         1   \n",
       "4  7420         4          1        2         1          1         1   \n",
       "\n",
       "   hotwaterheating  airconditioning  parking  prefarea  \\\n",
       "0                0                1        2         1   \n",
       "1                0                1        3         0   \n",
       "2                0                0        2         1   \n",
       "3                0                1        3         1   \n",
       "4                0                1        2         0   \n",
       "\n",
       "   furnishingstatus_semi-furnished  furnishingstatus_unfurnished  \n",
       "0                            False                         False  \n",
       "1                            False                         False  \n",
       "2                             True                         False  \n",
       "3                            False                         False  \n",
       "4                            False                         False  "
      ]
     },
     "metadata": {},
     "output_type": "display_data"
    }
   ],
   "source": [
    "from sklearn.preprocessing import OneHotEncoder\n",
    "X = pd.get_dummies(X, columns=['furnishingstatus'], drop_first=True)\n",
    "display(X.head(5))"
   ]
  },
  {
   "cell_type": "code",
   "execution_count": 108,
   "metadata": {},
   "outputs": [],
   "source": [
    "#Implementing Numpy array\n",
    "X_arr = X.values\n",
    "y_arr = y.values"
   ]
  },
  {
   "cell_type": "markdown",
   "metadata": {},
   "source": [
    "# Splitting the Dataset"
   ]
  },
  {
   "cell_type": "code",
   "execution_count": 109,
   "metadata": {},
   "outputs": [],
   "source": [
    "from sklearn.model_selection import train_test_split\n",
    "X_train, X_test, y_train, y_test = train_test_split(X_arr, y_arr, test_size=0.2, random_state=0)"
   ]
  },
  {
   "cell_type": "markdown",
   "metadata": {},
   "source": [
    "# Model Training"
   ]
  },
  {
   "cell_type": "code",
   "execution_count": 110,
   "metadata": {},
   "outputs": [
    {
     "data": {
      "text/html": [
       "<style>#sk-container-id-3 {\n",
       "  /* Definition of color scheme common for light and dark mode */\n",
       "  --sklearn-color-text: black;\n",
       "  --sklearn-color-line: gray;\n",
       "  /* Definition of color scheme for unfitted estimators */\n",
       "  --sklearn-color-unfitted-level-0: #fff5e6;\n",
       "  --sklearn-color-unfitted-level-1: #f6e4d2;\n",
       "  --sklearn-color-unfitted-level-2: #ffe0b3;\n",
       "  --sklearn-color-unfitted-level-3: chocolate;\n",
       "  /* Definition of color scheme for fitted estimators */\n",
       "  --sklearn-color-fitted-level-0: #f0f8ff;\n",
       "  --sklearn-color-fitted-level-1: #d4ebff;\n",
       "  --sklearn-color-fitted-level-2: #b3dbfd;\n",
       "  --sklearn-color-fitted-level-3: cornflowerblue;\n",
       "\n",
       "  /* Specific color for light theme */\n",
       "  --sklearn-color-text-on-default-background: var(--sg-text-color, var(--theme-code-foreground, var(--jp-content-font-color1, black)));\n",
       "  --sklearn-color-background: var(--sg-background-color, var(--theme-background, var(--jp-layout-color0, white)));\n",
       "  --sklearn-color-border-box: var(--sg-text-color, var(--theme-code-foreground, var(--jp-content-font-color1, black)));\n",
       "  --sklearn-color-icon: #696969;\n",
       "\n",
       "  @media (prefers-color-scheme: dark) {\n",
       "    /* Redefinition of color scheme for dark theme */\n",
       "    --sklearn-color-text-on-default-background: var(--sg-text-color, var(--theme-code-foreground, var(--jp-content-font-color1, white)));\n",
       "    --sklearn-color-background: var(--sg-background-color, var(--theme-background, var(--jp-layout-color0, #111)));\n",
       "    --sklearn-color-border-box: var(--sg-text-color, var(--theme-code-foreground, var(--jp-content-font-color1, white)));\n",
       "    --sklearn-color-icon: #878787;\n",
       "  }\n",
       "}\n",
       "\n",
       "#sk-container-id-3 {\n",
       "  color: var(--sklearn-color-text);\n",
       "}\n",
       "\n",
       "#sk-container-id-3 pre {\n",
       "  padding: 0;\n",
       "}\n",
       "\n",
       "#sk-container-id-3 input.sk-hidden--visually {\n",
       "  border: 0;\n",
       "  clip: rect(1px 1px 1px 1px);\n",
       "  clip: rect(1px, 1px, 1px, 1px);\n",
       "  height: 1px;\n",
       "  margin: -1px;\n",
       "  overflow: hidden;\n",
       "  padding: 0;\n",
       "  position: absolute;\n",
       "  width: 1px;\n",
       "}\n",
       "\n",
       "#sk-container-id-3 div.sk-dashed-wrapped {\n",
       "  border: 1px dashed var(--sklearn-color-line);\n",
       "  margin: 0 0.4em 0.5em 0.4em;\n",
       "  box-sizing: border-box;\n",
       "  padding-bottom: 0.4em;\n",
       "  background-color: var(--sklearn-color-background);\n",
       "}\n",
       "\n",
       "#sk-container-id-3 div.sk-container {\n",
       "  /* jupyter's `normalize.less` sets `[hidden] { display: none; }`\n",
       "     but bootstrap.min.css set `[hidden] { display: none !important; }`\n",
       "     so we also need the `!important` here to be able to override the\n",
       "     default hidden behavior on the sphinx rendered scikit-learn.org.\n",
       "     See: https://github.com/scikit-learn/scikit-learn/issues/21755 */\n",
       "  display: inline-block !important;\n",
       "  position: relative;\n",
       "}\n",
       "\n",
       "#sk-container-id-3 div.sk-text-repr-fallback {\n",
       "  display: none;\n",
       "}\n",
       "\n",
       "div.sk-parallel-item,\n",
       "div.sk-serial,\n",
       "div.sk-item {\n",
       "  /* draw centered vertical line to link estimators */\n",
       "  background-image: linear-gradient(var(--sklearn-color-text-on-default-background), var(--sklearn-color-text-on-default-background));\n",
       "  background-size: 2px 100%;\n",
       "  background-repeat: no-repeat;\n",
       "  background-position: center center;\n",
       "}\n",
       "\n",
       "/* Parallel-specific style estimator block */\n",
       "\n",
       "#sk-container-id-3 div.sk-parallel-item::after {\n",
       "  content: \"\";\n",
       "  width: 100%;\n",
       "  border-bottom: 2px solid var(--sklearn-color-text-on-default-background);\n",
       "  flex-grow: 1;\n",
       "}\n",
       "\n",
       "#sk-container-id-3 div.sk-parallel {\n",
       "  display: flex;\n",
       "  align-items: stretch;\n",
       "  justify-content: center;\n",
       "  background-color: var(--sklearn-color-background);\n",
       "  position: relative;\n",
       "}\n",
       "\n",
       "#sk-container-id-3 div.sk-parallel-item {\n",
       "  display: flex;\n",
       "  flex-direction: column;\n",
       "}\n",
       "\n",
       "#sk-container-id-3 div.sk-parallel-item:first-child::after {\n",
       "  align-self: flex-end;\n",
       "  width: 50%;\n",
       "}\n",
       "\n",
       "#sk-container-id-3 div.sk-parallel-item:last-child::after {\n",
       "  align-self: flex-start;\n",
       "  width: 50%;\n",
       "}\n",
       "\n",
       "#sk-container-id-3 div.sk-parallel-item:only-child::after {\n",
       "  width: 0;\n",
       "}\n",
       "\n",
       "/* Serial-specific style estimator block */\n",
       "\n",
       "#sk-container-id-3 div.sk-serial {\n",
       "  display: flex;\n",
       "  flex-direction: column;\n",
       "  align-items: center;\n",
       "  background-color: var(--sklearn-color-background);\n",
       "  padding-right: 1em;\n",
       "  padding-left: 1em;\n",
       "}\n",
       "\n",
       "\n",
       "/* Toggleable style: style used for estimator/Pipeline/ColumnTransformer box that is\n",
       "clickable and can be expanded/collapsed.\n",
       "- Pipeline and ColumnTransformer use this feature and define the default style\n",
       "- Estimators will overwrite some part of the style using the `sk-estimator` class\n",
       "*/\n",
       "\n",
       "/* Pipeline and ColumnTransformer style (default) */\n",
       "\n",
       "#sk-container-id-3 div.sk-toggleable {\n",
       "  /* Default theme specific background. It is overwritten whether we have a\n",
       "  specific estimator or a Pipeline/ColumnTransformer */\n",
       "  background-color: var(--sklearn-color-background);\n",
       "}\n",
       "\n",
       "/* Toggleable label */\n",
       "#sk-container-id-3 label.sk-toggleable__label {\n",
       "  cursor: pointer;\n",
       "  display: block;\n",
       "  width: 100%;\n",
       "  margin-bottom: 0;\n",
       "  padding: 0.5em;\n",
       "  box-sizing: border-box;\n",
       "  text-align: center;\n",
       "}\n",
       "\n",
       "#sk-container-id-3 label.sk-toggleable__label-arrow:before {\n",
       "  /* Arrow on the left of the label */\n",
       "  content: \"▸\";\n",
       "  float: left;\n",
       "  margin-right: 0.25em;\n",
       "  color: var(--sklearn-color-icon);\n",
       "}\n",
       "\n",
       "#sk-container-id-3 label.sk-toggleable__label-arrow:hover:before {\n",
       "  color: var(--sklearn-color-text);\n",
       "}\n",
       "\n",
       "/* Toggleable content - dropdown */\n",
       "\n",
       "#sk-container-id-3 div.sk-toggleable__content {\n",
       "  max-height: 0;\n",
       "  max-width: 0;\n",
       "  overflow: hidden;\n",
       "  text-align: left;\n",
       "  /* unfitted */\n",
       "  background-color: var(--sklearn-color-unfitted-level-0);\n",
       "}\n",
       "\n",
       "#sk-container-id-3 div.sk-toggleable__content.fitted {\n",
       "  /* fitted */\n",
       "  background-color: var(--sklearn-color-fitted-level-0);\n",
       "}\n",
       "\n",
       "#sk-container-id-3 div.sk-toggleable__content pre {\n",
       "  margin: 0.2em;\n",
       "  border-radius: 0.25em;\n",
       "  color: var(--sklearn-color-text);\n",
       "  /* unfitted */\n",
       "  background-color: var(--sklearn-color-unfitted-level-0);\n",
       "}\n",
       "\n",
       "#sk-container-id-3 div.sk-toggleable__content.fitted pre {\n",
       "  /* unfitted */\n",
       "  background-color: var(--sklearn-color-fitted-level-0);\n",
       "}\n",
       "\n",
       "#sk-container-id-3 input.sk-toggleable__control:checked~div.sk-toggleable__content {\n",
       "  /* Expand drop-down */\n",
       "  max-height: 200px;\n",
       "  max-width: 100%;\n",
       "  overflow: auto;\n",
       "}\n",
       "\n",
       "#sk-container-id-3 input.sk-toggleable__control:checked~label.sk-toggleable__label-arrow:before {\n",
       "  content: \"▾\";\n",
       "}\n",
       "\n",
       "/* Pipeline/ColumnTransformer-specific style */\n",
       "\n",
       "#sk-container-id-3 div.sk-label input.sk-toggleable__control:checked~label.sk-toggleable__label {\n",
       "  color: var(--sklearn-color-text);\n",
       "  background-color: var(--sklearn-color-unfitted-level-2);\n",
       "}\n",
       "\n",
       "#sk-container-id-3 div.sk-label.fitted input.sk-toggleable__control:checked~label.sk-toggleable__label {\n",
       "  background-color: var(--sklearn-color-fitted-level-2);\n",
       "}\n",
       "\n",
       "/* Estimator-specific style */\n",
       "\n",
       "/* Colorize estimator box */\n",
       "#sk-container-id-3 div.sk-estimator input.sk-toggleable__control:checked~label.sk-toggleable__label {\n",
       "  /* unfitted */\n",
       "  background-color: var(--sklearn-color-unfitted-level-2);\n",
       "}\n",
       "\n",
       "#sk-container-id-3 div.sk-estimator.fitted input.sk-toggleable__control:checked~label.sk-toggleable__label {\n",
       "  /* fitted */\n",
       "  background-color: var(--sklearn-color-fitted-level-2);\n",
       "}\n",
       "\n",
       "#sk-container-id-3 div.sk-label label.sk-toggleable__label,\n",
       "#sk-container-id-3 div.sk-label label {\n",
       "  /* The background is the default theme color */\n",
       "  color: var(--sklearn-color-text-on-default-background);\n",
       "}\n",
       "\n",
       "/* On hover, darken the color of the background */\n",
       "#sk-container-id-3 div.sk-label:hover label.sk-toggleable__label {\n",
       "  color: var(--sklearn-color-text);\n",
       "  background-color: var(--sklearn-color-unfitted-level-2);\n",
       "}\n",
       "\n",
       "/* Label box, darken color on hover, fitted */\n",
       "#sk-container-id-3 div.sk-label.fitted:hover label.sk-toggleable__label.fitted {\n",
       "  color: var(--sklearn-color-text);\n",
       "  background-color: var(--sklearn-color-fitted-level-2);\n",
       "}\n",
       "\n",
       "/* Estimator label */\n",
       "\n",
       "#sk-container-id-3 div.sk-label label {\n",
       "  font-family: monospace;\n",
       "  font-weight: bold;\n",
       "  display: inline-block;\n",
       "  line-height: 1.2em;\n",
       "}\n",
       "\n",
       "#sk-container-id-3 div.sk-label-container {\n",
       "  text-align: center;\n",
       "}\n",
       "\n",
       "/* Estimator-specific */\n",
       "#sk-container-id-3 div.sk-estimator {\n",
       "  font-family: monospace;\n",
       "  border: 1px dotted var(--sklearn-color-border-box);\n",
       "  border-radius: 0.25em;\n",
       "  box-sizing: border-box;\n",
       "  margin-bottom: 0.5em;\n",
       "  /* unfitted */\n",
       "  background-color: var(--sklearn-color-unfitted-level-0);\n",
       "}\n",
       "\n",
       "#sk-container-id-3 div.sk-estimator.fitted {\n",
       "  /* fitted */\n",
       "  background-color: var(--sklearn-color-fitted-level-0);\n",
       "}\n",
       "\n",
       "/* on hover */\n",
       "#sk-container-id-3 div.sk-estimator:hover {\n",
       "  /* unfitted */\n",
       "  background-color: var(--sklearn-color-unfitted-level-2);\n",
       "}\n",
       "\n",
       "#sk-container-id-3 div.sk-estimator.fitted:hover {\n",
       "  /* fitted */\n",
       "  background-color: var(--sklearn-color-fitted-level-2);\n",
       "}\n",
       "\n",
       "/* Specification for estimator info (e.g. \"i\" and \"?\") */\n",
       "\n",
       "/* Common style for \"i\" and \"?\" */\n",
       "\n",
       ".sk-estimator-doc-link,\n",
       "a:link.sk-estimator-doc-link,\n",
       "a:visited.sk-estimator-doc-link {\n",
       "  float: right;\n",
       "  font-size: smaller;\n",
       "  line-height: 1em;\n",
       "  font-family: monospace;\n",
       "  background-color: var(--sklearn-color-background);\n",
       "  border-radius: 1em;\n",
       "  height: 1em;\n",
       "  width: 1em;\n",
       "  text-decoration: none !important;\n",
       "  margin-left: 1ex;\n",
       "  /* unfitted */\n",
       "  border: var(--sklearn-color-unfitted-level-1) 1pt solid;\n",
       "  color: var(--sklearn-color-unfitted-level-1);\n",
       "}\n",
       "\n",
       ".sk-estimator-doc-link.fitted,\n",
       "a:link.sk-estimator-doc-link.fitted,\n",
       "a:visited.sk-estimator-doc-link.fitted {\n",
       "  /* fitted */\n",
       "  border: var(--sklearn-color-fitted-level-1) 1pt solid;\n",
       "  color: var(--sklearn-color-fitted-level-1);\n",
       "}\n",
       "\n",
       "/* On hover */\n",
       "div.sk-estimator:hover .sk-estimator-doc-link:hover,\n",
       ".sk-estimator-doc-link:hover,\n",
       "div.sk-label-container:hover .sk-estimator-doc-link:hover,\n",
       ".sk-estimator-doc-link:hover {\n",
       "  /* unfitted */\n",
       "  background-color: var(--sklearn-color-unfitted-level-3);\n",
       "  color: var(--sklearn-color-background);\n",
       "  text-decoration: none;\n",
       "}\n",
       "\n",
       "div.sk-estimator.fitted:hover .sk-estimator-doc-link.fitted:hover,\n",
       ".sk-estimator-doc-link.fitted:hover,\n",
       "div.sk-label-container:hover .sk-estimator-doc-link.fitted:hover,\n",
       ".sk-estimator-doc-link.fitted:hover {\n",
       "  /* fitted */\n",
       "  background-color: var(--sklearn-color-fitted-level-3);\n",
       "  color: var(--sklearn-color-background);\n",
       "  text-decoration: none;\n",
       "}\n",
       "\n",
       "/* Span, style for the box shown on hovering the info icon */\n",
       ".sk-estimator-doc-link span {\n",
       "  display: none;\n",
       "  z-index: 9999;\n",
       "  position: relative;\n",
       "  font-weight: normal;\n",
       "  right: .2ex;\n",
       "  padding: .5ex;\n",
       "  margin: .5ex;\n",
       "  width: min-content;\n",
       "  min-width: 20ex;\n",
       "  max-width: 50ex;\n",
       "  color: var(--sklearn-color-text);\n",
       "  box-shadow: 2pt 2pt 4pt #999;\n",
       "  /* unfitted */\n",
       "  background: var(--sklearn-color-unfitted-level-0);\n",
       "  border: .5pt solid var(--sklearn-color-unfitted-level-3);\n",
       "}\n",
       "\n",
       ".sk-estimator-doc-link.fitted span {\n",
       "  /* fitted */\n",
       "  background: var(--sklearn-color-fitted-level-0);\n",
       "  border: var(--sklearn-color-fitted-level-3);\n",
       "}\n",
       "\n",
       ".sk-estimator-doc-link:hover span {\n",
       "  display: block;\n",
       "}\n",
       "\n",
       "/* \"?\"-specific style due to the `<a>` HTML tag */\n",
       "\n",
       "#sk-container-id-3 a.estimator_doc_link {\n",
       "  float: right;\n",
       "  font-size: 1rem;\n",
       "  line-height: 1em;\n",
       "  font-family: monospace;\n",
       "  background-color: var(--sklearn-color-background);\n",
       "  border-radius: 1rem;\n",
       "  height: 1rem;\n",
       "  width: 1rem;\n",
       "  text-decoration: none;\n",
       "  /* unfitted */\n",
       "  color: var(--sklearn-color-unfitted-level-1);\n",
       "  border: var(--sklearn-color-unfitted-level-1) 1pt solid;\n",
       "}\n",
       "\n",
       "#sk-container-id-3 a.estimator_doc_link.fitted {\n",
       "  /* fitted */\n",
       "  border: var(--sklearn-color-fitted-level-1) 1pt solid;\n",
       "  color: var(--sklearn-color-fitted-level-1);\n",
       "}\n",
       "\n",
       "/* On hover */\n",
       "#sk-container-id-3 a.estimator_doc_link:hover {\n",
       "  /* unfitted */\n",
       "  background-color: var(--sklearn-color-unfitted-level-3);\n",
       "  color: var(--sklearn-color-background);\n",
       "  text-decoration: none;\n",
       "}\n",
       "\n",
       "#sk-container-id-3 a.estimator_doc_link.fitted:hover {\n",
       "  /* fitted */\n",
       "  background-color: var(--sklearn-color-fitted-level-3);\n",
       "}\n",
       "</style><div id=\"sk-container-id-3\" class=\"sk-top-container\"><div class=\"sk-text-repr-fallback\"><pre>LinearRegression()</pre><b>In a Jupyter environment, please rerun this cell to show the HTML representation or trust the notebook. <br />On GitHub, the HTML representation is unable to render, please try loading this page with nbviewer.org.</b></div><div class=\"sk-container\" hidden><div class=\"sk-item\"><div class=\"sk-estimator fitted sk-toggleable\"><input class=\"sk-toggleable__control sk-hidden--visually\" id=\"sk-estimator-id-3\" type=\"checkbox\" checked><label for=\"sk-estimator-id-3\" class=\"sk-toggleable__label fitted sk-toggleable__label-arrow fitted\">&nbsp;&nbsp;LinearRegression<a class=\"sk-estimator-doc-link fitted\" rel=\"noreferrer\" target=\"_blank\" href=\"https://scikit-learn.org/1.4/modules/generated/sklearn.linear_model.LinearRegression.html\">?<span>Documentation for LinearRegression</span></a><span class=\"sk-estimator-doc-link fitted\">i<span>Fitted</span></span></label><div class=\"sk-toggleable__content fitted\"><pre>LinearRegression()</pre></div> </div></div></div></div>"
      ],
      "text/plain": [
       "LinearRegression()"
      ]
     },
     "execution_count": 110,
     "metadata": {},
     "output_type": "execute_result"
    }
   ],
   "source": [
    "from sklearn.linear_model import LinearRegression\n",
    "regressor = LinearRegression()\n",
    "regressor.fit(X_train, y_train)"
   ]
  },
  {
   "cell_type": "markdown",
   "metadata": {},
   "source": [
    "# Predicting the Result"
   ]
  },
  {
   "cell_type": "code",
   "execution_count": 115,
   "metadata": {},
   "outputs": [
    {
     "name": "stdout",
     "output_type": "stream",
     "text": [
      "[[ 3950288.62  4585000.  ]\n",
      " [ 6173868.82  6083000.  ]\n",
      " [ 4483635.99  4007500.  ]\n",
      " [ 7258732.75  6930000.  ]\n",
      " [ 2836727.58  2940000.  ]\n",
      " [ 7032947.1   6195000.  ]\n",
      " [ 3203851.47  3535000.  ]\n",
      " [ 3270994.01  2940000.  ]\n",
      " [ 3472554.04  3500000.  ]\n",
      " [ 8289978.33  7980000.  ]\n",
      " [ 6605321.63  6755000.  ]\n",
      " [ 3723366.24  3990000.  ]\n",
      " [ 3812376.96  3150000.  ]\n",
      " [ 4548966.85  3290000.  ]\n",
      " [ 4020476.35  4130000.  ]\n",
      " [ 1969836.22  2660000.  ]\n",
      " [ 4057262.98  4410000.  ]\n",
      " [ 3704586.87  3710000.  ]\n",
      " [ 3282767.93  3360000.  ]\n",
      " [ 4609423.65  4270000.  ]\n",
      " [ 5968243.74  5005000.  ]\n",
      " [ 6363698.62  5383000.  ]\n",
      " [ 4751300.32  6440000.  ]\n",
      " [ 2659595.28  1890000.  ]\n",
      " [ 5305573.25  6125000.  ]\n",
      " [ 5680819.59  5460000.  ]\n",
      " [ 5404106.9   5803000.  ]\n",
      " [ 5543050.52  4620000.  ]\n",
      " [ 5768360.48  5530000.  ]\n",
      " [ 5801753.71  5950000.  ]\n",
      " [ 3389277.96  4305000.  ]\n",
      " [ 6399092.03  3640000.  ]\n",
      " [ 7081030.31  5250000.  ]\n",
      " [ 2913042.4   3325000.  ]\n",
      " [ 4498664.01  3703000.  ]\n",
      " [ 5210561.68  4753000.  ]\n",
      " [ 5013457.84  9100000.  ]\n",
      " [ 3707596.71  3500000.  ]\n",
      " [ 2916603.45  3150000.  ]\n",
      " [ 3937761.76  4270000.  ]\n",
      " [ 8041334.2   8960000.  ]\n",
      " [ 4942174.61  4060000.  ]\n",
      " [ 6432605.22  5740000.  ]\n",
      " [ 3511338.78  3129000.  ]\n",
      " [ 3813475.4   3633000.  ]\n",
      " [ 6434856.2   7560000.  ]\n",
      " [ 4447687.03  4620000.  ]\n",
      " [ 2696243.72  3290000.  ]\n",
      " [ 4180018.71  4165000.  ]\n",
      " [ 6455973.26  6650000.  ]\n",
      " [ 4056226.34  4165000.  ]\n",
      " [ 7124571.3   4690000.  ]\n",
      " [ 2530661.68  3150000.  ]\n",
      " [ 3033278.46  3850000.  ]\n",
      " [ 3500830.32  3290000.  ]\n",
      " [ 5119451.02  5075000.  ]\n",
      " [ 7110973.93  6510000.  ]\n",
      " [ 4127705.8   5740000.  ]\n",
      " [ 2970005.37  3780000.  ]\n",
      " [ 4325732.62  4795000.  ]\n",
      " [ 5986119.71  4900000.  ]\n",
      " [ 6824682.69  5460000.  ]\n",
      " [ 3325637.46  3500000.  ]\n",
      " [ 7191804.56  7525000.  ]\n",
      " [ 2609468.55  2835000.  ]\n",
      " [ 5056521.66  5495000.  ]\n",
      " [ 6636269.78  8680000.  ]\n",
      " [ 2565659.89  4200000.  ]\n",
      " [ 3751294.04  4200000.  ]\n",
      " [ 5080427.99  4900000.  ]\n",
      " [ 4281895.69  3332000.  ]\n",
      " [ 7361447.18  6195000.  ]\n",
      " [ 5088033.19  4098500.  ]\n",
      " [ 6022539.93  6650000.  ]\n",
      " [ 4176648.2   3885000.  ]\n",
      " [ 4639478.55  4620000.  ]\n",
      " [ 2898083.35  1960000.  ]\n",
      " [ 7564393.66  6440000.  ]\n",
      " [ 2583102.74  1750000.  ]\n",
      " [ 3764386.73  3605000.  ]\n",
      " [ 4281895.69  3290000.  ]\n",
      " [ 6064669.42  4970000.  ]\n",
      " [ 5199726.51  4613000.  ]\n",
      " [ 5402615.01  3850000.  ]\n",
      " [ 3900783.42  3500000.  ]\n",
      " [ 4206866.27  6107500.  ]\n",
      " [ 4785571.46  3780000.  ]\n",
      " [ 5125782.9   4900000.  ]\n",
      " [ 3843109.12  3570000.  ]\n",
      " [ 4373515.96  4340000.  ]\n",
      " [ 3233779.58  3500000.  ]\n",
      " [ 5800152.86  6300000.  ]\n",
      " [ 3086788.94  3395000.  ]\n",
      " [ 3736808.51  3815000.  ]\n",
      " [ 4475695.33  3920000.  ]\n",
      " [10490600.69 12250000.  ]\n",
      " [ 3044861.09  3080000.  ]\n",
      " [ 7172608.24  9310000.  ]\n",
      " [ 4348859.17  4270000.  ]\n",
      " [ 4508307.37  3780000.  ]\n",
      " [ 6607800.85  5600000.  ]\n",
      " [ 3393091.94  3290000.  ]\n",
      " [ 4545560.49  2380000.  ]\n",
      " [ 3313363.09  5110000.  ]\n",
      " [ 7340959.28  6650000.  ]\n",
      " [ 5235408.6   5810000.  ]\n",
      " [ 4134159.03  4123000.  ]\n",
      " [ 5058911.23  3080000.  ]\n",
      " [ 6279957.32  5530000.  ]]\n"
     ]
    }
   ],
   "source": [
    "y_pred = regressor.predict(X_test)\n",
    "np.set_printoptions(precision=2)\n",
    "print(np.concatenate((y_pred.reshape(len(y_pred),1), y_test.reshape(len(y_test),1)),1))"
   ]
  },
  {
   "cell_type": "markdown",
   "metadata": {},
   "source": [
    "# Accuracy Score"
   ]
  },
  {
   "cell_type": "code",
   "execution_count": 116,
   "metadata": {},
   "outputs": [
    {
     "name": "stdout",
     "output_type": "stream",
     "text": [
      "0.6611214250980098\n"
     ]
    }
   ],
   "source": [
    "from sklearn.metrics import r2_score\n",
    "print(r2_score(y_test,y_pred))"
   ]
  }
 ],
 "metadata": {
  "kernelspec": {
   "display_name": "Python 3.11.3 64-bit",
   "language": "python",
   "name": "python3"
  },
  "language_info": {
   "codemirror_mode": {
    "name": "ipython",
    "version": 3
   },
   "file_extension": ".py",
   "mimetype": "text/x-python",
   "name": "python",
   "nbconvert_exporter": "python",
   "pygments_lexer": "ipython3",
   "version": "3.11.3"
  },
  "orig_nbformat": 4,
  "vscode": {
   "interpreter": {
    "hash": "b0fa6594d8f4cbf19f97940f81e996739fb7646882a419484c72d19e05852a7e"
   }
  }
 },
 "nbformat": 4,
 "nbformat_minor": 2
}
